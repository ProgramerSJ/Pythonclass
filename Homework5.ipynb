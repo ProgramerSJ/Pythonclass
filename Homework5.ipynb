{
  "nbformat": 4,
  "nbformat_minor": 0,
  "metadata": {
    "colab": {
      "provenance": [],
      "authorship_tag": "ABX9TyOzDtVQOEG9Rxy+l5FIRhaV",
      "include_colab_link": true
    },
    "kernelspec": {
      "name": "python3",
      "display_name": "Python 3"
    },
    "language_info": {
      "name": "python"
    }
  },
  "cells": [
    {
      "cell_type": "markdown",
      "metadata": {
        "id": "view-in-github",
        "colab_type": "text"
      },
      "source": [
        "<a href=\"https://colab.research.google.com/github/ProgramerSJ/Pythonclass/blob/main/Homework5.ipynb\" target=\"_parent\"><img src=\"https://colab.research.google.com/assets/colab-badge.svg\" alt=\"Open In Colab\"/></a>"
      ]
    },
    {
      "cell_type": "code",
      "execution_count": null,
      "metadata": {
        "colab": {
          "base_uri": "https://localhost:8080/"
        },
        "id": "pZI6UJGzEPMR",
        "outputId": "9c5bc572-547e-46b8-e498-560240c592c8"
      },
      "outputs": [
        {
          "output_type": "stream",
          "name": "stdout",
          "text": [
            "Enter your First Name : Sung Jin\n",
            "Hello [Sung Jin]\n"
          ]
        }
      ],
      "source": [
        "#Challenges 1\n",
        "\n",
        "#Q. Ask for the user's first name and display the output message\n",
        "\n",
        "First_Name = input(\"Enter your First Name : \")\n",
        "print(\"Hello\"+\" [\"+First_Name+\"]\")"
      ]
    },
    {
      "cell_type": "code",
      "source": [
        "#Challenges 2\n",
        "\n",
        "#Q. Ask for the user's first name and then ask for their surname and display the output message.\n",
        "\n",
        "a = input(\"Enter your First Name : \")\n",
        "b = input(\"Enter your Surname : \")\n",
        "\n",
        "print(\"Hello\"+\" [\"+a+\"]\", \"[\"+b+\"]\")"
      ],
      "metadata": {
        "colab": {
          "base_uri": "https://localhost:8080/"
        },
        "id": "5wF_KDYoESNz",
        "outputId": "abbdb20f-b6a3-46c1-a4d1-94d735742096"
      },
      "execution_count": null,
      "outputs": [
        {
          "output_type": "stream",
          "name": "stdout",
          "text": [
            "Enter your First Name : Sung Jin\n",
            "Enter your Surname : Hong\n",
            "Hello [Sung Jin] [Hong]\n"
          ]
        }
      ]
    },
    {
      "cell_type": "code",
      "source": [
        "#Challenges 3\n",
        "\n",
        "#Q. Write code that will display the joke \"What do you call a bear with no teeth?\"\n",
        "# and on the next line display the answer \"A gummy bear!\" Try to\n",
        "# create it using only one line of code.\n",
        "\n",
        "print(\"What do you call a bear with no teeth? \\nA gummy bear!\")"
      ],
      "metadata": {
        "colab": {
          "base_uri": "https://localhost:8080/"
        },
        "id": "9P9hKC8lESWq",
        "outputId": "befc7525-c2dd-4f60-f822-d10dc29d0332"
      },
      "execution_count": null,
      "outputs": [
        {
          "output_type": "stream",
          "name": "stdout",
          "text": [
            "What do you call a bear with no teeth? \n",
            "A gummy bear!\n"
          ]
        }
      ]
    },
    {
      "cell_type": "code",
      "source": [
        "#Challenges 4\n",
        "\n",
        "#Q. Ask the user to enter two number.\n",
        "# Add them together and display the answer as The total is [answer].\n",
        "\n",
        "a = int(input('Enter First Value :'))\n",
        "b = int(input('Enter Second Value :'))\n",
        "answer = a + b\n",
        "print(\"The total is [\",answer,\"]\")"
      ],
      "metadata": {
        "colab": {
          "base_uri": "https://localhost:8080/"
        },
        "id": "zp-Iyci-ESez",
        "outputId": "7ce47a57-d76c-4ab1-b4a8-dea3a1409cc8"
      },
      "execution_count": null,
      "outputs": [
        {
          "output_type": "stream",
          "name": "stdout",
          "text": [
            "Enter First Value :5\n",
            "Enter Second Value :5\n",
            "The total is [ 10 ]\n"
          ]
        }
      ]
    },
    {
      "cell_type": "code",
      "source": [
        "#Challenges 5\n",
        "\n",
        "#Q. Ask the user to enter three numbers.\n",
        "# Add together the first two numbers and then multiply this total by the third.\n",
        "# Display the answer as The answer is [answer]\n",
        "\n",
        "a = int(input('Enter First Value :'))\n",
        "b = int(input('Enter Second Value :'))\n",
        "c = int(input('Enter Third Value :'))\n",
        "answer = (a+b)*c\n",
        "\n",
        "print(\"The Solution is [\",answer,\"]\")"
      ],
      "metadata": {
        "colab": {
          "base_uri": "https://localhost:8080/"
        },
        "id": "PUOmRVUgESlz",
        "outputId": "2f63e540-f7a0-43e7-9963-bb3de572a989"
      },
      "execution_count": null,
      "outputs": [
        {
          "output_type": "stream",
          "name": "stdout",
          "text": [
            "Enter First Value :5\n",
            "Enter Second Value :5\n",
            "Enter Third Value :5\n",
            "The Solution is [ 50 ]\n"
          ]
        }
      ]
    },
    {
      "cell_type": "code",
      "source": [
        "#Challenges 6\n",
        "\n",
        "#Q. Ask how many slices of pizza the user started with and ask how many slices they have eaten.\n",
        "# Work out how many slices they have left and display the answer in a user-friendly format.\n",
        "\n",
        "a = int(input('How many slices of pizza do you have at first? : '))\n",
        "b = int(input('How many slices of pizza do you eat? : '))\n",
        "c = a-b\n",
        "print(\"Then, There are\", c, \"slices of pizza left\")"
      ],
      "metadata": {
        "colab": {
          "base_uri": "https://localhost:8080/"
        },
        "id": "7oO_-YWfESsr",
        "outputId": "1b6b88f7-f08b-4683-cdd0-f876fac0869c"
      },
      "execution_count": null,
      "outputs": [
        {
          "output_type": "stream",
          "name": "stdout",
          "text": [
            "How many slices of pizza do you have at first? : 8\n",
            "How many slices of pizza do you eat? : 3\n",
            "Then, There are 5 slices of pizza left\n"
          ]
        }
      ]
    },
    {
      "cell_type": "code",
      "source": [
        "#Challenges 7\n",
        "\n",
        "#Q. Ask the user for their name and their age.\n",
        "# Add 1 to their age and display the output [Name] next birthday you will be [new age].\n",
        "\n",
        "a = input('Enter your name : ')\n",
        "b = input('Enter your age : ')\n",
        "\n",
        "print(\"[\",a,\"]\", \"next birthday you will be\", \"[\", int(b)+1,\"]\")"
      ],
      "metadata": {
        "colab": {
          "base_uri": "https://localhost:8080/"
        },
        "id": "1on-wWDyESys",
        "outputId": "e2233bb9-1a50-43be-81ff-e70ebf7c23e7"
      },
      "execution_count": null,
      "outputs": [
        {
          "output_type": "stream",
          "name": "stdout",
          "text": [
            "Enter your name : Sungjin\n",
            "Enter your age : 30\n",
            "[ Sungjin ] next birthday you will be [ 31 ]\n"
          ]
        }
      ]
    },
    {
      "cell_type": "code",
      "source": [
        "#Challenges 8\n",
        "\n",
        "#Q. Ask for the total price of the bill, then ask how many diners there are.\n",
        "# Divide the total bill by the number of diners and show how much each person must pay.\n",
        "\n",
        "a = int(input('Total price of the bill : '))\n",
        "b = int(input('How many diners you are? : '))\n",
        "c = a / b\n",
        "\n",
        "print(\"Each person must pay [\",c,\"]\")\n"
      ],
      "metadata": {
        "colab": {
          "base_uri": "https://localhost:8080/"
        },
        "id": "4yGX2Mj9ES5G",
        "outputId": "4fa30ebc-441c-4970-956c-187d4235e22d"
      },
      "execution_count": null,
      "outputs": [
        {
          "output_type": "stream",
          "name": "stdout",
          "text": [
            "Total price of the bill : 100000\n",
            "How many diners you are? : 5\n",
            "Each person must pay [ 20000.0 ]\n"
          ]
        }
      ]
    },
    {
      "cell_type": "code",
      "source": [
        "#Challenges 9\n",
        "\n",
        "#Q. Write a program that will ask for a number of days and then will show how many hours,\n",
        "# minutes and seconds are in that number of days.\n",
        "\n",
        "days = input('Enter number of days : ')\n",
        "\n",
        "print(\"The program is Date calculator\" \"\\n[\", int(days), \"days ]\" \"\\n[\", int(days)*24, \"hours ]\" \n",
        "      \"\\n[\", int(days)*24*60, \"minutes ]\" \"\\n[\", int(days)*24*60*60, \"seconds ]\")"
      ],
      "metadata": {
        "colab": {
          "base_uri": "https://localhost:8080/"
        },
        "id": "Sps-DfzIES_j",
        "outputId": "d8a1844c-6b08-4a5b-874b-945ad0360789"
      },
      "execution_count": null,
      "outputs": [
        {
          "output_type": "stream",
          "name": "stdout",
          "text": [
            "Enter number of days : 11\n",
            "The program is Date calculator\n",
            "[ 11 days ]\n",
            "[ 264 hours ]\n",
            "[ 15840 minutes ]\n",
            "[ 950400 seconds ]\n"
          ]
        }
      ]
    },
    {
      "cell_type": "code",
      "source": [
        "#Challenges 10\n",
        "\n",
        "#Q. There are 2.204 pounds in a kilogram.\n",
        "# Ask the user to enter a weight in kilograms and convert it to pounds.\n",
        "\n",
        "weight = input('Enter your weight(kg) :')\n",
        "\n",
        "print(\"Your weight(lb) is \" \"[\", int(weight)*2.204, \"lb ]\")"
      ],
      "metadata": {
        "colab": {
          "base_uri": "https://localhost:8080/"
        },
        "id": "xCnKOaNVETFz",
        "outputId": "4b7a960c-b254-4271-f768-489a0683702e"
      },
      "execution_count": null,
      "outputs": [
        {
          "output_type": "stream",
          "name": "stdout",
          "text": [
            "Enter your weight(kg) :100\n",
            "Your weight(lb) is [ 220.4 lb ]\n"
          ]
        }
      ]
    },
    {
      "cell_type": "code",
      "source": [
        "#Challenges 11\n",
        "\n",
        "#Q. Task the user to enter a number over 100 and then enter a number under 10 and\n",
        "# tell them how many times the smaller number goes into the larger number in a user-friendly format.\n",
        "\n",
        "a = int(input('Enter a number over 100 at random : '))\n",
        "b = int(input('Enter a number under 10 at random : '))\n",
        "c = int(a/b)\n",
        "\n",
        "print(b, \"goes into\", int(a), int(c),\"times.\")\n"
      ],
      "metadata": {
        "colab": {
          "base_uri": "https://localhost:8080/"
        },
        "id": "ejAP3NdcETLz",
        "outputId": "9af73219-b2d9-4ff5-fb52-35b10564e6af"
      },
      "execution_count": null,
      "outputs": [
        {
          "output_type": "stream",
          "name": "stdout",
          "text": [
            "Enter a number over 100 at random : 150\n",
            "Enter a number under 10 at random : 3\n",
            "3 goes into 150 50 times.\n"
          ]
        }
      ]
    }
  ]
}