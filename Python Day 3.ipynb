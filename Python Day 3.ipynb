{
 "cells": [
  {
   "cell_type": "code",
   "execution_count": 1,
   "metadata": {},
   "outputs": [
    {
     "name": "stdout",
     "output_type": "stream",
     "text": [
      "Hello World!!\n"
     ]
    }
   ],
   "source": [
    "print(\"Hello World!!\")"
   ]
  },
  {
   "cell_type": "code",
   "execution_count": 2,
   "metadata": {},
   "outputs": [],
   "source": [
    "# 함수의 4가지 형태\n",
    "\n",
    "# 1) input 과 output 모두 있는 형태 (가장 많이 사용되는 형태)\n",
    "# 2) input 과 output 모두 없는 형태\n",
    "# 3) input 만 있는 형태\n",
    "# 4) output 만 있는 형태"
   ]
  },
  {
   "cell_type": "code",
   "execution_count": 4,
   "metadata": {},
   "outputs": [
    {
     "name": "stdout",
     "output_type": "stream",
     "text": [
      "5\n"
     ]
    }
   ],
   "source": [
    "# 1) input 과 output 모두 있는 형태 (가장 많이 사용되는 형태)\n",
    "\n",
    "def add(a,b): # a와 b라는 입력\n",
    "    return a+b # return 이라는 키워드가 있으면, output이 존재함.(return이 없으면 output이 없는 것)\n",
    "\n",
    "print(add(1,4))"
   ]
  },
  {
   "cell_type": "code",
   "execution_count": 6,
   "metadata": {},
   "outputs": [
    {
     "name": "stdout",
     "output_type": "stream",
     "text": [
      "hello\n"
     ]
    }
   ],
   "source": [
    "# 2) input 과 output 모두 없는 형태\n",
    "\n",
    "def say(): # 괄호안에 아무런 값이 없으면, input 은 없는 것임.\n",
    "    print(\"hello\") # return 키워드가 없으면, output 은 없는 것임.\n",
    "\n",
    "say()"
   ]
  },
  {
   "cell_type": "code",
   "execution_count": 8,
   "metadata": {},
   "outputs": [
    {
     "name": "stdout",
     "output_type": "stream",
     "text": [
      "홍길동 님 환영합니다. \n"
     ]
    }
   ],
   "source": [
    "# 3) input 만 있는 형태\n",
    "\n",
    "def inputonly(name):\n",
    "    print(name, \"님 환영합니다. \") # return이 없으면, output 은 없는 것임.(같은 수준에 올 수 없음.)\n",
    "\n",
    "inputonly(\"홍길동\")"
   ]
  },
  {
   "cell_type": "code",
   "execution_count": 9,
   "metadata": {},
   "outputs": [
    {
     "data": {
      "text/plain": [
       "'Hello World'"
      ]
     },
     "execution_count": 9,
     "metadata": {},
     "output_type": "execute_result"
    }
   ],
   "source": [
    "# 4) output 만 있는 형태\n",
    "\n",
    "def outputonly(): # 괄호안에 아무런 값이 없으면, input 은 없는 것임.\n",
    "    return \"Hello World\"\n",
    "\n",
    "outputonly()"
   ]
  },
  {
   "cell_type": "code",
   "execution_count": 12,
   "metadata": {},
   "outputs": [
    {
     "name": "stdout",
     "output_type": "stream",
     "text": [
      "3\n",
      "6\n"
     ]
    }
   ],
   "source": [
    "def sumfunction1(a, b):\n",
    "    return a+b\n",
    "\n",
    "print(sumfunction1(1,2))\n",
    "\n",
    "def sumfunction2(a, b, c):\n",
    "    return a+b+c\n",
    "\n",
    "print(sumfunction2(1,2,3))"
   ]
  },
  {
   "cell_type": "code",
   "execution_count": 15,
   "metadata": {},
   "outputs": [
    {
     "name": "stdout",
     "output_type": "stream",
     "text": [
      "3\n",
      "6\n",
      "10\n"
     ]
    }
   ],
   "source": [
    "# 함수의 인수의 개수가 일정하지 않을 경우 처리 방법 특징\n",
    "def sumfunction(*args):\n",
    "    result = 0\n",
    "    for i in args:\n",
    "        result = result + i\n",
    "    return result\n",
    "\n",
    "print(sumfunction(1,2))\n",
    "print(sumfunction(1,2,3))\n",
    "print(sumfunction(1,2,3,4))"
   ]
  },
  {
   "cell_type": "code",
   "execution_count": 18,
   "metadata": {},
   "outputs": [
    {
     "name": "stdout",
     "output_type": "stream",
     "text": [
      "(5, 6)\n",
      "5\n",
      "6\n"
     ]
    }
   ],
   "source": [
    "# 함수의 결과 값은 언제나 '하나' 라는 특징\n",
    "\n",
    "def add_mul(a, b): # 두 개의 기능을 가진 함수\n",
    "    return a+b, a*b\n",
    "\n",
    "print(add_mul(2,3)) # 결과는 두 결과가 포함된 튜플 '하나'로 출력됨.\n",
    "\n",
    "res1, res2 = add_mul(2,3) # 각 결과를 인덱싱\n",
    "print(res1)\n",
    "print(res2)"
   ]
  },
  {
   "cell_type": "code",
   "execution_count": 21,
   "metadata": {},
   "outputs": [
    {
     "name": "stdout",
     "output_type": "stream",
     "text": [
      "5\n"
     ]
    }
   ],
   "source": [
    "def add_mul(a, b):\n",
    "    return a+b \n",
    "    return a*b  # 곱하기 결과는 수행되지 않음.\n",
    "                # 새로운 return을 만나면 함수에서 나간다는 특징이 있음.\n",
    "\n",
    "res = add_mul(2,3)\n",
    "print(res)"
   ]
  },
  {
   "cell_type": "code",
   "execution_count": 23,
   "metadata": {},
   "outputs": [
    {
     "name": "stdout",
     "output_type": "stream",
     "text": [
      "Hello nick\n",
      "Hello jane\n"
     ]
    }
   ],
   "source": [
    "# return 의 마지막 특징\n",
    "\n",
    "def sayhello(name):\n",
    "    if name == \"austin\":\n",
    "        return\n",
    "    print(\"Hello\", name)\n",
    "\n",
    "sayhello(\"nick\")\n",
    "sayhello(\"austin\")\n",
    "sayhello(\"jane\")"
   ]
  },
  {
   "cell_type": "code",
   "execution_count": 26,
   "metadata": {},
   "outputs": [
    {
     "name": "stdout",
     "output_type": "stream",
     "text": [
      "내 이름은 홍길동 이고 나이는 21 이며 남성입니다.\n",
      "내 이름은 이몽룡 이고 나이는 14 이며 남성입니다.\n",
      "내 이름은 성춘향 이고 나이는 13 이며 여성입니다.\n"
     ]
    }
   ],
   "source": [
    "# 매개변수에 미리 초기값을 설정하는 특징\n",
    "\n",
    "def sayname(name, age, man=True):\n",
    "    print(\"내 이름은\",name,\"이고 나이는\",age,\"이며\",end=\" \")\n",
    "    if man:\n",
    "        print(\"남성입니다.\")\n",
    "    else :\n",
    "        print(\"여성입니다.\")\n",
    "\n",
    "sayname(\"홍길동\",21) # 3번째 값을 넣지 않으면 defalut 값 = True\n",
    "sayname(\"이몽룡\",14,True)\n",
    "sayname(\"성춘향\",13,False)"
   ]
  },
  {
   "cell_type": "code",
   "execution_count": 33,
   "metadata": {},
   "outputs": [
    {
     "name": "stdout",
     "output_type": "stream",
     "text": [
      "나의 이름은 홍길동이고, 나이는 18입니다.\n"
     ]
    }
   ],
   "source": [
    "# f 스트링으로 출력하는 방법\n",
    "\n",
    "name = \"홍길동\"\n",
    "age = 18\n",
    "print(f\"나의 이름은 {name}이고, 나이는 {age}입니다.\")\n"
   ]
  },
  {
   "cell_type": "code",
   "execution_count": 36,
   "metadata": {},
   "outputs": [
    {
     "name": "stdout",
     "output_type": "stream",
     "text": [
      "1\n"
     ]
    }
   ],
   "source": [
    "# 함수 안에서의 변후 영향 범위 = 전역변수/지역변수 global variable/local variable\n",
    "\n",
    "a = 1\n",
    "def varexam(a):\n",
    "    a += 1 # 함수 안에서의 변수값은 함수 밖에서는 전혀 영향을 미치지 않음.\n",
    "\n",
    "varexam(a)\n",
    "print(a)"
   ]
  },
  {
   "cell_type": "code",
   "execution_count": 42,
   "metadata": {},
   "outputs": [
    {
     "name": "stdout",
     "output_type": "stream",
     "text": [
      "2\n",
      "1\n"
     ]
    }
   ],
   "source": [
    "# 바람직한 방법 (지역 변수로 사용)\n",
    "\n",
    "a = 1\n",
    "def varexam(b):\n",
    "    b += 1 # 함수 안에서의 변수값은 함수 밖에서는 전혀 영향을 미치지 않음.\n",
    "    return b # 그것을 가지고 나간다는 의미\n",
    "\n",
    "print(varexam(a))\n",
    "print(a)"
   ]
  },
  {
   "cell_type": "code",
   "execution_count": 43,
   "metadata": {},
   "outputs": [
    {
     "name": "stdout",
     "output_type": "stream",
     "text": [
      "2\n"
     ]
    }
   ],
   "source": [
    "# 위험한 방법 (전역 변수로 사용)\n",
    "\n",
    "a = 1\n",
    "def varexam():\n",
    "    global a # 변수 a를 함수 안에서 선언하면, 전역 변수가 됨.\n",
    "    a = a + 1\n",
    "\n",
    "varexam()\n",
    "print(a)"
   ]
  },
  {
   "cell_type": "code",
   "execution_count": 90,
   "metadata": {},
   "outputs": [
    {
     "name": "stdout",
     "output_type": "stream",
     "text": [
      "홀수입니다.\n",
      "짝수입니다.\n"
     ]
    }
   ],
   "source": [
    "# Quiz 1\n",
    "\n",
    "def is_odd(a):\n",
    "    if a % 2==0:\n",
    "        print(\"짝수입니다.\")\n",
    "    else :\n",
    "        print(\"홀수입니다.\")\n",
    "\n",
    "is_odd(3)\n",
    "is_odd(4)"
   ]
  },
  {
   "cell_type": "code",
   "execution_count": 94,
   "metadata": {},
   "outputs": [
    {
     "name": "stdout",
     "output_type": "stream",
     "text": [
      "2.0\n",
      "3.0\n",
      "5.5\n"
     ]
    }
   ],
   "source": [
    "# Quiz 2\n",
    "\n",
    "def avgnum(*args):\n",
    "    result = 0\n",
    "    for i in args :\n",
    "        result = result+int(i)\n",
    "    return result/int(len(args))\n",
    "\n",
    "print(avgnum(1,2,3))\n",
    "print(avgnum(1,2,3,4,5))\n",
    "print(avgnum(1,2,3,4,5,6,7,8,9,10))"
   ]
  },
  {
   "cell_type": "code",
   "execution_count": 96,
   "metadata": {},
   "outputs": [],
   "source": [
    "# 새로운 .txt 파일 만들기\n",
    "\n",
    "f = open(\"newfile.txt\",\"w\") # \"w\" 기록하기\n",
    "f.close() # 열게 되면 다시 닫기\n"
   ]
  },
  {
   "cell_type": "code",
   "execution_count": 99,
   "metadata": {},
   "outputs": [],
   "source": [
    "# 파일에 내용 넣기\n",
    "\n",
    "f = open(\"newfile2.txt\",\"w\") # 새 파일 만들어서 열고\n",
    "\n",
    "for i in range(1,11):        # 파일에 여러 데이터 넣기\n",
    "    data = \"%d line in the file.\\n\" % i \n",
    "    f.write(data)\n",
    "\n",
    "f.close()                    # 파일 닫기"
   ]
  },
  {
   "cell_type": "code",
   "execution_count": 101,
   "metadata": {},
   "outputs": [
    {
     "name": "stdout",
     "output_type": "stream",
     "text": [
      "1 line in the file.\n",
      "\n",
      "2 line in the file.\n",
      "\n",
      "3 line in the file.\n",
      "\n",
      "4 line in the file.\n",
      "\n",
      "5 line in the file.\n",
      "\n",
      "6 line in the file.\n",
      "\n",
      "7 line in the file.\n",
      "\n",
      "8 line in the file.\n",
      "\n",
      "9 line in the file.\n",
      "\n",
      "10 line in the file.\n",
      "\n"
     ]
    }
   ],
   "source": [
    "# 파일 읽어오기\n",
    "\n",
    "f = open(\"newfile2.txt\",\"r\") # \"r\" 읽기 => 어떤 파일을 읽기 위해서 열고\n",
    "\n",
    "while True:\n",
    "    line = f.readline()\n",
    "    if not line: break\n",
    "    print(line)\n",
    "\n",
    "f.close()"
   ]
  },
  {
   "cell_type": "code",
   "execution_count": 104,
   "metadata": {},
   "outputs": [
    {
     "name": "stdout",
     "output_type": "stream",
     "text": [
      "3\n",
      "5\n",
      "1\n",
      "3\n"
     ]
    }
   ],
   "source": [
    "# OOP 사용의 필요성\n",
    "\n",
    "result = 0\n",
    "\n",
    "def add1(num):\n",
    "    global result\n",
    "    result += num # 계산기1 구현 \n",
    "    return result\n",
    "\n",
    "result2 = 0\n",
    "\n",
    "def add2(num):\n",
    "    global result2\n",
    "    result2 += num # 계산기2 구현 \n",
    "    return result2\n",
    "\n",
    "print(add1(3))\n",
    "print(add1(2))\n",
    "print(add2(1))\n",
    "print(add2(2))"
   ]
  },
  {
   "cell_type": "code",
   "execution_count": 106,
   "metadata": {},
   "outputs": [
    {
     "name": "stdout",
     "output_type": "stream",
     "text": [
      "3\n",
      "5\n",
      "1\n",
      "3\n",
      "1\n",
      "3\n",
      "6\n"
     ]
    }
   ],
   "source": [
    "# OOP 사용\n",
    "\n",
    "class Cal:              # 클래스(붕어빵 기계)\n",
    "\n",
    "    def __init__(self): # 생성자 Double under bar __ <= Dunder init\n",
    "        self.result = 0\n",
    "\n",
    "    def add(self,num):  # 매서드 (함수가 아닌 매서드)\n",
    "        self.result += num \n",
    "        return self.result # 설계도 완성\n",
    "\n",
    "cal1 = Cal()\n",
    "cal2 = Cal()\n",
    "cal3 = Cal() # 3대의 계산기 => 계산기별로 각기 다른 성질을 유지함(결과).\n",
    "\n",
    "print(cal1.add(3))\n",
    "print(cal1.add(2))\n",
    "\n",
    "print(cal2.add(1))\n",
    "print(cal2.add(2))\n",
    "\n",
    "print(cal3.add(1))\n",
    "print(cal3.add(2))\n",
    "print(cal3.add(3))"
   ]
  },
  {
   "cell_type": "code",
   "execution_count": 112,
   "metadata": {},
   "outputs": [
    {
     "name": "stdout",
     "output_type": "stream",
     "text": [
      "3\n",
      "5\n",
      "1\n",
      "3\n",
      "1\n",
      "2\n",
      "6\n",
      "18\n"
     ]
    }
   ],
   "source": [
    "class Cal:              \n",
    "\n",
    "    def __init__(self): \n",
    "        self.result = 0\n",
    "\n",
    "    def add(self,num):  \n",
    "        self.result += num \n",
    "        return self.result \n",
    "\n",
    "    def mul(self,num):  \n",
    "        self.result *= num \n",
    "        return self.result \n",
    "\n",
    "cal1 = Cal()\n",
    "cal2 = Cal()\n",
    "cal3 = Cal() \n",
    "\n",
    "print(cal1.add(3))\n",
    "print(cal1.add(2))\n",
    "\n",
    "print(cal2.add(1))\n",
    "print(cal2.add(2))\n",
    "\n",
    "print(cal3.add(1))\n",
    "print(cal3.mul(2))\n",
    "print(cal3.mul(3))\n",
    "print(cal3.mul(3))\n"
   ]
  },
  {
   "cell_type": "code",
   "execution_count": 117,
   "metadata": {},
   "outputs": [
    {
     "name": "stdout",
     "output_type": "stream",
     "text": [
      "3\n",
      "5\n"
     ]
    }
   ],
   "source": [
    "class Cal:\n",
    "    \n",
    "    def add(self, first, second):\n",
    "        result = first + second\n",
    "        return result\n",
    "\n",
    "cal1 = Cal()\n",
    "cal2 = Cal()\n",
    "\n",
    "print(cal1.add(1, 2))\n",
    "print(cal2.add(2, 3))\n"
   ]
  },
  {
   "cell_type": "code",
   "execution_count": 120,
   "metadata": {},
   "outputs": [
    {
     "name": "stdout",
     "output_type": "stream",
     "text": [
      "3\n",
      "5\n",
      "2\n",
      "6\n"
     ]
    }
   ],
   "source": [
    "class Cal:\n",
    "    \n",
    "    def add(self, first, second): #self 의 개념 및 활용 (1)\n",
    "        result1 = first + second\n",
    "        return result1\n",
    "\n",
    "    def mul(self, first, second):\n",
    "        result2 = first * second\n",
    "        return result2\n",
    "        \n",
    "cal1 = Cal()\n",
    "cal2 = Cal()\n",
    "\n",
    "print(cal1.add(1, 2))\n",
    "print(cal2.add(2, 3))\n",
    "\n",
    "print(cal1.mul(1, 2))\n",
    "print(cal2.mul(2, 3))"
   ]
  },
  {
   "cell_type": "code",
   "execution_count": 125,
   "metadata": {},
   "outputs": [
    {
     "name": "stdout",
     "output_type": "stream",
     "text": [
      "3\n",
      "2\n",
      "7\n",
      "12\n"
     ]
    }
   ],
   "source": [
    "class Cal:\n",
    "    def setdata(self, first, second): #self 의 개념 및 활용 (2) setdata 활용\n",
    "        self.first = first\n",
    "        self.second = second    \n",
    "    \n",
    "    def add(self):\n",
    "        result = self.first + self.second\n",
    "        return result\n",
    "\n",
    "    def mul(self):\n",
    "        result = self.first * self.second\n",
    "        return result\n",
    "        \n",
    "cal1 = Cal()\n",
    "cal1.setdata(1,2) \n",
    "\n",
    "print(cal1.add())\n",
    "print(cal1.mul())\n",
    "\n",
    "cal2 = Cal()\n",
    "cal2.setdata(3,4)\n",
    "\n",
    "print(cal2.add())\n",
    "print(cal2.mul())"
   ]
  },
  {
   "cell_type": "code",
   "execution_count": 127,
   "metadata": {},
   "outputs": [
    {
     "name": "stdout",
     "output_type": "stream",
     "text": [
      "3\n",
      "2\n",
      "7\n",
      "12\n"
     ]
    }
   ],
   "source": [
    "# 생성자 Constructor : 객체를 찍을 때 자동으로 호출됨 cal.setadata() < 가 필요 없어짐\n",
    "\n",
    "class Cal:\n",
    "    def __init__(self,first,second): #self 의 개념 및 활용 (3) dunder init 활용\n",
    "        self.first = first\n",
    "        self.second = second    \n",
    "    \n",
    "    def add(self):\n",
    "        result = self.first + self.second\n",
    "        return result\n",
    "\n",
    "    def mul(self):\n",
    "        result = self.first * self.second\n",
    "        return result\n",
    "        \n",
    "cal1 = Cal(1,2) # cal1.setdata(1,2) \n",
    "\n",
    "print(cal1.add())\n",
    "print(cal1.mul())\n",
    "\n",
    "cal2 = Cal(3,4) # cal2.setdata(3,4)\n",
    "\n",
    "print(cal2.add())\n",
    "print(cal2.mul())"
   ]
  },
  {
   "cell_type": "code",
   "execution_count": 131,
   "metadata": {},
   "outputs": [
    {
     "data": {
      "text/plain": [
       "3"
      ]
     },
     "execution_count": 131,
     "metadata": {},
     "output_type": "execute_result"
    }
   ],
   "source": [
    "# 상속\n",
    "\n",
    "class Cal:\n",
    "    def __init__(self,first,second): \n",
    "        self.first = first\n",
    "        self.second = second    \n",
    "    \n",
    "    def add(self):\n",
    "        result = self.first + self.second\n",
    "        return result\n",
    "\n",
    "    def mul(self):\n",
    "        result = self.first * self.second\n",
    "        return result\n",
    "\n",
    "\n",
    "class MoreCal(Cal):\n",
    "    def sub(self):\n",
    "        result = self.first - self.second\n",
    "        return result\n",
    "\n",
    "cal3 = MoreCal(3,2)\n",
    "# cal3.add() 부모 class는 출력이 가능함.\n",
    "cal3.sub()\n",
    "\n",
    "cal4 = Cal(2,1)\n",
    "cal4.add()\n",
    "# cal4.sub() 자식 class는 출력이 불가능함."
   ]
  },
  {
   "cell_type": "code",
   "execution_count": 136,
   "metadata": {},
   "outputs": [
    {
     "data": {
      "text/plain": [
       "'계산 불가입니다.'"
      ]
     },
     "execution_count": 136,
     "metadata": {},
     "output_type": "execute_result"
    }
   ],
   "source": [
    "# 매서드 오버라이딩\n",
    "\n",
    "class Cal:\n",
    "    def __init__(self,first,second): \n",
    "        self.first = first\n",
    "        self.second = second    \n",
    "    \n",
    "    def add(self):\n",
    "        result = self.first + self.second\n",
    "        return result\n",
    "\n",
    "    def mul(self):\n",
    "        result = self.first * self.second\n",
    "        return result\n",
    "\n",
    "    def div(self):\n",
    "        result = self.first / self.second\n",
    "        return result\n",
    "\n",
    "\n",
    "class MoreCal(Cal):\n",
    "    def sub(self):\n",
    "        result = self.first - self.second\n",
    "        return result\n",
    "\n",
    "    def div(self):\n",
    "        if self.second == 0:\n",
    "            return \"계산 불가입니다.\"\n",
    "        else :\n",
    "           result = self.first / self.second\n",
    "           return result\n",
    "\n",
    "# cal5 = Cal(2,0) # 0으로 나누면 에러가 발생함.\n",
    "cal5 = MoreCal(2,0) # 에러를 개선하여 덮어씀. / 아에 새로운 내용으로도 가능함.\n",
    "cal5.div()\n",
    "\n"
   ]
  },
  {
   "cell_type": "code",
   "execution_count": 138,
   "metadata": {},
   "outputs": [
    {
     "ename": "TypeError",
     "evalue": "add() missing 1 required positional argument: 'd'",
     "output_type": "error",
     "traceback": [
      "\u001b[1;31m---------------------------------------------------------------------------\u001b[0m",
      "\u001b[1;31mTypeError\u001b[0m                                 Traceback (most recent call last)",
      "\u001b[1;32m~\\AppData\\Local\\Temp\\ipykernel_6556\\2575192085.py\u001b[0m in \u001b[0;36m<module>\u001b[1;34m\u001b[0m\n\u001b[0;32m     11\u001b[0m \u001b[0mcal1\u001b[0m \u001b[1;33m=\u001b[0m \u001b[0mCal\u001b[0m\u001b[1;33m(\u001b[0m\u001b[1;33m)\u001b[0m\u001b[1;33m\u001b[0m\u001b[1;33m\u001b[0m\u001b[0m\n\u001b[0;32m     12\u001b[0m \u001b[1;33m\u001b[0m\u001b[0m\n\u001b[1;32m---> 13\u001b[1;33m \u001b[0mprint\u001b[0m\u001b[1;33m(\u001b[0m\u001b[0mcal1\u001b[0m\u001b[1;33m.\u001b[0m\u001b[0madd\u001b[0m\u001b[1;33m(\u001b[0m\u001b[1;36m1\u001b[0m\u001b[1;33m,\u001b[0m\u001b[1;36m2\u001b[0m\u001b[1;33m)\u001b[0m\u001b[1;33m)\u001b[0m\u001b[1;33m\u001b[0m\u001b[1;33m\u001b[0m\u001b[0m\n\u001b[0m\u001b[0;32m     14\u001b[0m \u001b[0mprint\u001b[0m\u001b[1;33m(\u001b[0m\u001b[0mcal1\u001b[0m\u001b[1;33m.\u001b[0m\u001b[0madd\u001b[0m\u001b[1;33m(\u001b[0m\u001b[1;36m1\u001b[0m\u001b[1;33m,\u001b[0m\u001b[1;36m2\u001b[0m\u001b[1;33m,\u001b[0m\u001b[1;36m3\u001b[0m\u001b[1;33m)\u001b[0m\u001b[1;33m)\u001b[0m\u001b[1;33m\u001b[0m\u001b[1;33m\u001b[0m\u001b[0m\n\u001b[0;32m     15\u001b[0m \u001b[0mprint\u001b[0m\u001b[1;33m(\u001b[0m\u001b[0mcal1\u001b[0m\u001b[1;33m.\u001b[0m\u001b[0madd\u001b[0m\u001b[1;33m(\u001b[0m\u001b[1;36m1\u001b[0m\u001b[1;33m,\u001b[0m\u001b[1;36m2\u001b[0m\u001b[1;33m,\u001b[0m\u001b[1;36m3\u001b[0m\u001b[1;33m,\u001b[0m\u001b[1;36m4\u001b[0m\u001b[1;33m)\u001b[0m\u001b[1;33m)\u001b[0m\u001b[1;33m\u001b[0m\u001b[1;33m\u001b[0m\u001b[0m\n",
      "\u001b[1;31mTypeError\u001b[0m: add() missing 1 required positional argument: 'd'"
     ]
    }
   ],
   "source": [
    "# 매서드 오버로딩 (파이썬에선 오버로딩을 지원하지 않음)\n",
    "\n",
    "class Cal:\n",
    "    def add(a,b):\n",
    "        return a+b\n",
    "    def add(a,b,c):\n",
    "        return a+b+c\n",
    "    def add(a,b,c,d):\n",
    "        return a+b+c+d\n",
    "\n",
    "cal1 = Cal()\n",
    "\n",
    "print(cal1.add(1,2))\n",
    "print(cal1.add(1,2,3))\n",
    "print(cal1.add(1,2,3,4))"
   ]
  },
  {
   "cell_type": "code",
   "execution_count": 140,
   "metadata": {},
   "outputs": [
    {
     "ename": "ZeroDivisionError",
     "evalue": "division by zero",
     "output_type": "error",
     "traceback": [
      "\u001b[1;31m---------------------------------------------------------------------------\u001b[0m",
      "\u001b[1;31mZeroDivisionError\u001b[0m                         Traceback (most recent call last)",
      "\u001b[1;32m~\\AppData\\Local\\Temp\\ipykernel_6556\\3203146516.py\u001b[0m in \u001b[0;36m<module>\u001b[1;34m\u001b[0m\n\u001b[0;32m      1\u001b[0m \u001b[1;31m# 예외처리\u001b[0m\u001b[1;33m\u001b[0m\u001b[1;33m\u001b[0m\u001b[0m\n\u001b[1;32m----> 2\u001b[1;33m \u001b[1;36m4\u001b[0m \u001b[1;33m/\u001b[0m \u001b[1;36m0\u001b[0m \u001b[1;31m# ZeroDivisionError =>\u001b[0m\u001b[1;33m\u001b[0m\u001b[1;33m\u001b[0m\u001b[0m\n\u001b[0m",
      "\u001b[1;31mZeroDivisionError\u001b[0m: division by zero"
     ]
    }
   ],
   "source": [
    "# 예외처리\n",
    "4 / 0 # ZeroDivisionError => "
   ]
  },
  {
   "cell_type": "code",
   "execution_count": 144,
   "metadata": {},
   "outputs": [
    {
     "name": "stdout",
     "output_type": "stream",
     "text": [
      "에러가 발생했습니다.\n"
     ]
    }
   ],
   "source": [
    "# 단일 예외 처리 (1)\n",
    "\n",
    "try:\n",
    "    4 / 0\n",
    "except:\n",
    "    print(\"에러가 발생했습니다.\")"
   ]
  },
  {
   "cell_type": "code",
   "execution_count": 148,
   "metadata": {},
   "outputs": [
    {
     "name": "stdout",
     "output_type": "stream",
     "text": [
      "에러가 발생했습니다.\n",
      "프로그램을 종료합니다.\n"
     ]
    }
   ],
   "source": [
    "# 단일 예외 처리 (2)\n",
    "\n",
    "try:\n",
    "    4 / 0\n",
    "except:\n",
    "    print(\"에러가 발생했습니다.\")\n",
    "finally: # 생략 가능\n",
    "    print(\"프로그램을 종료합니다.\") # 에러 발생 유무와 상관없이 항상 마지막에 실행"
   ]
  },
  {
   "cell_type": "code",
   "execution_count": 157,
   "metadata": {},
   "outputs": [
    {
     "name": "stdout",
     "output_type": "stream",
     "text": [
      "예외가 발생되었습니다.\n"
     ]
    }
   ],
   "source": [
    "# 여러 예외 처리 (1)\n",
    "\n",
    "try:\n",
    "    a = [1, 2]\n",
    "    print(a[2]) # 여기서 터지면 바로 예외가 발생\n",
    "    print(4/2) # 여기서 에러가 발생하지 않아도 첫번째 에러가 발생하였으므로 예외 발생\n",
    "except:\n",
    "    print(\"예외가 발생되었습니다.\")"
   ]
  },
  {
   "cell_type": "code",
   "execution_count": 158,
   "metadata": {},
   "outputs": [
    {
     "ename": "IndexError",
     "evalue": "list index out of range",
     "output_type": "error",
     "traceback": [
      "\u001b[1;31m---------------------------------------------------------------------------\u001b[0m",
      "\u001b[1;31mIndexError\u001b[0m                                Traceback (most recent call last)",
      "\u001b[1;32m~\\AppData\\Local\\Temp\\ipykernel_6556\\1198192279.py\u001b[0m in \u001b[0;36m<module>\u001b[1;34m\u001b[0m\n\u001b[0;32m      1\u001b[0m \u001b[0ma\u001b[0m \u001b[1;33m=\u001b[0m \u001b[1;33m[\u001b[0m\u001b[1;36m1\u001b[0m\u001b[1;33m,\u001b[0m \u001b[1;36m2\u001b[0m\u001b[1;33m]\u001b[0m\u001b[1;33m\u001b[0m\u001b[1;33m\u001b[0m\u001b[0m\n\u001b[1;32m----> 2\u001b[1;33m \u001b[0mprint\u001b[0m\u001b[1;33m(\u001b[0m\u001b[0ma\u001b[0m\u001b[1;33m[\u001b[0m\u001b[1;36m2\u001b[0m\u001b[1;33m]\u001b[0m\u001b[1;33m)\u001b[0m\u001b[1;33m\u001b[0m\u001b[1;33m\u001b[0m\u001b[0m\n\u001b[0m",
      "\u001b[1;31mIndexError\u001b[0m: list index out of range"
     ]
    }
   ],
   "source": [
    "a = [1, 2]\n",
    "print(a[2]) # 에러를 발생시켜 에러의 이름을 찾아냄(1)."
   ]
  },
  {
   "cell_type": "code",
   "execution_count": 155,
   "metadata": {},
   "outputs": [
    {
     "ename": "ZeroDivisionError",
     "evalue": "division by zero",
     "output_type": "error",
     "traceback": [
      "\u001b[1;31m---------------------------------------------------------------------------\u001b[0m",
      "\u001b[1;31mZeroDivisionError\u001b[0m                         Traceback (most recent call last)",
      "\u001b[1;32m~\\AppData\\Local\\Temp\\ipykernel_6556\\1664218486.py\u001b[0m in \u001b[0;36m<module>\u001b[1;34m\u001b[0m\n\u001b[0;32m      1\u001b[0m \u001b[0ma\u001b[0m \u001b[1;33m=\u001b[0m \u001b[1;33m[\u001b[0m\u001b[1;36m1\u001b[0m\u001b[1;33m,\u001b[0m \u001b[1;36m2\u001b[0m\u001b[1;33m]\u001b[0m\u001b[1;33m\u001b[0m\u001b[1;33m\u001b[0m\u001b[0m\n\u001b[1;32m----> 2\u001b[1;33m \u001b[0mprint\u001b[0m\u001b[1;33m(\u001b[0m\u001b[1;36m4\u001b[0m\u001b[1;33m/\u001b[0m\u001b[1;36m0\u001b[0m\u001b[1;33m)\u001b[0m\u001b[1;33m\u001b[0m\u001b[1;33m\u001b[0m\u001b[0m\n\u001b[0m",
      "\u001b[1;31mZeroDivisionError\u001b[0m: division by zero"
     ]
    }
   ],
   "source": [
    "a = [1, 2]\n",
    "print(4/0) #에러를 발생시켜 에러의 이름을 찾아냄(2)."
   ]
  },
  {
   "cell_type": "code",
   "execution_count": 163,
   "metadata": {},
   "outputs": [
    {
     "name": "stdout",
     "output_type": "stream",
     "text": [
      "1\n",
      "0으로 나누면 예외가 발생합니다.\n"
     ]
    }
   ],
   "source": [
    "# 여러 예외 처리 (2)\n",
    "\n",
    "try:\n",
    "    a = [1, 2]\n",
    "    print(a[0]) # 여기서 터지면 바로 예외가 발생\n",
    "    print(4/0) # 여기서 에러가 발생하지 않아도 첫번째 에러가 발생하였으므로 예외 발생\n",
    "except ZeroDivisionError:\n",
    "    print(\"0으로 나누면 예외가 발생합니다.\")\n",
    "except IndexError:\n",
    "    print(\"찾으시는 인덱스가 없습니다.\")"
   ]
  },
  {
   "cell_type": "code",
   "execution_count": 166,
   "metadata": {},
   "outputs": [
    {
     "name": "stdout",
     "output_type": "stream",
     "text": [
      "list index out of range\n"
     ]
    }
   ],
   "source": [
    "# 여러 예외 처리 (3)\n",
    "\n",
    "try:\n",
    "    a = [1, 2]\n",
    "    print(a[2]) # 여기서 터지면 바로 예외가 발생\n",
    "    print(4/0) # 여기서 에러가 발생하지 않아도 첫번째 에러가 발생하였으므로 예외 발생\n",
    "except ZeroDivisionError as e:\n",
    "    print(e)\n",
    "except IndexError as e:\n",
    "    print(e)"
   ]
  },
  {
   "cell_type": "code",
   "execution_count": 167,
   "metadata": {},
   "outputs": [
    {
     "name": "stdout",
     "output_type": "stream",
     "text": [
      "list index out of range\n"
     ]
    }
   ],
   "source": [
    "# 여러 예외 처리 (4)\n",
    "\n",
    "try:\n",
    "    a = [1, 2]\n",
    "    print(a[2]) # 여기서 터지면 바로 예외가 발생\n",
    "    print(4/0) # 여기서 에러가 발생하지 않아도 첫번째 에러가 발생하였으므로 예외 발생\n",
    "except (ZeroDivisionError,IndexError) as e:\n",
    "    print(e)"
   ]
  },
  {
   "cell_type": "code",
   "execution_count": 170,
   "metadata": {},
   "outputs": [
    {
     "name": "stdout",
     "output_type": "stream",
     "text": [
      "exception !!!\n",
      "program end\n"
     ]
    }
   ],
   "source": [
    "# 에러 발생 전체 활용 문장(full sentence)\n",
    "\n",
    "try:\n",
    "    4 / 0\n",
    "except:  # 문제가 있을 때만 실행되는 구문\n",
    "    print(\"exception !!!\")\n",
    "else:    # 문제가 없을 때만 실행되는 구문\n",
    "    print(\"no problem\")\n",
    "finally: # 언제나 항상 마지막에 실행되는 구문\n",
    "    print(\"program end\")"
   ]
  },
  {
   "cell_type": "code",
   "execution_count": 171,
   "metadata": {},
   "outputs": [],
   "source": [
    "# 예외 회피\n",
    "\n",
    "try:\n",
    "    4 / 0\n",
    "except:\n",
    "    pass # 예외를 회피함."
   ]
  },
  {
   "cell_type": "code",
   "execution_count": 173,
   "metadata": {},
   "outputs": [
    {
     "ename": "NotImplementedError",
     "evalue": "",
     "output_type": "error",
     "traceback": [
      "\u001b[1;31m---------------------------------------------------------------------------\u001b[0m",
      "\u001b[1;31mNotImplementedError\u001b[0m                       Traceback (most recent call last)",
      "\u001b[1;32m~\\AppData\\Local\\Temp\\ipykernel_6556\\3925010097.py\u001b[0m in \u001b[0;36m<module>\u001b[1;34m\u001b[0m\n\u001b[0;32m      6\u001b[0m \u001b[1;33m\u001b[0m\u001b[0m\n\u001b[0;32m      7\u001b[0m \u001b[0mbird\u001b[0m \u001b[1;33m=\u001b[0m \u001b[0mBird\u001b[0m\u001b[1;33m(\u001b[0m\u001b[1;33m)\u001b[0m\u001b[1;33m\u001b[0m\u001b[1;33m\u001b[0m\u001b[0m\n\u001b[1;32m----> 8\u001b[1;33m \u001b[0mbird\u001b[0m\u001b[1;33m.\u001b[0m\u001b[0mfly\u001b[0m\u001b[1;33m(\u001b[0m\u001b[1;33m)\u001b[0m \u001b[1;31m#메서드 호출에도 에러가 그냥 발생함.\u001b[0m\u001b[1;33m\u001b[0m\u001b[1;33m\u001b[0m\u001b[0m\n\u001b[0m",
      "\u001b[1;32m~\\AppData\\Local\\Temp\\ipykernel_6556\\3925010097.py\u001b[0m in \u001b[0;36mfly\u001b[1;34m(self)\u001b[0m\n\u001b[0;32m      3\u001b[0m \u001b[1;32mclass\u001b[0m \u001b[0mBird\u001b[0m\u001b[1;33m:\u001b[0m\u001b[1;33m\u001b[0m\u001b[1;33m\u001b[0m\u001b[0m\n\u001b[0;32m      4\u001b[0m     \u001b[1;32mdef\u001b[0m \u001b[0mfly\u001b[0m\u001b[1;33m(\u001b[0m\u001b[0mself\u001b[0m\u001b[1;33m)\u001b[0m\u001b[1;33m:\u001b[0m\u001b[1;33m\u001b[0m\u001b[1;33m\u001b[0m\u001b[0m\n\u001b[1;32m----> 5\u001b[1;33m         \u001b[1;32mraise\u001b[0m \u001b[0mNotImplementedError\u001b[0m\u001b[1;33m\u001b[0m\u001b[1;33m\u001b[0m\u001b[0m\n\u001b[0m\u001b[0;32m      6\u001b[0m \u001b[1;33m\u001b[0m\u001b[0m\n\u001b[0;32m      7\u001b[0m \u001b[0mbird\u001b[0m \u001b[1;33m=\u001b[0m \u001b[0mBird\u001b[0m\u001b[1;33m(\u001b[0m\u001b[1;33m)\u001b[0m\u001b[1;33m\u001b[0m\u001b[1;33m\u001b[0m\u001b[0m\n",
      "\u001b[1;31mNotImplementedError\u001b[0m: "
     ]
    }
   ],
   "source": [
    "# 예외 상황이 아님에도 불구하고 강제로 예외 상황 만들기\n",
    "\n",
    "class Bird:\n",
    "    def fly(self):\n",
    "        raise NotImplementedError\n",
    "\n",
    "bird = Bird()\n",
    "bird.fly() #메서드 호출에도 에러가 그냥 발생함."
   ]
  },
  {
   "cell_type": "code",
   "execution_count": 180,
   "metadata": {},
   "outputs": [
    {
     "name": "stdout",
     "output_type": "stream",
     "text": [
      "3\n"
     ]
    }
   ],
   "source": [
    "class Calculator :\n",
    "    def __init__(self):\n",
    "        self.value = 0\n",
    "\n",
    "    def add(self, val):\n",
    "        self.value += val\n",
    "\n",
    "class UpgradeCalculator(Calculator) :\n",
    "    def minus(self, val):\n",
    "        self.value -= val\n",
    "\n",
    "cal = UpgradeCalculator()\n",
    "\n",
    "cal.add(10)\n",
    "cal.minus(7)\n",
    "\n",
    "print(cal.value)\n"
   ]
  },
  {
   "cell_type": "code",
   "execution_count": 188,
   "metadata": {},
   "outputs": [
    {
     "name": "stdout",
     "output_type": "stream",
     "text": [
      "100\n"
     ]
    }
   ],
   "source": [
    "class Calculator:\n",
    "    def __init__(self):\n",
    "        self.value = 0\n",
    "    \n",
    "    def add(self, val):\n",
    "        self.value += val\n",
    "\n",
    "class MaxLimitCalculator(Calculator):\n",
    "    def add(self, val):\n",
    "        if (self.value+val) > 100:\n",
    "            self.value = 100\n",
    "        else :\n",
    "            self.value += val\n",
    "\n",
    "\n",
    "cal = MaxLimitCalculator()\n",
    "cal.add(50)\n",
    "cal.add(60)\n",
    "\n",
    "print(cal.value)"
   ]
  }
 ],
 "metadata": {
  "kernelspec": {
   "display_name": "Python 3.9.13 ('base')",
   "language": "python",
   "name": "python3"
  },
  "language_info": {
   "codemirror_mode": {
    "name": "ipython",
    "version": 3
   },
   "file_extension": ".py",
   "mimetype": "text/x-python",
   "name": "python",
   "nbconvert_exporter": "python",
   "pygments_lexer": "ipython3",
   "version": "3.9.13"
  },
  "orig_nbformat": 4,
  "vscode": {
   "interpreter": {
    "hash": "7f7e32c5e102288e992346f63d8c1eb5d8460aac8c9e83a028ee1cbe79ab1c05"
   }
  }
 },
 "nbformat": 4,
 "nbformat_minor": 2
}
