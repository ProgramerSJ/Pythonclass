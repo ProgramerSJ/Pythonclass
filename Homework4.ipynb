{
  "nbformat": 4,
  "nbformat_minor": 0,
  "metadata": {
    "colab": {
      "provenance": [],
      "authorship_tag": "ABX9TyOuNES/hqxaRj7bcvqP2j0B",
      "include_colab_link": true
    },
    "kernelspec": {
      "name": "python3",
      "display_name": "Python 3"
    },
    "language_info": {
      "name": "python"
    }
  },
  "cells": [
    {
      "cell_type": "markdown",
      "metadata": {
        "id": "view-in-github",
        "colab_type": "text"
      },
      "source": [
        "<a href=\"https://colab.research.google.com/github/ProgramerSJ/Pythonclass/blob/main/Homework4.ipynb\" target=\"_parent\"><img src=\"https://colab.research.google.com/assets/colab-badge.svg\" alt=\"Open In Colab\"/></a>"
      ]
    },
    {
      "cell_type": "code",
      "execution_count": null,
      "metadata": {
        "colab": {
          "base_uri": "https://localhost:8080/"
        },
        "id": "ryCycYvq1VLK",
        "outputId": "33649083-c417-4bab-82b9-8dba06174a93"
      },
      "outputs": [
        {
          "output_type": "stream",
          "name": "stdout",
          "text": [
            "<class 'tuple'>\n",
            "()\n"
          ]
        }
      ],
      "source": [
        "#Solution 71\n",
        "\n",
        "my_variable = ()\n",
        "\n",
        "print(type(my_variable))\n",
        "print(my_variable)"
      ]
    },
    {
      "cell_type": "code",
      "source": [
        "#Solution 72\n",
        "\n",
        "movie_rank = (\"닥터 스트레인지\", \"스플릿\", \"럭키\")\n",
        "\n",
        "print(movie_rank)"
      ],
      "metadata": {
        "colab": {
          "base_uri": "https://localhost:8080/"
        },
        "id": "D22Zn1Ed1k58",
        "outputId": "e5bfd9ae-8aae-44c6-e66e-a81c87bb704a"
      },
      "execution_count": null,
      "outputs": [
        {
          "output_type": "stream",
          "name": "stdout",
          "text": [
            "('닥터 스트레인지', '스플릿', '럭키')\n"
          ]
        }
      ]
    },
    {
      "cell_type": "code",
      "source": [
        "#Solution 73\n",
        "\n",
        "tup1=(1)\n",
        "\n",
        "print(tup1)"
      ],
      "metadata": {
        "colab": {
          "base_uri": "https://localhost:8080/"
        },
        "id": "C6nILitg1l41",
        "outputId": "e2fb439a-0758-4e89-a8b4-6f384d030df9"
      },
      "execution_count": null,
      "outputs": [
        {
          "output_type": "stream",
          "name": "stdout",
          "text": [
            "1\n"
          ]
        }
      ]
    },
    {
      "cell_type": "code",
      "source": [
        "#Solution 74\n",
        "\n",
        "t = (1, 2, 3)\n",
        "t[0] = 'a'\n",
        "\n",
        "# 튜플은 immutable 하기 때문에, 생성 후 수정이 불가능하므로 에러가 발생함."
      ],
      "metadata": {
        "colab": {
          "base_uri": "https://localhost:8080/",
          "height": 211
        },
        "id": "4sv5qBwX1mD-",
        "outputId": "d6d7c73c-de12-4878-8876-0e2470a5a411"
      },
      "execution_count": null,
      "outputs": [
        {
          "output_type": "error",
          "ename": "TypeError",
          "evalue": "ignored",
          "traceback": [
            "\u001b[0;31m---------------------------------------------------------------------------\u001b[0m",
            "\u001b[0;31mTypeError\u001b[0m                                 Traceback (most recent call last)",
            "\u001b[0;32m<ipython-input-7-bdf01b79d58f>\u001b[0m in \u001b[0;36m<module>\u001b[0;34m\u001b[0m\n\u001b[1;32m      2\u001b[0m \u001b[0;34m\u001b[0m\u001b[0m\n\u001b[1;32m      3\u001b[0m \u001b[0mt\u001b[0m \u001b[0;34m=\u001b[0m \u001b[0;34m(\u001b[0m\u001b[0;36m1\u001b[0m\u001b[0;34m,\u001b[0m \u001b[0;36m2\u001b[0m\u001b[0;34m,\u001b[0m \u001b[0;36m3\u001b[0m\u001b[0;34m)\u001b[0m\u001b[0;34m\u001b[0m\u001b[0;34m\u001b[0m\u001b[0m\n\u001b[0;32m----> 4\u001b[0;31m \u001b[0mt\u001b[0m\u001b[0;34m[\u001b[0m\u001b[0;36m0\u001b[0m\u001b[0;34m]\u001b[0m \u001b[0;34m=\u001b[0m \u001b[0;34m'a'\u001b[0m\u001b[0;34m\u001b[0m\u001b[0;34m\u001b[0m\u001b[0m\n\u001b[0m",
            "\u001b[0;31mTypeError\u001b[0m: 'tuple' object does not support item assignment"
          ]
        }
      ]
    },
    {
      "cell_type": "code",
      "source": [
        "#Solution 75\n",
        "\n",
        "t = 1,2,3,4\n",
        "\n",
        "print(type(t))\n",
        "\n",
        "# 튜플은 괄호가 생략이 가능함."
      ],
      "metadata": {
        "colab": {
          "base_uri": "https://localhost:8080/"
        },
        "id": "gbYXkw5-1mOX",
        "outputId": "97bd117f-a78a-4ca7-9e57-b9cf79dbde52"
      },
      "execution_count": null,
      "outputs": [
        {
          "output_type": "stream",
          "name": "stdout",
          "text": [
            "<class 'tuple'>\n"
          ]
        }
      ]
    },
    {
      "cell_type": "code",
      "source": [
        "#Solution 76\n",
        "\n",
        "t = ('a', 'b', 'c')\n",
        "t = ('A', 'b', 'c') # 튜플의 첫 요소 'a' => 'A' 로 변경하거나,\n",
        "\n",
        "print(t)\n",
        "\n",
        "t= list(t) # 튜플을 리스트로 변환한 뒤\n",
        "t[0] = 'A' # 0번째 인덱스인 요소를 'A'로 지정한 후\n",
        "\n",
        "print(tuple(t)) # 튜플로 산출하는 방법이 있음."
      ],
      "metadata": {
        "colab": {
          "base_uri": "https://localhost:8080/"
        },
        "id": "3nFRA4J21mXd",
        "outputId": "4d923842-f371-4265-b442-1f268e5aff18"
      },
      "execution_count": null,
      "outputs": [
        {
          "output_type": "stream",
          "name": "stdout",
          "text": [
            "('A', 'b', 'c')\n",
            "('A', 'b', 'c')\n"
          ]
        }
      ]
    },
    {
      "cell_type": "code",
      "source": [
        "#Solution 77\n",
        "\n",
        "interest = ('삼성전자', 'LG전자', 'SK Hynix')\n",
        "\n",
        "interest = list(interest)\n",
        "\n",
        "print(interest)"
      ],
      "metadata": {
        "colab": {
          "base_uri": "https://localhost:8080/"
        },
        "id": "Ev5TbB0S1mg1",
        "outputId": "551804e7-9ef8-4ba4-c0c3-3f73b8e29de0"
      },
      "execution_count": null,
      "outputs": [
        {
          "output_type": "stream",
          "name": "stdout",
          "text": [
            "['삼성전자', 'LG전자', 'SK Hynix']\n"
          ]
        }
      ]
    },
    {
      "cell_type": "code",
      "source": [
        "#Solution 78\n",
        "\n",
        "interest = ['삼성전자', 'LG전자', 'SK Hynix']\n",
        "\n",
        "interest = tuple(interest)\n",
        "\n",
        "print(interest)"
      ],
      "metadata": {
        "colab": {
          "base_uri": "https://localhost:8080/"
        },
        "id": "kc6OuSK71mqd",
        "outputId": "a6e201b4-0e4a-429b-a61b-2c66df962e6a"
      },
      "execution_count": null,
      "outputs": [
        {
          "output_type": "stream",
          "name": "stdout",
          "text": [
            "('삼성전자', 'LG전자', 'SK Hynix')\n"
          ]
        }
      ]
    },
    {
      "cell_type": "code",
      "source": [
        "#Solution 79\n",
        "\n",
        "temp = ('apple', 'banana', 'cake')\n",
        "a, b, c = temp\n",
        "print(a, b, c) # 튜플은 변수를 할당할 수 있어 각 변수의 요소가 산출 가능함."
      ],
      "metadata": {
        "colab": {
          "base_uri": "https://localhost:8080/"
        },
        "id": "8fs-ZbrL1m0E",
        "outputId": "e101cdd1-118e-4eec-fe32-8737b0bc2fa7"
      },
      "execution_count": null,
      "outputs": [
        {
          "output_type": "stream",
          "name": "stdout",
          "text": [
            "apple banana cake\n"
          ]
        }
      ]
    },
    {
      "cell_type": "code",
      "source": [
        "#Solution 80\n",
        "\n",
        "print(tuple(range(2,100,2))) # range (a, b, c) a ~ b 까지의 숫자 중 c 간격으로 산출"
      ],
      "metadata": {
        "colab": {
          "base_uri": "https://localhost:8080/"
        },
        "id": "4zH6CXBD1m99",
        "outputId": "f4c8be55-69b8-43a4-d8b3-bf185b5bd202"
      },
      "execution_count": null,
      "outputs": [
        {
          "output_type": "stream",
          "name": "stdout",
          "text": [
            "(2, 4, 6, 8, 10, 12, 14, 16, 18, 20, 22, 24, 26, 28, 30, 32, 34, 36, 38, 40, 42, 44, 46, 48, 50, 52, 54, 56, 58, 60, 62, 64, 66, 68, 70, 72, 74, 76, 78, 80, 82, 84, 86, 88, 90, 92, 94, 96, 98)\n"
          ]
        }
      ]
    },
    {
      "cell_type": "code",
      "source": [
        "#Solution 81\n",
        "\n",
        "a, b, *c = (0, 1, 2, 3, 4, 5)\n",
        "a\n",
        "print(a) # 0\n",
        "b\n",
        "print(b) # 1\n",
        "c\n",
        "print(c) # [2, 3, 4, 5]\n",
        "\n",
        "scores = [8.8, 8.9, 8.7, 9.2, 9.3, 9.7, 9.9, 9.5, 7.8, 9.4]\n",
        "*valid_score,a,b= scores\n",
        "print(valid_score)"
      ],
      "metadata": {
        "colab": {
          "base_uri": "https://localhost:8080/"
        },
        "id": "kktYp-Mj1nGl",
        "outputId": "31ea1fc8-7c46-40bd-b732-ad9807bc6443"
      },
      "execution_count": null,
      "outputs": [
        {
          "output_type": "stream",
          "name": "stdout",
          "text": [
            "0\n",
            "1\n",
            "[2, 3, 4, 5]\n",
            "[8.8, 8.9, 8.7, 9.2, 9.3, 9.7, 9.9, 9.5]\n"
          ]
        }
      ]
    },
    {
      "cell_type": "code",
      "source": [
        "#Solution 82\n",
        "\n",
        "scores = [8.8, 8.9, 8.7, 9.2, 9.3, 9.7, 9.9, 9.5, 7.8, 9.4]\n",
        "\n",
        "a,b,*valid_score = scores\n",
        "print(valid_score)"
      ],
      "metadata": {
        "colab": {
          "base_uri": "https://localhost:8080/"
        },
        "id": "6XfUvpe61nPu",
        "outputId": "ce11328f-a63c-4d46-9373-8370ba246690"
      },
      "execution_count": null,
      "outputs": [
        {
          "output_type": "stream",
          "name": "stdout",
          "text": [
            "[8.7, 9.2, 9.3, 9.7, 9.9, 9.5, 7.8, 9.4]\n"
          ]
        }
      ]
    },
    {
      "cell_type": "code",
      "source": [
        "#Solution 83\n",
        "\n",
        "scores = [8.8, 8.9, 8.7, 9.2, 9.3, 9.7, 9.9, 9.5, 7.8, 9.4]\n",
        "\n",
        "a,*valid_score,b = scores\n",
        "print(valid_score)"
      ],
      "metadata": {
        "colab": {
          "base_uri": "https://localhost:8080/"
        },
        "id": "uC1C3JCm1nYo",
        "outputId": "e60262bd-86ae-48fa-fb5e-184a1005dc97"
      },
      "execution_count": null,
      "outputs": [
        {
          "output_type": "stream",
          "name": "stdout",
          "text": [
            "[8.9, 8.7, 9.2, 9.3, 9.7, 9.9, 9.5, 7.8]\n"
          ]
        }
      ]
    },
    {
      "cell_type": "code",
      "source": [
        "#Solution 84\n",
        "\n",
        "temp = {}\n",
        "\n",
        "print(temp)\n",
        "print(type(temp))"
      ],
      "metadata": {
        "colab": {
          "base_uri": "https://localhost:8080/"
        },
        "id": "oYuZauLN1nhe",
        "outputId": "a6ab1d17-4bd9-4bc2-bfac-22ee26bbd405"
      },
      "execution_count": null,
      "outputs": [
        {
          "output_type": "stream",
          "name": "stdout",
          "text": [
            "{}\n",
            "<class 'dict'>\n"
          ]
        }
      ]
    },
    {
      "cell_type": "code",
      "source": [
        "#Solution 85\n",
        "\n",
        "ice_name = {\"메로나\" : 1000, \"폴라포\" : 1200, \"빵빠레\" : 1800}\n",
        "\n",
        "print(ice_name)"
      ],
      "metadata": {
        "colab": {
          "base_uri": "https://localhost:8080/"
        },
        "id": "x1g3VLuT1np8",
        "outputId": "ebf0b68b-a2b5-4d46-b794-8fe669b31d17"
      },
      "execution_count": null,
      "outputs": [
        {
          "output_type": "stream",
          "name": "stdout",
          "text": [
            "{'메로나': 1000, '폴라포': 1200, '빵빠레': 1800}\n"
          ]
        }
      ]
    },
    {
      "cell_type": "code",
      "source": [
        "#Solution 86\n",
        "\n",
        "ice_name = {\"메로나\" : 1000, \"폴라포\" : 1200, \"빵빠레\" : 1800}\n",
        "ice_name[\"죠스바\"] = 1200\n",
        "ice_name[\"월드콘\"] = 1500\n",
        "\n",
        "print(dict(ice_name))"
      ],
      "metadata": {
        "colab": {
          "base_uri": "https://localhost:8080/"
        },
        "id": "3MFtElwH1nzN",
        "outputId": "29b9b5a2-0468-429d-8f4d-e512cf26d3ca"
      },
      "execution_count": null,
      "outputs": [
        {
          "output_type": "stream",
          "name": "stdout",
          "text": [
            "{'메로나': 1000, '폴라포': 1200, '빵빠레': 1800, '죠스바': 1200, '월드콘': 1500}\n"
          ]
        }
      ]
    },
    {
      "cell_type": "code",
      "source": [
        "#Solution 87\n",
        "\n",
        "ice = {'메로나': 1000, '폴라포': 1200, '빵빠레': 1800, '죠스바': 1200, '월드콘': 1500}\n",
        "\n",
        "print(\"메로나 가격: \",ice['메로나'])"
      ],
      "metadata": {
        "colab": {
          "base_uri": "https://localhost:8080/"
        },
        "id": "hfn00Z8g1n7f",
        "outputId": "e3b9bc55-e213-460c-e4ca-391386eb0e49"
      },
      "execution_count": null,
      "outputs": [
        {
          "output_type": "stream",
          "name": "stdout",
          "text": [
            "메로나 가격:  1000\n"
          ]
        }
      ]
    },
    {
      "cell_type": "code",
      "source": [
        "#Solution 88\n",
        "\n",
        "ice = {'메로나': 1000, '폴라포': 1200, '빵빠레': 1800, '죠스바': 1200, '월드콘': 1500}\n",
        "\n",
        "ice[\"메로나\"] = 1300\n",
        "\n",
        "print(ice)"
      ],
      "metadata": {
        "colab": {
          "base_uri": "https://localhost:8080/"
        },
        "id": "4cDNHVJw1oFK",
        "outputId": "fe71973c-1333-4977-aa0c-5cc4af54a6c9"
      },
      "execution_count": null,
      "outputs": [
        {
          "output_type": "stream",
          "name": "stdout",
          "text": [
            "{'메로나': 1300, '폴라포': 1200, '빵빠레': 1800, '죠스바': 1200, '월드콘': 1500}\n"
          ]
        }
      ]
    },
    {
      "cell_type": "code",
      "source": [
        "#Solution 89\n",
        "\n",
        "ice = {'메로나': 1000, '폴라포': 1200, '빵빠레': 1800, '죠스바': 1200, '월드콘': 1500}\n",
        "\n",
        "del ice[\"메로나\"]\n",
        "print(ice)"
      ],
      "metadata": {
        "colab": {
          "base_uri": "https://localhost:8080/"
        },
        "id": "NHawG-jC1oON",
        "outputId": "1f8c1373-b366-4bc4-aa5b-418be324e1f3"
      },
      "execution_count": null,
      "outputs": [
        {
          "output_type": "stream",
          "name": "stdout",
          "text": [
            "{'폴라포': 1200, '빵빠레': 1800, '죠스바': 1200, '월드콘': 1500}\n"
          ]
        }
      ]
    },
    {
      "cell_type": "code",
      "source": [
        "#Solution 90\n",
        "\n",
        "icecream = {'폴라포': 1200, '빵빠레': 1800, '죠스바': 1200, '월드콘': 1500}\n",
        "# icecream['누가바'], \n",
        "# 딕셔너러는 키와 밸류값이 쌍으로 이루어져야 하지만, 누가바는 밸류값이 없으므로 이를 위해서는\n",
        "icecream['누가바'] = 1000 # 이렇게 추가해야 함.\n",
        "\n",
        "print(icecream) "
      ],
      "metadata": {
        "colab": {
          "base_uri": "https://localhost:8080/"
        },
        "id": "_ntUAWZf1oXG",
        "outputId": "fee910ee-25c2-4441-bd7a-63b580aa7258"
      },
      "execution_count": null,
      "outputs": [
        {
          "output_type": "stream",
          "name": "stdout",
          "text": [
            "{'폴라포': 1200, '빵빠레': 1800, '죠스바': 1200, '월드콘': 1500, '누가바': 1000}\n"
          ]
        }
      ]
    }
  ]
}