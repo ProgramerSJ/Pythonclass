{
 "cells": [
  {
   "cell_type": "code",
   "execution_count": 1,
   "id": "a29129f2",
   "metadata": {},
   "outputs": [
    {
     "name": "stdout",
     "output_type": "stream",
     "text": [
      "Hello World !!!\n"
     ]
    }
   ],
   "source": [
    "print(\"Hello World !!!\")"
   ]
  },
  {
   "cell_type": "code",
   "execution_count": 3,
   "id": "5dcc2c71",
   "metadata": {},
   "outputs": [
    {
     "name": "stdout",
     "output_type": "stream",
     "text": [
      "택시를 타자\n"
     ]
    }
   ],
   "source": [
    "money = True\n",
    "\n",
    "if money == True: # 같은 지 물어보기 위해서는 == 두 개\n",
    "    print(\"택시를 타자\")\n",
    "else : \n",
    "    print(\"걸어 가자\")"
   ]
  },
  {
   "cell_type": "code",
   "execution_count": 7,
   "id": "680bbdfb",
   "metadata": {},
   "outputs": [
    {
     "name": "stdout",
     "output_type": "stream",
     "text": [
      "택시를 타자\n"
     ]
    }
   ],
   "source": [
    "money = 8000\n",
    "\n",
    "if money >= 5000:\n",
    "    print(\"택시를 타자\")\n",
    "elif money >= 1000:\n",
    "    print(\"버스를 타자\")\n",
    "else :\n",
    "    print(\"걸어 가자\")"
   ]
  },
  {
   "cell_type": "code",
   "execution_count": 16,
   "id": "63b8a6bd",
   "metadata": {},
   "outputs": [
    {
     "name": "stdout",
     "output_type": "stream",
     "text": [
      "성적을 입력하세요 : 95\n",
      "A학점 입니다.\n"
     ]
    }
   ],
   "source": [
    "# 학생의 성적을 입력 받아서, \n",
    "# 점수가 90 이상이면 \"A학점 입니다.\"\n",
    "# 점수가 80 이상이면 \"B학점 입니다.\"\n",
    "# 점수가 70 이상이면 \"C학점 입니다.\"\n",
    "# 점수가 60 이상이면 \"D학점 입니다.\"\n",
    "# 나머지는 모두 \"F 학점입니다.\"\n",
    "\n",
    "score = int(input(\"성적을 입력하세요 : \"))\n",
    "\n",
    "if score >= 90:\n",
    "    print(\"A학점 입니다.\")\n",
    "elif score >= 80:\n",
    "    print(\"B학점 입니다.\")\n",
    "elif score >= 70:\n",
    "    print(\"C학점 입니다.\")\n",
    "elif score >= 60:\n",
    "    print(\"D학점 입니다.\")\n",
    "else :\n",
    "    print(\"E학점 입니다.\")"
   ]
  },
  {
   "cell_type": "code",
   "execution_count": 2,
   "id": "c9ecfba5",
   "metadata": {},
   "outputs": [
    {
     "name": "stdout",
     "output_type": "stream",
     "text": [
      "10\n",
      "9\n",
      "8\n",
      "7\n",
      "6\n",
      "5\n",
      "4\n",
      "3\n",
      "2\n",
      "1\n",
      "0\n"
     ]
    }
   ],
   "source": [
    "# While\n",
    "\n",
    "no = 10\n",
    "\n",
    "while no>= 0: # no 이 0보다 큰가? => 10~0까지 출력\n",
    "    print(no)\n",
    "    no = no - 1"
   ]
  },
  {
   "cell_type": "code",
   "execution_count": 2,
   "id": "29d89916",
   "metadata": {},
   "outputs": [
    {
     "name": "stdout",
     "output_type": "stream",
     "text": [
      "1. 덧셈 / 2. 뺄셈 / 3. 곱셈 / 4. 나눗셈 / 5. 종료\n",
      "3\n",
      "1. 덧셈 / 2. 뺄셈 / 3. 곱셈 / 4. 나눗셈 / 5. 종료\n",
      "2\n",
      "1. 덧셈 / 2. 뺄셈 / 3. 곱셈 / 4. 나눗셈 / 5. 종료\n",
      "31\n"
     ]
    }
   ],
   "source": [
    "prompt = \"1. 덧셈 / 2. 뺄셈 / 3. 곱셈 / 4. 나눗셈 / 5. 종료\"\n",
    "no = 0\n",
    "\n",
    "while no <= 4 :\n",
    "    print(prompt)\n",
    "    no = int(input())\n",
    "    \n",
    "# for가 더 어울리는 case"
   ]
  },
  {
   "cell_type": "code",
   "execution_count": 7,
   "id": "aa0e0af0",
   "metadata": {},
   "outputs": [
    {
     "name": "stdout",
     "output_type": "stream",
     "text": [
      "0\n",
      "1\n",
      "2\n",
      "3\n",
      "4\n",
      "5\n",
      "6\n",
      "7\n"
     ]
    }
   ],
   "source": [
    "no = 0\n",
    "\n",
    "while no <= 7: # 이 부분에서 0보다 큰 경우가 아닌 10 이하인 경우로 실행한다면..\n",
    "    print(no)\n",
    "    no = no + 1 # 이 경우 무한반복이 되기 때문에, 중간에 정지시킬 필요가 있음."
   ]
  },
  {
   "cell_type": "code",
   "execution_count": 8,
   "id": "29c738e1",
   "metadata": {},
   "outputs": [
    {
     "name": "stdout",
     "output_type": "stream",
     "text": [
      "0\n",
      "1\n",
      "2\n",
      "3\n",
      "4\n",
      "5\n",
      "6\n",
      "7\n",
      "8\n",
      "9\n"
     ]
    }
   ],
   "source": [
    "no = 0\n",
    "\n",
    "while True: # True의 경우에도 무한 반복됨.\n",
    "    print(no)\n",
    "    no = no + 1\n",
    "    \n",
    "    if no > 9:\n",
    "        break # While 문의 종료(빠져나가는 명령어)"
   ]
  },
  {
   "cell_type": "code",
   "execution_count": 24,
   "id": "90d28b68",
   "metadata": {},
   "outputs": [
    {
     "name": "stdout",
     "output_type": "stream",
     "text": [
      "1부터 100까지 3의 배수의 합은 : 1683\n"
     ]
    }
   ],
   "source": [
    "no = 1\n",
    "sum = 0\n",
    "\n",
    "while no < 100: # 1번째 while 1~100 범위 내 숫자\n",
    "    if no % 3 == 0 : # 조건 1. 숫자는 3으로 나눈 나머지가 0\n",
    "        sum = sum + no # 합은 = 숫자들의 합\n",
    "        no = no + 1 # 숫자 는 1씩 증가\n",
    "    \n",
    "    else:\n",
    "        no = no + 1 # 그 외에는 숫자는 1씩 증가\n",
    "print(\"1부터 100까지 3의 배수의 합은 :\", sum)"
   ]
  },
  {
   "cell_type": "code",
   "execution_count": 27,
   "id": "65287ad3",
   "metadata": {},
   "outputs": [
    {
     "name": "stdout",
     "output_type": "stream",
     "text": [
      "1부터 100까지의 3의 배수의 합은 : 1683\n"
     ]
    }
   ],
   "source": [
    "#Solution\n",
    "no = 1\n",
    "sum = 0\n",
    "\n",
    "while no <=100:\n",
    "    if no % 3 == 0 :\n",
    "        sum = sum + no\n",
    "        \n",
    "    no = no + 1 #자신의 자신을 하나 증가하는 표현은 no += 1, java 에서는 no++;\n",
    "    \n",
    "print(\"1부터 100까지의 3의 배수의 합은 :\", sum)"
   ]
  },
  {
   "cell_type": "code",
   "execution_count": 33,
   "id": "7be5bd5a",
   "metadata": {},
   "outputs": [
    {
     "name": "stdout",
     "output_type": "stream",
     "text": [
      "1\n",
      "2\n",
      "3\n",
      "4\n",
      "5\n",
      "6\n",
      "7\n",
      "8\n",
      "9\n"
     ]
    }
   ],
   "source": [
    "# For 구문\n",
    "for i in [1, 2, 3, 4, 5, 6, 7, 8, 9]:\n",
    "    print(i)"
   ]
  },
  {
   "cell_type": "code",
   "execution_count": 41,
   "id": "c13b3a66",
   "metadata": {},
   "outputs": [
    {
     "name": "stdout",
     "output_type": "stream",
     "text": [
      "1 번째 학생은 불합격입니다.\n",
      "2 번째 학생은 합격입니다.\n",
      "3 번째 학생은 불합격입니다.\n",
      "4 번째 학생은 불합격입니다.\n",
      "5 번째 학생은 합격입니다.\n"
     ]
    }
   ],
   "source": [
    "math = [80, 90, 70, 70, 100] # for 문에서의 5가지 요소를 가진 리스트\n",
    "\n",
    "j = 1 # j는 1부터의 숫자\n",
    "for i in math :# i는 math 에서인데,\n",
    "    if i >= 90: # 만약 90점 이상이면 \n",
    "        print(j,\"번째 학생은 합격입니다.\") #리스트의 j번째 학생은~\n",
    "    else:\n",
    "        print(j,\"번째 학생은 불합격입니다.\")\n",
    "    j += 1"
   ]
  },
  {
   "cell_type": "code",
   "execution_count": 43,
   "id": "4ef105c0",
   "metadata": {},
   "outputs": [
    {
     "name": "stdout",
     "output_type": "stream",
     "text": [
      "1\n",
      "2\n",
      "3\n",
      "4\n",
      "5\n",
      "6\n",
      "7\n",
      "8\n",
      "9\n",
      "10\n"
     ]
    }
   ],
   "source": [
    "for i in [1, 2, 3, 4, 5, 6, 7, 8, 9, 10]:\n",
    "    print(i)"
   ]
  },
  {
   "cell_type": "code",
   "execution_count": 47,
   "id": "a247e49e",
   "metadata": {},
   "outputs": [
    {
     "name": "stdout",
     "output_type": "stream",
     "text": [
      "2\n",
      "4\n",
      "6\n",
      "8\n",
      "10\n"
     ]
    }
   ],
   "source": [
    "for i in [1, 2, 3, 4, 5, 6, 7, 8, 9, 10]:\n",
    "    if i % 2 == 0 :\n",
    "        print(i)"
   ]
  },
  {
   "cell_type": "code",
   "execution_count": 48,
   "id": "9621d5b9",
   "metadata": {},
   "outputs": [
    {
     "name": "stdout",
     "output_type": "stream",
     "text": [
      "2\n",
      "4\n",
      "6\n",
      "8\n",
      "10\n"
     ]
    }
   ],
   "source": [
    "for i in [1, 2, 3, 4, 5, 6, 7, 8, 9, 10]:\n",
    "    if i % 2 != 0:\n",
    "        continue # 밑으로 내려가지 않고 다시 반복문의 진행\n",
    "        \n",
    "    print(i)"
   ]
  },
  {
   "cell_type": "code",
   "execution_count": null,
   "id": "e5949a85",
   "metadata": {},
   "outputs": [],
   "source": [
    "# range 함수 (for 문 과 잘 맞음, while에서는 거의 쓸 필요는 없음.)\n",
    "\n",
    "# 숫자를 자동으로 생성해줌. for 문과 함께 사용되는 경우가 아주 많음."
   ]
  },
  {
   "cell_type": "code",
   "execution_count": 50,
   "id": "27c3029f",
   "metadata": {},
   "outputs": [
    {
     "name": "stdout",
     "output_type": "stream",
     "text": [
      "range(1, 11)\n"
     ]
    }
   ],
   "source": [
    "print(range(1,11))"
   ]
  },
  {
   "cell_type": "code",
   "execution_count": 52,
   "id": "fc158f3e",
   "metadata": {},
   "outputs": [
    {
     "name": "stdout",
     "output_type": "stream",
     "text": [
      "1\n",
      "2\n",
      "3\n",
      "4\n",
      "5\n",
      "6\n",
      "7\n",
      "8\n",
      "9\n",
      "10\n"
     ]
    }
   ],
   "source": [
    "for i in range(1,11): #두 번째 수는 미만을 의미함.\n",
    "    print(i)"
   ]
  },
  {
   "cell_type": "code",
   "execution_count": 58,
   "id": "f98d0fff",
   "metadata": {},
   "outputs": [
    {
     "name": "stdout",
     "output_type": "stream",
     "text": [
      "2 * 1 = 2\t2 * 2 = 4\t2 * 3 = 6\t2 * 4 = 8\t2 * 5 = 10\t2 * 6 = 12\t2 * 7 = 14\t2 * 8 = 16\t2 * 9 = 18\t\n",
      "3 * 1 = 3\t3 * 2 = 6\t3 * 3 = 9\t3 * 4 = 12\t3 * 5 = 15\t3 * 6 = 18\t3 * 7 = 21\t3 * 8 = 24\t3 * 9 = 27\t\n",
      "4 * 1 = 4\t4 * 2 = 8\t4 * 3 = 12\t4 * 4 = 16\t4 * 5 = 20\t4 * 6 = 24\t4 * 7 = 28\t4 * 8 = 32\t4 * 9 = 36\t\n",
      "5 * 1 = 5\t5 * 2 = 10\t5 * 3 = 15\t5 * 4 = 20\t5 * 5 = 25\t5 * 6 = 30\t5 * 7 = 35\t5 * 8 = 40\t5 * 9 = 45\t\n",
      "6 * 1 = 6\t6 * 2 = 12\t6 * 3 = 18\t6 * 4 = 24\t6 * 5 = 30\t6 * 6 = 36\t6 * 7 = 42\t6 * 8 = 48\t6 * 9 = 54\t\n",
      "7 * 1 = 7\t7 * 2 = 14\t7 * 3 = 21\t7 * 4 = 28\t7 * 5 = 35\t7 * 6 = 42\t7 * 7 = 49\t7 * 8 = 56\t7 * 9 = 63\t\n",
      "8 * 1 = 8\t8 * 2 = 16\t8 * 3 = 24\t8 * 4 = 32\t8 * 5 = 40\t8 * 6 = 48\t8 * 7 = 56\t8 * 8 = 64\t8 * 9 = 72\t\n",
      "9 * 1 = 9\t9 * 2 = 18\t9 * 3 = 27\t9 * 4 = 36\t9 * 5 = 45\t9 * 6 = 54\t9 * 7 = 63\t9 * 8 = 72\t9 * 9 = 81\t\n"
     ]
    }
   ],
   "source": [
    "#for 문으로 구구단 출력하기\n",
    "\n",
    "for i in range(2, 10): \n",
    "    for j in range(1, 10): \n",
    "        print(i, \"*\", j, \"=\", i*j, end=\"\\t\") \n",
    "    print()   "
   ]
  },
  {
   "cell_type": "code",
   "execution_count": 60,
   "id": "fdfea197",
   "metadata": {},
   "outputs": [
    {
     "name": "stdout",
     "output_type": "stream",
     "text": [
      "2\t4\t6\t8\t10\t12\t14\t16\t18\t\n",
      "3\t6\t9\t12\t15\t18\t21\t24\t27\t\n",
      "4\t8\t12\t16\t20\t24\t28\t32\t36\t\n",
      "5\t10\t15\t20\t25\t30\t35\t40\t45\t\n",
      "6\t12\t18\t24\t30\t36\t42\t48\t54\t\n",
      "7\t14\t21\t28\t35\t42\t49\t56\t63\t\n",
      "8\t16\t24\t32\t40\t48\t56\t64\t72\t\n",
      "9\t18\t27\t36\t45\t54\t63\t72\t81\t\n"
     ]
    }
   ],
   "source": [
    "for i in range(2, 10): #i는 단을 표현\n",
    "    for j in range(1, 10): # 이중 for문은 자주 사용됨. 2차원대로 넘어감.\n",
    "        print(i*j, end=\"\\t\") # 2단까지 다 돌았을 때,\n",
    "    print() #한 단마다 줄 바꾸기"
   ]
  },
  {
   "cell_type": "code",
   "execution_count": 153,
   "id": "e3516b08",
   "metadata": {},
   "outputs": [
    {
     "name": "stdout",
     "output_type": "stream",
     "text": [
      "2 * 1 = 2\t3 * 1 = 3\t4 * 1 = 4\t5 * 1 = 5\t6 * 1 = 6\t7 * 1 = 7\t8 * 1 = 8\t9 * 1 = 9\t\n",
      "2 * 2 = 4\t3 * 2 = 6\t4 * 2 = 8\t5 * 2 = 10\t6 * 2 = 12\t7 * 2 = 14\t8 * 2 = 16\t9 * 2 = 18\t\n",
      "2 * 3 = 6\t3 * 3 = 9\t4 * 3 = 12\t5 * 3 = 15\t6 * 3 = 18\t7 * 3 = 21\t8 * 3 = 24\t9 * 3 = 27\t\n",
      "2 * 4 = 8\t3 * 4 = 12\t4 * 4 = 16\t5 * 4 = 20\t6 * 4 = 24\t7 * 4 = 28\t8 * 4 = 32\t9 * 4 = 36\t\n",
      "2 * 5 = 10\t3 * 5 = 15\t4 * 5 = 20\t5 * 5 = 25\t6 * 5 = 30\t7 * 5 = 35\t8 * 5 = 40\t9 * 5 = 45\t\n",
      "2 * 6 = 12\t3 * 6 = 18\t4 * 6 = 24\t5 * 6 = 30\t6 * 6 = 36\t7 * 6 = 42\t8 * 6 = 48\t9 * 6 = 54\t\n",
      "2 * 7 = 14\t3 * 7 = 21\t4 * 7 = 28\t5 * 7 = 35\t6 * 7 = 42\t7 * 7 = 49\t8 * 7 = 56\t9 * 7 = 63\t\n",
      "2 * 8 = 16\t3 * 8 = 24\t4 * 8 = 32\t5 * 8 = 40\t6 * 8 = 48\t7 * 8 = 56\t8 * 8 = 64\t9 * 8 = 72\t\n",
      "2 * 9 = 18\t3 * 9 = 27\t4 * 9 = 36\t5 * 9 = 45\t6 * 9 = 54\t7 * 9 = 63\t8 * 9 = 72\t9 * 9 = 81\t\n"
     ]
    }
   ],
   "source": [
    "for j in range(1, 10): \n",
    "    for i in range(2, 10): \n",
    "        print(i,\"*\",j,\"=\", i*j, end=\"\\t\") # 1단이 끝날 때, 탭과 줄바꿈을 사용\n",
    "    print() # 한 단마다 줄 바꾸기"
   ]
  },
  {
   "cell_type": "code",
   "execution_count": 132,
   "id": "9873d810",
   "metadata": {},
   "outputs": [
    {
     "name": "stdout",
     "output_type": "stream",
     "text": [
      "2550\n"
     ]
    }
   ],
   "source": [
    "# range를 사용하여 100이하의 수 중에 짝수들만의 합계를 구하시오.\n",
    "\n",
    "sum = 0\n",
    "\n",
    "for i in range(1,101): # 1~100 의 숫자 범위\n",
    "    if i%2 == 0: # 조건 1 숫자가 2로 나눴을 때 나머지가 0이면 = 짝수\n",
    "        sum += i # i의 합계\n",
    "print(sum)"
   ]
  },
  {
   "cell_type": "code",
   "execution_count": 134,
   "id": "2c8b406d",
   "metadata": {},
   "outputs": [
    {
     "name": "stdout",
     "output_type": "stream",
     "text": [
      "0\n",
      "1\n",
      "2\n",
      "3\n",
      "4\n",
      "5\n",
      "6\n",
      "7\n",
      "8\n",
      "9\n",
      "10\n"
     ]
    }
   ],
   "source": [
    "# range를 사용하여 100 이하의 수 중에 짝수들만의 합계를 구하시오.\n",
    "\n",
    "# range(start, stop, step)\n",
    "\n",
    "for i in range(11): # start를 생략하면 0에서 시작\n",
    "    print(i)"
   ]
  },
  {
   "cell_type": "code",
   "execution_count": 136,
   "id": "683bfaf9",
   "metadata": {},
   "outputs": [
    {
     "name": "stdout",
     "output_type": "stream",
     "text": [
      "0\n",
      "2\n",
      "4\n",
      "6\n",
      "8\n",
      "10\n"
     ]
    }
   ],
   "source": [
    "# range(start, stop, step)\n",
    "\n",
    "for i in range(0,11,2): # stop 을 생략하면 1씩 증가, 즉 step에 2를 넣으면 짝수 증가\n",
    "    print(i)"
   ]
  },
  {
   "cell_type": "code",
   "execution_count": 141,
   "id": "6e598e99",
   "metadata": {},
   "outputs": [
    {
     "name": "stdout",
     "output_type": "stream",
     "text": [
      "[1, 2, 3, 4]\n",
      "[1, 2, 3, 4]\n",
      "[2, 4, 6, 8]\n",
      "[2, 4]\n"
     ]
    }
   ],
   "source": [
    "# 리스트 축약/내포 List Comprehension, 파이썬에서만 사용(특징)\n",
    "# 리스트를 좀 더 편리하고 직관적으로 만드는 방법\n",
    "\n",
    "list1 = [1,2,3,4]\n",
    "\n",
    "print(list1)\n",
    "\n",
    "list2 = [num     for num in list1] # 리스트1에 있는 숫자를 하나씩 출력함.\n",
    "\n",
    "print(list2)\n",
    "\n",
    "list3 = [num*2   for num in list1] # 리스트1에 있는 숫자에 2를 곱해 출력함.\n",
    "\n",
    "print(list3)\n",
    "\n",
    "list4 = [num     for num in list1    if num % 2 == 0] # 리스트1에 있는 숫자 중 짝수만 출력함.\n",
    "\n",
    "print(list4)"
   ]
  },
  {
   "cell_type": "code",
   "execution_count": 146,
   "id": "2cb3fd31",
   "metadata": {},
   "outputs": [
    {
     "name": "stdout",
     "output_type": "stream",
     "text": [
      "합격입니다.\n",
      "불합격입니다.\n"
     ]
    }
   ],
   "source": [
    "no = 70\n",
    "\n",
    "if no >= 70:\n",
    "    print(\"합격입니다.\")\n",
    "else:\n",
    "    print(\"불합격입니다.\")\n",
    "    \n",
    "# if를 표현하는 또 다른 방법\n",
    "# \"True\" if 조건 else \"False\"\n",
    "print(\"합격입니다.\"     if no >= 80     else     \"불합격입니다.\")"
   ]
  },
  {
   "cell_type": "code",
   "execution_count": 154,
   "id": "8a6fff2c",
   "metadata": {},
   "outputs": [],
   "source": [
    "# 달러, 엔, 유로, 또는 위안 금액 => 원 변환 프로그램\n",
    "# 각 통화별 환율 적용\n",
    "# 사용자는 100 달러, 1000 엔, 13 유로, 100 위안과 같은 금액과 통화명 사이 \n",
    "# 공백을 넣어 입력하는 것으로 가정\n"
   ]
  },
  {
   "cell_type": "code",
   "execution_count": 160,
   "id": "a763a40b",
   "metadata": {},
   "outputs": [
    {
     "name": "stdout",
     "output_type": "stream",
     "text": [
      "number 1 : 10\n",
      "number 2 : 9\n",
      "number 3 : 20\n",
      "20\n"
     ]
    }
   ],
   "source": [
    "# 문제 1\n",
    "\n",
    "input(\"number 1 : \")\n",
    "input(\"number 2 : \")\n",
    "input(\"number 3 : \")\n",
    "\n",
    "a = 10\n",
    "b = 9\n",
    "c = 20\n",
    "\n",
    "if a>b and a>c:\n",
    "    print(a)\n",
    "\n",
    "elif b>a and b>c:\n",
    "    print(b)\n",
    "    \n",
    "else:\n",
    "    print(c)"
   ]
  },
  {
   "cell_type": "code",
   "execution_count": 178,
   "id": "367194bd",
   "metadata": {},
   "outputs": [
    {
     "name": "stdout",
     "output_type": "stream",
     "text": [
      "주민번호를 입력해주십시오 : 931211-1163910\n",
      "남자\n"
     ]
    }
   ],
   "source": [
    "# 문제 2\n",
    "\n",
    "a= input(\"주민번호를 입력해주십시오 : \")\n",
    "b = a[7]\n",
    "\n",
    "if b == \"1\" or b == \"3\" :\n",
    "    print(\"남자\")\n",
    "else:\n",
    "    print(\"여자\")\n"
   ]
  },
  {
   "cell_type": "code",
   "execution_count": 185,
   "id": "c5ef65f8",
   "metadata": {},
   "outputs": [
    {
     "name": "stdout",
     "output_type": "stream",
     "text": [
      "d\n",
      "c\n",
      "p\n"
     ]
    }
   ],
   "source": [
    "list = ['dog', 'cat', 'parrot']\n",
    "\n",
    "\n",
    "for animal in list:\n",
    "    print(animal[0])\n"
   ]
  },
  {
   "cell_type": "code",
   "execution_count": 197,
   "id": "66cd4150",
   "metadata": {},
   "outputs": [
    {
     "name": "stdout",
     "output_type": "stream",
     "text": [
      "open\n",
      "100\n",
      "190\n",
      "310\n"
     ]
    }
   ],
   "source": [
    "a = [[\"open\", \"high\", \"low\", \"close\"],\n",
    "[100, 110, 70, 100],\n",
    "[200, 210, 180, 190],\n",
    "[300, 310, 300, 310]]\n",
    "\n",
    "# ohlc 리스트의 시가(open), 고가(high), 저가(low), 종가(close)가 날짜별로 저장되있음.\n",
    "# 화면에 종가 데이터를 출력하시오.\n",
    "\n",
    "print(a[0][0]) # ohlc 리스트 첫[] 은 몇 번째 리스트에서 [] 몇 번째\n",
    "\n",
    "for i in range(1,4):\n",
    "    print(a[i][3])"
   ]
  },
  {
   "cell_type": "code",
   "execution_count": 202,
   "id": "33bdb33e",
   "metadata": {},
   "outputs": [
    {
     "name": "stdout",
     "output_type": "stream",
     "text": [
      "100\n",
      "310\n"
     ]
    }
   ],
   "source": [
    "# for 문을 사용하여..\n",
    "# ohic 리스트에서 종가가 시가보다 크거나 같은 경우에만 종가를 출력하라.\n",
    "\n",
    "a = [[\"open\", \"high\", \"low\", \"close\"],\n",
    "[100, 110, 70, 100],\n",
    "[200, 210, 180, 190],\n",
    "[300, 310, 300, 310]]\n",
    "\n",
    "for i in range(1,4):\n",
    "    if a[i][3] < a[i][0]:\n",
    "        continue\n",
    "    print(a[i][3])"
   ]
  },
  {
   "cell_type": "code",
   "execution_count": 207,
   "id": "1ad7ecc4",
   "metadata": {},
   "outputs": [
    {
     "name": "stdout",
     "output_type": "stream",
     "text": [
      "{'opening_price': '23456000', 'closing_price': '23281000', 'min_price': '23052000', 'max_price': '23786000', 'units_traded': '2200.67069774', 'acc_trade_value': '51394216571.3996', 'prev_closing_price': '23457000', 'units_traded_24H': '3807.13573571', 'acc_trade_value_24H': '89442491842.0238', 'fluctate_24H': '-791000', 'fluctate_rate_24H': '-3.29', 'date': '1668239935380'}\n"
     ]
    }
   ],
   "source": [
    "import requests # 웹상에서 데이터를 가져올 때 사용\n",
    "\n",
    "btc = requests.get(\"https://api.bithumb.com/public/ticker/\").json()['data']\n",
    "\n",
    "print(btc)"
   ]
  },
  {
   "cell_type": "code",
   "execution_count": 227,
   "id": "9d305abf",
   "metadata": {},
   "outputs": [
    {
     "name": "stdout",
     "output_type": "stream",
     "text": [
      "*\n",
      "**\n",
      "***\n",
      "****\n",
      "*****\n"
     ]
    }
   ],
   "source": [
    "# While 문을 사용하여 다음과 같이 별(*)을 표시하는 프로그램을 작성하시오.\n",
    "\n",
    "i = 1\n",
    "\n",
    "while (i <= 5):\n",
    "    print(i*\"*\")\n",
    "    i += 1\n",
    "\n",
    "# print(1*\"*\")\n",
    "# print(2*\"*\")\n",
    "# print(3*\"*\") ...."
   ]
  },
  {
   "cell_type": "code",
   "execution_count": 229,
   "id": "68c0b007",
   "metadata": {},
   "outputs": [
    {
     "name": "stdout",
     "output_type": "stream",
     "text": [
      "우편번호를 입력하세요 : 12345\n"
     ]
    },
    {
     "data": {
      "text/plain": [
       "'12345'"
      ]
     },
     "execution_count": 229,
     "metadata": {},
     "output_type": "execute_result"
    }
   ],
   "source": [
    "# 우편번호는 5자리로 구성되는데, 앞의 세자리는 구를 나타냄.\n",
    "# 예를 들어, 강북구의 경우 010,011,012 세 자리로 시작함.\n",
    "\n",
    "#사용자로부터, 5자리 우편번호를 입력받고 구를 판별하라.\n",
    "\n",
    "input(\"우편번호를 입력하세요 : \")"
   ]
  },
  {
   "cell_type": "code",
   "execution_count": 244,
   "id": "fdeaa31b",
   "metadata": {},
   "outputs": [
    {
     "name": "stdout",
     "output_type": "stream",
     "text": [
      "숫자를 입력하세요 : 75\n"
     ]
    },
    {
     "ename": "KeyboardInterrupt",
     "evalue": "",
     "output_type": "error",
     "traceback": [
      "\u001b[1;31m---------------------------------------------------------------------------\u001b[0m",
      "\u001b[1;31mKeyboardInterrupt\u001b[0m                         Traceback (most recent call last)",
      "\u001b[1;32m~\\AppData\\Local\\Temp\\ipykernel_11784\\1831913674.py\u001b[0m in \u001b[0;36m<module>\u001b[1;34m\u001b[0m\n\u001b[0;32m     12\u001b[0m \u001b[0mtotal\u001b[0m \u001b[1;33m=\u001b[0m \u001b[1;36m75\u001b[0m\u001b[1;33m\u001b[0m\u001b[1;33m\u001b[0m\u001b[0m\n\u001b[0;32m     13\u001b[0m \u001b[1;33m\u001b[0m\u001b[0m\n\u001b[1;32m---> 14\u001b[1;33m \u001b[1;32mwhile\u001b[0m \u001b[1;33m(\u001b[0m\u001b[0mnum\u001b[0m \u001b[1;33m!=\u001b[0m\u001b[0muser\u001b[0m\u001b[1;33m)\u001b[0m\u001b[1;33m:\u001b[0m\u001b[1;33m\u001b[0m\u001b[1;33m\u001b[0m\u001b[0m\n\u001b[0m\u001b[0;32m     15\u001b[0m     \u001b[1;32mif\u001b[0m \u001b[0mtotal\u001b[0m \u001b[1;33m>\u001b[0m \u001b[1;36m75\u001b[0m\u001b[1;33m:\u001b[0m\u001b[1;33m\u001b[0m\u001b[1;33m\u001b[0m\u001b[0m\n\u001b[0;32m     16\u001b[0m         \u001b[0mprint\u001b[0m\u001b[1;33m(\u001b[0m\u001b[1;34m\"더 작은 수를 입력하세요\"\u001b[0m\u001b[1;33m)\u001b[0m\u001b[1;33m\u001b[0m\u001b[1;33m\u001b[0m\u001b[0m\n",
      "\u001b[1;31mKeyboardInterrupt\u001b[0m: "
     ]
    }
   ],
   "source": [
    "# 숫자를 입력하세요 (1~100) >>> ex 정답이 75라면, \n",
    "# 50을 입력했을 때 \"더 큰 수를 입력하세요.\"\n",
    "# 숫자를 입력하세요 (1~100)\n",
    "# 80을 입력했을 때 \"더 작은 수를 입력하세요.\"\n",
    "# 75를 입력했을 때 \"정답입니다. 4번째 시도에 맞추셨습니다. 축하합니다.\"\n",
    "\n",
    "import random\n",
    "num = random.randrange(1, 101) # 1~100 사이의 랜덤한 숫자가 입력됨.\n",
    "input(\"숫자를 입력하세요 : \") # 사용자가 숫자를 입력함 = user\n",
    "\n",
    "user = 0 # user 숫자는 0 부터 시작\n",
    "total = 0 # total 숫자는 실행한 횟수\n",
    "\n",
    "while (num !=user): # 같은 숫자\n",
    "    if total > 75 :\n",
    "        print(\"더 작은 수를 입력하세요\")\n",
    "        \n",
    "    "
   ]
  },
  {
   "cell_type": "code",
   "execution_count": 232,
   "id": "dd267af5",
   "metadata": {},
   "outputs": [
    {
     "name": "stdout",
     "output_type": "stream",
     "text": [
      "58\n"
     ]
    }
   ],
   "source": [
    "# import random 난수 발생시키는 기능\n",
    "import random\n",
    "num = random.randrange(1, 101)\n",
    "\n",
    "print(num)"
   ]
  }
 ],
 "metadata": {
  "kernelspec": {
   "display_name": "Python 3 (ipykernel)",
   "language": "python",
   "name": "python3"
  },
  "language_info": {
   "codemirror_mode": {
    "name": "ipython",
    "version": 3
   },
   "file_extension": ".py",
   "mimetype": "text/x-python",
   "name": "python",
   "nbconvert_exporter": "python",
   "pygments_lexer": "ipython3",
   "version": "3.9.13"
  }
 },
 "nbformat": 4,
 "nbformat_minor": 5
}
