{
  "nbformat": 4,
  "nbformat_minor": 0,
  "metadata": {
    "colab": {
      "provenance": [],
      "authorship_tag": "ABX9TyNvNeCi0CuXnn5WKgwrdHLK",
      "include_colab_link": true
    },
    "kernelspec": {
      "name": "python3",
      "display_name": "Python 3"
    },
    "language_info": {
      "name": "python"
    }
  },
  "cells": [
    {
      "cell_type": "markdown",
      "metadata": {
        "id": "view-in-github",
        "colab_type": "text"
      },
      "source": [
        "<a href=\"https://colab.research.google.com/github/ProgramerSJ/Pythonclass/blob/main/Homework_8.ipynb\" target=\"_parent\"><img src=\"https://colab.research.google.com/assets/colab-badge.svg\" alt=\"Open In Colab\"/></a>"
      ]
    },
    {
      "cell_type": "code",
      "execution_count": null,
      "metadata": {
        "colab": {
          "base_uri": "https://localhost:8080/"
        },
        "id": "qhlisMzA_FIr",
        "outputId": "71a24e66-6aae-41ee-fb44-dd5c2929baf5"
      },
      "outputs": [
        {
          "output_type": "stream",
          "name": "stdout",
          "text": [
            "사과\n",
            "귤\n",
            "수박\n"
          ]
        }
      ],
      "source": [
        "# Solution 131\n",
        "\n",
        "과일 = [\"사과\", \"귤\", \"수박\"]\n",
        "for 변수 in 과일:\n",
        "    print(변수)"
      ]
    },
    {
      "cell_type": "code",
      "source": [
        "# Solution 132\n",
        "\n",
        "과일 = [\"사과\", \"귤\", \"수박\"]\n",
        "for 변수 in 과일:\n",
        "  print(\"#####\")"
      ],
      "metadata": {
        "colab": {
          "base_uri": "https://localhost:8080/"
        },
        "id": "U35JotTy_P38",
        "outputId": "80a7cd36-8f8d-4609-cc39-31d4bac3a07c"
      },
      "execution_count": null,
      "outputs": [
        {
          "output_type": "stream",
          "name": "stdout",
          "text": [
            "#####\n",
            "#####\n",
            "#####\n"
          ]
        }
      ]
    },
    {
      "cell_type": "code",
      "source": [
        "# Solution 133\n",
        "\n",
        "변수 = \"A\"\n",
        "print(변수)\n",
        "변수 = \"B\"\n",
        "print(변수)\n",
        "변수 = \"C\"\n",
        "print(변수)\n",
        "\n",
        "print(\"A\")\n",
        "print(\"B\")\n",
        "print(\"C\")"
      ],
      "metadata": {
        "colab": {
          "base_uri": "https://localhost:8080/"
        },
        "id": "0zN2aqgE_Qid",
        "outputId": "0bc5675c-5e2d-4583-c97d-00796d3ad754"
      },
      "execution_count": null,
      "outputs": [
        {
          "output_type": "stream",
          "name": "stdout",
          "text": [
            "A\n",
            "B\n",
            "C\n",
            "A\n",
            "B\n",
            "C\n"
          ]
        }
      ]
    },
    {
      "cell_type": "code",
      "source": [
        "# Solution 134\n",
        "\n",
        "for 변수 in [\"A\", \"B\", \"C\"]:\n",
        "  print(\"출력:\", 변수)\n",
        "\n",
        "변수 = \"A\"\n",
        "print(\"출력:\",변수)\n",
        "변수 = \"B\"\n",
        "print(\"출력:\",변수)\n",
        "변수 = \"C\"\n",
        "print(\"출력:\",변수)\n",
        "\n",
        "print(\"출력:\",\"A\")\n",
        "print(\"출력:\",\"B\")\n",
        "print(\"출력:\",\"C\")"
      ],
      "metadata": {
        "colab": {
          "base_uri": "https://localhost:8080/"
        },
        "id": "wffMOQ6W_Qxq",
        "outputId": "76a4c85e-b4de-43b3-e283-243939f92bea"
      },
      "execution_count": null,
      "outputs": [
        {
          "output_type": "stream",
          "name": "stdout",
          "text": [
            "출력: A\n",
            "출력: B\n",
            "출력: C\n",
            "출력: A\n",
            "출력: B\n",
            "출력: C\n",
            "출력: A\n",
            "출력: B\n",
            "출력: C\n"
          ]
        }
      ]
    },
    {
      "cell_type": "code",
      "source": [
        "# Solution 135\n",
        "\n",
        "for 변수 in [\"A\", \"B\", \"C\"]:\n",
        "  b = 변수.lower()\n",
        "  print(\"변환:\", b)\n",
        "\n",
        "변수 = \"A\"\n",
        "b = 변수.lower()\n",
        "print(\"변환:\",b)\n",
        "변수 = \"B\"\n",
        "b = 변수.lower()\n",
        "print(\"변환:\",b)\n",
        "변수 = \"C\"\n",
        "b = 변수.lower()\n",
        "print(\"변환:\",b)"
      ],
      "metadata": {
        "colab": {
          "base_uri": "https://localhost:8080/"
        },
        "id": "Hah5bxCn_RAq",
        "outputId": "c8861cef-2c3e-4a3c-fcf8-7e7d6e61595a"
      },
      "execution_count": null,
      "outputs": [
        {
          "output_type": "stream",
          "name": "stdout",
          "text": [
            "변환: a\n",
            "변환: b\n",
            "변환: c\n",
            "변환: a\n",
            "변환: b\n",
            "변환: c\n"
          ]
        }
      ]
    },
    {
      "cell_type": "code",
      "source": [
        "# Solution 136\n",
        "\n",
        "변수 = 10\n",
        "print(변수)\n",
        "변수 = 20\n",
        "print(변수)\n",
        "변수 = 30\n",
        "print(변수)\n",
        "\n",
        "for 변수 in [10, 20, 30]:\n",
        "  print(변수)\n",
        "\n",
        "list = [10, 20, 30]\n",
        "for 변수 in list:\n",
        "  print(변수)"
      ],
      "metadata": {
        "colab": {
          "base_uri": "https://localhost:8080/"
        },
        "id": "qdSaPljL_RO5",
        "outputId": "4c814695-2d14-4a12-badb-d81bfcd04029"
      },
      "execution_count": null,
      "outputs": [
        {
          "output_type": "stream",
          "name": "stdout",
          "text": [
            "10\n",
            "20\n",
            "30\n",
            "10\n",
            "20\n",
            "30\n",
            "10\n",
            "20\n",
            "30\n"
          ]
        }
      ]
    },
    {
      "cell_type": "code",
      "source": [
        "# Solution 137\n",
        "\n",
        "for 변수 in [10, 20, 30]:\n",
        "  print(변수)"
      ],
      "metadata": {
        "colab": {
          "base_uri": "https://localhost:8080/"
        },
        "id": "RR7x6RZ2_RcW",
        "outputId": "1c953db4-64f6-4a5e-e2ea-b84077232220"
      },
      "execution_count": null,
      "outputs": [
        {
          "output_type": "stream",
          "name": "stdout",
          "text": [
            "10\n",
            "20\n",
            "30\n"
          ]
        }
      ]
    },
    {
      "cell_type": "code",
      "source": [
        "# Solution 138\n",
        "\n",
        "print(10)\n",
        "print(\"-------\")\n",
        "print(20)\n",
        "print(\"-------\")\n",
        "print(30)\n",
        "print(\"-------\")\n",
        "\n",
        "for 변수 in [10, 20, 30]:\n",
        "  print(변수)\n",
        "  print(\"-------\")"
      ],
      "metadata": {
        "colab": {
          "base_uri": "https://localhost:8080/"
        },
        "id": "5togCdjE_RpK",
        "outputId": "6b5d7254-28e7-4797-89ea-4971705e83bd"
      },
      "execution_count": null,
      "outputs": [
        {
          "output_type": "stream",
          "name": "stdout",
          "text": [
            "10\n",
            "-------\n",
            "20\n",
            "-------\n",
            "30\n",
            "-------\n",
            "10\n",
            "-------\n",
            "20\n",
            "-------\n",
            "30\n",
            "-------\n"
          ]
        }
      ]
    },
    {
      "cell_type": "code",
      "source": [
        "# Solution 139\n",
        "\n",
        "print(\"++++\")\n",
        "print(10)\n",
        "print(20)\n",
        "print(30)\n",
        "\n",
        "\n",
        "print(\"++++\")\n",
        "for 변수 in [10, 20, 30]:\n",
        "  print(변수)"
      ],
      "metadata": {
        "colab": {
          "base_uri": "https://localhost:8080/"
        },
        "id": "UZOmRiNT_R2V",
        "outputId": "6d3da05b-c02c-43b6-d080-542fc29d6ae9"
      },
      "execution_count": null,
      "outputs": [
        {
          "output_type": "stream",
          "name": "stdout",
          "text": [
            "++++\n",
            "10\n",
            "20\n",
            "30\n",
            "++++\n",
            "10\n",
            "20\n",
            "30\n"
          ]
        }
      ]
    },
    {
      "cell_type": "code",
      "source": [
        "# Solution 140\n",
        "\n",
        "for 변수 in [1, 2, 3, 4]:\n",
        "  print(\"-------\")"
      ],
      "metadata": {
        "colab": {
          "base_uri": "https://localhost:8080/"
        },
        "id": "P9ztJT-e_SGX",
        "outputId": "82abdd79-6c03-43ef-e6dc-6b5157fe5faa"
      },
      "execution_count": null,
      "outputs": [
        {
          "output_type": "stream",
          "name": "stdout",
          "text": [
            "-------\n",
            "-------\n",
            "-------\n",
            "-------\n"
          ]
        }
      ]
    },
    {
      "cell_type": "code",
      "source": [
        "# Solution 141\n",
        "\n",
        "for 리스트 in [100, 200, 300]:\n",
        "  print(리스트 +10)"
      ],
      "metadata": {
        "colab": {
          "base_uri": "https://localhost:8080/"
        },
        "id": "v8VrbZK9_SSR",
        "outputId": "e34af45e-3bcf-4fea-f8a7-45f0ea8cae66"
      },
      "execution_count": null,
      "outputs": [
        {
          "output_type": "stream",
          "name": "stdout",
          "text": [
            "110\n",
            "210\n",
            "310\n"
          ]
        }
      ]
    },
    {
      "cell_type": "code",
      "source": [
        "# Solution 142\n",
        "\n",
        "for 리스트 in [\"김밥\", \"라면\", \"튀김\"]:\n",
        "  print(\"오늘의 메뉴:\", 리스트)"
      ],
      "metadata": {
        "colab": {
          "base_uri": "https://localhost:8080/"
        },
        "id": "TFK7thrU_Seu",
        "outputId": "f4bde487-b864-42f1-b49c-03cb590b5d3b"
      },
      "execution_count": null,
      "outputs": [
        {
          "output_type": "stream",
          "name": "stdout",
          "text": [
            "오늘의 메뉴: 김밥\n",
            "오늘의 메뉴: 라면\n",
            "오늘의 메뉴: 튀김\n"
          ]
        }
      ]
    },
    {
      "cell_type": "code",
      "source": [
        "# Solution 143\n",
        "\n",
        "리스트 = [\"SK하이닉스\", \"삼성전자\", \"LG전자\"]\n",
        "\n",
        "for 종목 in 리스트 :\n",
        "  길이 = len(종목)\n",
        "  print(길이)\n",
        "\n",
        "for 종목 in 리스트 :\n",
        "  print(len(종목))"
      ],
      "metadata": {
        "colab": {
          "base_uri": "https://localhost:8080/"
        },
        "id": "Qbw4V5cv_SqO",
        "outputId": "2b120cc1-22d2-4ae1-ca72-69f713522768"
      },
      "execution_count": null,
      "outputs": [
        {
          "output_type": "stream",
          "name": "stdout",
          "text": [
            "6\n",
            "4\n",
            "4\n",
            "6\n",
            "4\n",
            "4\n"
          ]
        }
      ]
    },
    {
      "cell_type": "code",
      "source": [
        "# Solution 144\n",
        "\n",
        "리스트 = ['dog', 'cat', 'parrot']\n",
        "\n",
        "for 동물 in 리스트 :\n",
        "  print(동물,len(동물))"
      ],
      "metadata": {
        "colab": {
          "base_uri": "https://localhost:8080/"
        },
        "id": "-bYL5OUB_S2W",
        "outputId": "8cad4db5-a02e-4069-dc15-ecffd2fadcd5"
      },
      "execution_count": null,
      "outputs": [
        {
          "output_type": "stream",
          "name": "stdout",
          "text": [
            "dog 3\n",
            "cat 3\n",
            "parrot 6\n"
          ]
        }
      ]
    },
    {
      "cell_type": "code",
      "source": [
        "# Solution 145\n",
        "\n",
        "리스트 = ['dog', 'cat', 'parrot']\n",
        "\n",
        "for 동물 in 리스트 :\n",
        "  print(동물[0])"
      ],
      "metadata": {
        "colab": {
          "base_uri": "https://localhost:8080/"
        },
        "id": "BTvGuyHP_TCA",
        "outputId": "5957a837-74c0-49e1-c5ab-04f1b666c872"
      },
      "execution_count": null,
      "outputs": [
        {
          "output_type": "stream",
          "name": "stdout",
          "text": [
            "d\n",
            "c\n",
            "p\n"
          ]
        }
      ]
    },
    {
      "cell_type": "code",
      "source": [
        "# Solution 146\n",
        "\n",
        "리스트 = [1, 2, 3]\n",
        "\n",
        "for 숫자 in 리스트 :\n",
        "  print(\"3 x\",숫자)"
      ],
      "metadata": {
        "colab": {
          "base_uri": "https://localhost:8080/"
        },
        "id": "ssZxAihW_TNp",
        "outputId": "609e9f9e-9e68-4c97-c2f5-5b4cd0d4cba6"
      },
      "execution_count": null,
      "outputs": [
        {
          "output_type": "stream",
          "name": "stdout",
          "text": [
            "3 x 1\n",
            "3 x 2\n",
            "3 x 3\n"
          ]
        }
      ]
    },
    {
      "cell_type": "code",
      "source": [
        "# Solution 147\n",
        "\n",
        "리스트 = [1, 2, 3]\n",
        "\n",
        "for 숫자 in 리스트 :\n",
        "  print(\"3 x\",숫자,\"=\",숫자*3)"
      ],
      "metadata": {
        "colab": {
          "base_uri": "https://localhost:8080/"
        },
        "id": "zrPMWEDv_TZa",
        "outputId": "4fddc12b-6559-47a4-e2d4-478af6370bf4"
      },
      "execution_count": null,
      "outputs": [
        {
          "output_type": "stream",
          "name": "stdout",
          "text": [
            "3 x 1 = 3\n",
            "3 x 2 = 6\n",
            "3 x 3 = 9\n"
          ]
        }
      ]
    },
    {
      "cell_type": "code",
      "source": [
        "# Solution 148\n",
        "\n",
        "리스트 = [\"가\", \"나\", \"다\", \"라\"]\n",
        "\n",
        "나다라 = 리스트[1:]\n",
        "for 문자 in 나다라 :\n",
        "  print(문자)\n",
        "\n",
        "리스트 = [\"가\", \"나\", \"다\", \"라\"]\n",
        "for 문자 in 리스트[1:]:\n",
        "  print(문자)\n"
      ],
      "metadata": {
        "colab": {
          "base_uri": "https://localhost:8080/"
        },
        "id": "Sh3LKnzi_TlX",
        "outputId": "ecad9831-2435-45a5-8bc9-e27d8bc67c47"
      },
      "execution_count": null,
      "outputs": [
        {
          "output_type": "stream",
          "name": "stdout",
          "text": [
            "나\n",
            "다\n",
            "라\n",
            "나\n",
            "다\n",
            "라\n"
          ]
        }
      ]
    },
    {
      "cell_type": "code",
      "source": [
        "# Solution 149\n",
        "\n",
        "리스트 = [\"가\", \"나\", \"다\", \"라\"]\n",
        "for 문자 in 리스트[::2]:\n",
        "  print(문자)"
      ],
      "metadata": {
        "colab": {
          "base_uri": "https://localhost:8080/"
        },
        "id": "W1y2O9Dz_TxR",
        "outputId": "813f5ae8-9405-4c52-a917-6d72ee93294b"
      },
      "execution_count": null,
      "outputs": [
        {
          "output_type": "stream",
          "name": "stdout",
          "text": [
            "가\n",
            "다\n"
          ]
        }
      ]
    },
    {
      "cell_type": "code",
      "source": [
        "# Solution 150\n",
        "\n",
        "리스트 = [\"가\", \"나\", \"다\", \"라\"]\n",
        "for 문자 in 리스트[::-1]:\n",
        "  print(문자)"
      ],
      "metadata": {
        "colab": {
          "base_uri": "https://localhost:8080/"
        },
        "id": "cFBFinkh_T9N",
        "outputId": "43aabbcc-ba3a-43d1-e063-f5a937e9d498"
      },
      "execution_count": null,
      "outputs": [
        {
          "output_type": "stream",
          "name": "stdout",
          "text": [
            "라\n",
            "다\n",
            "나\n",
            "가\n"
          ]
        }
      ]
    }
  ]
}