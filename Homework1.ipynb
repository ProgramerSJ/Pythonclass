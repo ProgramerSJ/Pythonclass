{
  "nbformat": 4,
  "nbformat_minor": 0,
  "metadata": {
    "colab": {
      "provenance": [],
      "authorship_tag": "ABX9TyOSek0kZqE3bJ5pnddUzB01",
      "include_colab_link": true
    },
    "kernelspec": {
      "name": "python3",
      "display_name": "Python 3"
    },
    "language_info": {
      "name": "python"
    }
  },
  "cells": [
    {
      "cell_type": "markdown",
      "metadata": {
        "id": "view-in-github",
        "colab_type": "text"
      },
      "source": [
        "<a href=\"https://colab.research.google.com/github/ProgramerSJ/Pythonclass/blob/main/Homework1.ipynb\" target=\"_parent\"><img src=\"https://colab.research.google.com/assets/colab-badge.svg\" alt=\"Open In Colab\"/></a>"
      ]
    },
    {
      "cell_type": "code",
      "execution_count": null,
      "metadata": {
        "colab": {
          "base_uri": "https://localhost:8080/"
        },
        "id": "yM3apXkv0vS1",
        "outputId": "feea6a76-2a88-405a-f643-968317c98da6"
      },
      "outputs": [
        {
          "output_type": "stream",
          "name": "stdout",
          "text": [
            "Hello World\n"
          ]
        }
      ],
      "source": [
        "# Solution 1.\n",
        "\n",
        "print(\"Hello World\")"
      ]
    },
    {
      "cell_type": "code",
      "source": [
        "# Solution 2.\n",
        "\n",
        "print(\"Mary's cosmetics\")"
      ],
      "metadata": {
        "colab": {
          "base_uri": "https://localhost:8080/"
        },
        "id": "TRqsRRjY1TUx",
        "outputId": "6e5a6cdf-3dbe-43ec-e6b8-20d66ca745ec"
      },
      "execution_count": null,
      "outputs": [
        {
          "output_type": "stream",
          "name": "stdout",
          "text": [
            "Mary's cosmetics\n"
          ]
        }
      ]
    },
    {
      "cell_type": "code",
      "source": [
        "# Solution 3.\n",
        "\n",
        "print(\"신씨가 소리질렀다.\"'\"도둑이야.\"')"
      ],
      "metadata": {
        "colab": {
          "base_uri": "https://localhost:8080/"
        },
        "id": "UJxEgwap1ghG",
        "outputId": "31b2ad67-3dc6-493c-9eba-ed8dc30832b1"
      },
      "execution_count": null,
      "outputs": [
        {
          "output_type": "stream",
          "name": "stdout",
          "text": [
            "신씨가 소리질렀다.\"도둑이야.\"\n"
          ]
        }
      ]
    },
    {
      "cell_type": "code",
      "source": [
        "# Solution 4.\n",
        "\n",
        "print('\\\"C:\\Windows\"')"
      ],
      "metadata": {
        "colab": {
          "base_uri": "https://localhost:8080/"
        },
        "id": "AJ5ZWuBd2Xpg",
        "outputId": "069fc36d-1f27-4e29-c86d-13f03d9c29dc"
      },
      "execution_count": null,
      "outputs": [
        {
          "output_type": "stream",
          "name": "stdout",
          "text": [
            "\"C:\\Windows\"\n"
          ]
        }
      ]
    },
    {
      "cell_type": "code",
      "source": [
        "# Solution 5.\n",
        "\n",
        "print(\"안녕하세요.\\n만나서\\t\\t반갑습니다.\")\n",
        "\n",
        "# \\n은 강제로 줄을 바꿈\n",
        "# \\t는 일정 간격을 띄어씀"
      ],
      "metadata": {
        "colab": {
          "base_uri": "https://localhost:8080/"
        },
        "id": "pcB595ML2lZf",
        "outputId": "14f4c78a-fc06-42b8-9a9a-32a107b50845"
      },
      "execution_count": null,
      "outputs": [
        {
          "output_type": "stream",
          "name": "stdout",
          "text": [
            "안녕하세요.\n",
            "만나서\t\t반갑습니다.\n"
          ]
        }
      ]
    },
    {
      "cell_type": "code",
      "source": [
        "# Solution 6.\n",
        "\n",
        "print(\"오늘은\", \"일요일\")"
      ],
      "metadata": {
        "colab": {
          "base_uri": "https://localhost:8080/"
        },
        "id": "-PO85KKz25kF",
        "outputId": "3b347e30-7088-492f-bced-9ad2d9235dbe"
      },
      "execution_count": null,
      "outputs": [
        {
          "output_type": "stream",
          "name": "stdout",
          "text": [
            "오늘은 일요일\n"
          ]
        }
      ]
    },
    {
      "cell_type": "code",
      "source": [
        "# Solution 7.\n",
        "\n",
        "alist = \"naver;kakao;sk;samsung\"\n",
        "print(alist)"
      ],
      "metadata": {
        "colab": {
          "base_uri": "https://localhost:8080/"
        },
        "id": "G4uZK4RJ2skx",
        "outputId": "df05cbc8-ce7d-487b-8df3-289772765145"
      },
      "execution_count": null,
      "outputs": [
        {
          "output_type": "stream",
          "name": "stdout",
          "text": [
            "naver;kakao;sk;samsung\n"
          ]
        }
      ]
    },
    {
      "cell_type": "code",
      "source": [
        "# Solution 8.\n",
        "\n",
        "alist = \"naver/kakao/sk/samsung\"\n",
        "print(alist)"
      ],
      "metadata": {
        "id": "sZ29Ye7L2s0d",
        "colab": {
          "base_uri": "https://localhost:8080/"
        },
        "outputId": "d015b6cb-8818-4014-a441-7c40da2d1b3c"
      },
      "execution_count": null,
      "outputs": [
        {
          "output_type": "stream",
          "name": "stdout",
          "text": [
            "naver/kakao/sk/samsung\n"
          ]
        }
      ]
    },
    {
      "cell_type": "code",
      "source": [
        "# Solution 9.\n",
        "\n",
        "print(\"first\", end=\" \");print('second')"
      ],
      "metadata": {
        "colab": {
          "base_uri": "https://localhost:8080/"
        },
        "id": "0BejuFUi4bWj",
        "outputId": "e01da55d-e60e-4b63-b6b7-f15ee3c81a9a"
      },
      "execution_count": null,
      "outputs": [
        {
          "output_type": "stream",
          "name": "stdout",
          "text": [
            "first second\n"
          ]
        }
      ]
    },
    {
      "cell_type": "code",
      "source": [
        "# Soltion 10.\n",
        "\n",
        "a = 5\n",
        "b = 3\n",
        "print (a/b)\n"
      ],
      "metadata": {
        "colab": {
          "base_uri": "https://localhost:8080/"
        },
        "id": "aveTxCiC4kld",
        "outputId": "160c962e-e69c-41c2-982a-8aac031758e2"
      },
      "execution_count": null,
      "outputs": [
        {
          "output_type": "stream",
          "name": "stdout",
          "text": [
            "1.6666666666666667\n"
          ]
        }
      ]
    },
    {
      "cell_type": "code",
      "source": [
        "# Solution 11.\n",
        "\n",
        "삼성전자 = 50000\n",
        "\n",
        "print(\"총 평가금액은\",삼성전자*10,\"원 입니다.\")\n"
      ],
      "metadata": {
        "colab": {
          "base_uri": "https://localhost:8080/"
        },
        "id": "ijyDNXiP8Mvh",
        "outputId": "8d1a88a9-24fc-455a-fdf5-1eea918d0679"
      },
      "execution_count": null,
      "outputs": [
        {
          "output_type": "stream",
          "name": "stdout",
          "text": [
            "총 평가금액은 500000 원 입니다.\n"
          ]
        }
      ]
    },
    {
      "cell_type": "code",
      "source": [
        "# Solution 12.\n",
        "\n",
        "시가총액 = 298000000000000\n",
        "현재가 = 50000\n",
        "PER = 15.79\n",
        "\n",
        "print(시가총액);print(현재가);print(PER)"
      ],
      "metadata": {
        "colab": {
          "base_uri": "https://localhost:8080/"
        },
        "id": "w74pUgo05eXe",
        "outputId": "e68acee2-603a-4c28-a821-7316e8008134"
      },
      "execution_count": null,
      "outputs": [
        {
          "output_type": "stream",
          "name": "stdout",
          "text": [
            "298000000000000\n",
            "50000\n",
            "15.79\n"
          ]
        }
      ]
    },
    {
      "cell_type": "code",
      "source": [
        "# Solution 13.\n",
        "\n",
        "s = \"hello\"\n",
        "t = \"python\"\n",
        "\n",
        "print(s+\"!\",t)\n"
      ],
      "metadata": {
        "colab": {
          "base_uri": "https://localhost:8080/"
        },
        "id": "p4BPrfnk7M8D",
        "outputId": "b00efad6-f59a-42f0-c7ed-02081a816e65"
      },
      "execution_count": null,
      "outputs": [
        {
          "output_type": "stream",
          "name": "stdout",
          "text": [
            "hello! python\n"
          ]
        }
      ]
    },
    {
      "cell_type": "code",
      "source": [
        "# Soltion 14.\n",
        "\n",
        "print(2+2*3)\n"
      ],
      "metadata": {
        "colab": {
          "base_uri": "https://localhost:8080/"
        },
        "id": "uJ7CW_LL77eb",
        "outputId": "9a47eafe-d16c-47f7-9b5d-cc0977a83dc7"
      },
      "execution_count": null,
      "outputs": [
        {
          "output_type": "stream",
          "name": "stdout",
          "text": [
            "8\n"
          ]
        }
      ]
    },
    {
      "cell_type": "code",
      "source": [
        "# Solution 15.\n",
        "\n",
        "a = 128\n",
        "print (type(a))\n",
        "\n",
        "a = \"132\"\n",
        "print (type(a))"
      ],
      "metadata": {
        "colab": {
          "base_uri": "https://localhost:8080/"
        },
        "id": "cAXf1O1J8c1b",
        "outputId": "9ca83c5a-6b8c-438e-9233-61e45a41764c"
      },
      "execution_count": null,
      "outputs": [
        {
          "output_type": "stream",
          "name": "stdout",
          "text": [
            "<class 'int'>\n",
            "<class 'str'>\n"
          ]
        }
      ]
    },
    {
      "cell_type": "code",
      "source": [
        "# Solution 16.\n",
        "\n",
        "num_str = \"720\"\n",
        "print(num_str, type(num_str))\n",
        "\n",
        "num_int = int(num_str)\n",
        "print(num_int+1, type(num_int))"
      ],
      "metadata": {
        "colab": {
          "base_uri": "https://localhost:8080/"
        },
        "id": "iUcQlk_n8wJW",
        "outputId": "6571558a-f2d8-41f9-ac6f-a6db18a51e0a"
      },
      "execution_count": null,
      "outputs": [
        {
          "output_type": "stream",
          "name": "stdout",
          "text": [
            "720 <class 'str'>\n",
            "721 <class 'int'>\n"
          ]
        }
      ]
    },
    {
      "cell_type": "code",
      "source": [
        "# Solution 17.\n",
        "\n",
        "num = 100\n",
        "\n",
        "a = \"100\"\n",
        "\n",
        "print(a)\n",
        "print(type(a))"
      ],
      "metadata": {
        "colab": {
          "base_uri": "https://localhost:8080/"
        },
        "id": "pNyMb_2y9Our",
        "outputId": "0f7d5007-e024-44c7-fb8a-fb56a09a454f"
      },
      "execution_count": null,
      "outputs": [
        {
          "output_type": "stream",
          "name": "stdout",
          "text": [
            "100\n",
            "<class 'str'>\n"
          ]
        }
      ]
    },
    {
      "cell_type": "code",
      "source": [
        "# Solution 18.\n",
        "\n",
        "a = \"15.79\"\n",
        "a = 15.79\n",
        "\n",
        "print(a)\n",
        "print(type(a))\n"
      ],
      "metadata": {
        "colab": {
          "base_uri": "https://localhost:8080/"
        },
        "id": "WKL4pJWS9p-N",
        "outputId": "573e1917-92db-4594-fcbf-4e7aea5a828f"
      },
      "execution_count": null,
      "outputs": [
        {
          "output_type": "stream",
          "name": "stdout",
          "text": [
            "15.79\n",
            "<class 'float'>\n"
          ]
        }
      ]
    },
    {
      "cell_type": "code",
      "source": [
        "# Solution 19.\n",
        "\n",
        "year = \"2020\"\n",
        "print (year, type(year))\n",
        "\n",
        "year_i = int(year)\n",
        "print(year_i, year_i+1, year_i+2, type(year_i))"
      ],
      "metadata": {
        "colab": {
          "base_uri": "https://localhost:8080/"
        },
        "id": "iQKiVHxYGMvV",
        "outputId": "295c4bb1-7d0a-48be-cd22-50abe3565a9c"
      },
      "execution_count": null,
      "outputs": [
        {
          "output_type": "stream",
          "name": "stdout",
          "text": [
            "2020 <class 'str'>\n",
            "2020 2021 2022 <class 'int'>\n"
          ]
        }
      ]
    },
    {
      "cell_type": "code",
      "source": [
        "# Solution 20.\n",
        "\n",
        "월금액 = 48584\n",
        "무이자개월수 = 36\n",
        "\n",
        "print(\"총 금액은\",월금액*무이자개월수,\"원 입니다.\")\n"
      ],
      "metadata": {
        "colab": {
          "base_uri": "https://localhost:8080/"
        },
        "id": "wVJn3wNmHNmu",
        "outputId": "dc2b89a7-756f-4dcd-bb7a-139dde7f17e9"
      },
      "execution_count": null,
      "outputs": [
        {
          "output_type": "stream",
          "name": "stdout",
          "text": [
            "총 금액은 1749024 원 입니다.\n"
          ]
        }
      ]
    }
  ]
}