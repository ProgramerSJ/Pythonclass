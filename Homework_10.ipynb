{
  "nbformat": 4,
  "nbformat_minor": 0,
  "metadata": {
    "colab": {
      "provenance": [],
      "authorship_tag": "ABX9TyNIDGZYUihyzLcXwn244kGA",
      "include_colab_link": true
    },
    "kernelspec": {
      "name": "python3",
      "display_name": "Python 3"
    },
    "language_info": {
      "name": "python"
    }
  },
  "cells": [
    {
      "cell_type": "markdown",
      "metadata": {
        "id": "view-in-github",
        "colab_type": "text"
      },
      "source": [
        "<a href=\"https://colab.research.google.com/github/ProgramerSJ/Pythonclass/blob/main/Homework_10.ipynb\" target=\"_parent\"><img src=\"https://colab.research.google.com/assets/colab-badge.svg\" alt=\"Open In Colab\"/></a>"
      ]
    },
    {
      "cell_type": "code",
      "execution_count": null,
      "metadata": {
        "colab": {
          "base_uri": "https://localhost:8080/"
        },
        "id": "pW3yUE9jH7Ti",
        "outputId": "3d40dee1-125b-4aa7-9d9f-ad87e7730a12"
      },
      "outputs": [
        {
          "output_type": "stream",
          "name": "stdout",
          "text": [
            "첫 번째 숫자를 입력하세요 5\n",
            "첫 번째 숫자를 입력하세요 4\n",
            "4 5\n"
          ]
        }
      ],
      "source": [
        "#Question 12\n",
        "# Ask for two numbers.\n",
        "# If the first one is larger than the second, display the second number first and then the first number,\n",
        "# otherwise show the first number first and then the second.\n",
        "\n",
        "a = int(input(\"첫 번째 숫자를 입력하세요 \"))\n",
        "b = int(input(\"첫 번째 숫자를 입력하세요 \"))\n",
        "\n",
        "if a > b:\n",
        "  print(b,a)\n",
        "else :\n",
        "  print(a,b)"
      ]
    },
    {
      "cell_type": "code",
      "source": [
        "#Question 13\n",
        "\n",
        "# Ask the user to enter a number that is under 20.\n",
        "# If they enter a number that is 20 or more, display the message \"Too high\",\n",
        "# otherwise display \"Thank you\".\n",
        "\n",
        "a = input(\"20 미만의 숫자를 입력하세요 \")\n",
        "\n",
        "a = int(a)\n",
        "\n",
        "if a >= 20:\n",
        "  print(\"Too high\")\n",
        "else :\n",
        "  print(\"Thank you\")"
      ],
      "metadata": {
        "colab": {
          "base_uri": "https://localhost:8080/"
        },
        "id": "uNdw-oKJIVWd",
        "outputId": "b4ac23e6-1ffb-40d9-d25e-13fabb3e7068"
      },
      "execution_count": null,
      "outputs": [
        {
          "output_type": "stream",
          "name": "stdout",
          "text": [
            "20 미만의 숫자를 입력하세요 21\n",
            "Too high\n"
          ]
        }
      ]
    },
    {
      "cell_type": "code",
      "source": [
        "#Question 14\n",
        "\n",
        "# Ask the user to enter a number between 10 and 20(inclusive).\n",
        "# If they enter a number within this range,\n",
        "# display the message \"Thank you\",\n",
        "# otherwise display the message \"Incorrect answer\".\n",
        "\n",
        "a = input(\"10 ~ 20 중 숫자를 입력하세요 \")\n",
        "\n",
        "a = int(a)\n",
        "\n",
        "if a >= 10 and a <= 20:\n",
        "  print(\"Thank you\")\n",
        "else :\n",
        "  print(\"Incorrect answer\")"
      ],
      "metadata": {
        "colab": {
          "base_uri": "https://localhost:8080/"
        },
        "id": "xuMESgCiIVhx",
        "outputId": "45aed975-fde1-4e2c-e44e-1c170eef6b2c"
      },
      "execution_count": null,
      "outputs": [
        {
          "output_type": "stream",
          "name": "stdout",
          "text": [
            "10 ~ 20 중 숫자를 입력하세요 21\n",
            "Incorrect answer\n"
          ]
        }
      ]
    },
    {
      "cell_type": "code",
      "source": [
        "#Question 15\n",
        "\n",
        "# Ask the user to enter their favourite colour. if they enter \"red\", \"RED\" or \"Red\"\n",
        "# display the message \"I like red too\", otherwise display the message\n",
        "# \"I don't like [colour], I prefer red\".\n",
        "\n",
        "a = input(\"What is your favourite colour? \")\n",
        "\n",
        "if a == \"red\" or a == \"RED\" or a ==\"Red\":\n",
        "  print(\"I like red too\")\n",
        "else :\n",
        "  print(\"I don't like\", a, \"I prefer red\")\n"
      ],
      "metadata": {
        "colab": {
          "base_uri": "https://localhost:8080/"
        },
        "id": "gPvmo1vyIVrX",
        "outputId": "e685cf40-8661-4cac-d6b9-d75d3ea998a8"
      },
      "execution_count": null,
      "outputs": [
        {
          "output_type": "stream",
          "name": "stdout",
          "text": [
            "What is your favourite colour?black\n",
            "I don't like black I prefer red\n"
          ]
        }
      ]
    },
    {
      "cell_type": "code",
      "source": [
        "#Question 16\n",
        "\n",
        "# Ask the user if it is raining and convert their answer to lower case so it doesn't matter\n",
        "# what case they type it in. if they answer \"yes\", ask if it is windy.\n",
        "# If they answer \"yes\" to this second question, display the answer \"It is too windy for an umbrella\",\n",
        "# otherwise display the message \"Take an umbrella\".\n",
        "# If they did not answer yes to the first question, display the answer \"Enjoy your day\".\n",
        "\n",
        "a = input(\"If it is raining? \")\n",
        "\n",
        "if a == \"yes\":\n",
        "  input(\"If it is windy? \")\n",
        "  if a ==\"yes\":\n",
        "    print(\"It is too windy for an umbrella\")\n",
        "else :\n",
        "  print(\"Enjoy your day\")"
      ],
      "metadata": {
        "colab": {
          "base_uri": "https://localhost:8080/"
        },
        "id": "2IZYvWG7IV1U",
        "outputId": "360a3e6f-8744-4376-ea20-50de93027705"
      },
      "execution_count": null,
      "outputs": [
        {
          "output_type": "stream",
          "name": "stdout",
          "text": [
            "If it is raining? no\n",
            "Enjoy your day\n"
          ]
        }
      ]
    },
    {
      "cell_type": "code",
      "source": [
        "#Question 17\n",
        "\n",
        "# Ask the user's age. If they are 18 or over, display the message \"You can vote\",\n",
        "# if they are aged 17, display the message \"You can learn to drive\",\n",
        "# if they are aged 16, display the message \"You can buy a lottery ticket\",\n",
        "# it they are under 16, display the message \"You can go Trick-or-Treating\"\n",
        "\n",
        "a = input('나이를 입력하세요. ')\n",
        "a = int(a)\n",
        "\n",
        "if a >= 18:\n",
        "  print(\"You can vote\")\n",
        "elif a == 17:\n",
        "  print(\"You can learn to drive\")\n",
        "elif a == 16:\n",
        "  print(\"You can buy a lottery ticket\")\n",
        "else :\n",
        "  print(\"You can go Trick-or-Treating\")"
      ],
      "metadata": {
        "colab": {
          "base_uri": "https://localhost:8080/"
        },
        "id": "4pddCRh1IV_H",
        "outputId": "31e6e68a-e853-43a7-e704-f1da90906c79"
      },
      "execution_count": null,
      "outputs": [
        {
          "output_type": "stream",
          "name": "stdout",
          "text": [
            "나이를 입력하세요.30\n",
            "You can vote\n"
          ]
        }
      ]
    },
    {
      "cell_type": "code",
      "source": [
        "#Question 18\n",
        "\n",
        "# Ask the user to enter a number. \n",
        "# If it is under 10, display the message \"Too low\",\n",
        "# If their number is between 10 and 20, display \"Correct\",\n",
        "# otherwise display \"Too high\".\n",
        "\n",
        "a = input('숫자를 입력하세요. ')\n",
        "a = int(a)\n",
        "\n",
        "if a < 10:\n",
        "  print(\"Too low\")\n",
        "elif a >= 10 and a < 20:\n",
        "  print(\"Correct\")\n",
        "else :\n",
        "  print(\"Too high\")"
      ],
      "metadata": {
        "colab": {
          "base_uri": "https://localhost:8080/"
        },
        "id": "OZqHd1cZIWJB",
        "outputId": "f70dfdb7-ee7f-416a-bbdc-53c43be488f8"
      },
      "execution_count": null,
      "outputs": [
        {
          "output_type": "stream",
          "name": "stdout",
          "text": [
            "숫자를 입력하세요.20\n",
            "Too high\n"
          ]
        }
      ]
    },
    {
      "cell_type": "code",
      "source": [
        "#Question 19\n",
        "\n",
        "# Ask the user to enter 1,2 or 3.\n",
        "# If they enter a 1, display the message \"Thank you\",\n",
        "# if they enter a 2, display \"Well done\",\n",
        "# if they enter a 3, display \"Correct\".\n",
        "# if they enter anything else, display \"Error message\"\n",
        "\n",
        "a = input('1 ~ 3 중에 숫자를 입력하세요. ')\n",
        "a = int(a)\n",
        "\n",
        "if a == 1:\n",
        "  print(\"Thank you\")\n",
        "elif a == 2:\n",
        "  print(\"Well done\")\n",
        "elif a == 3:\n",
        "  print(\"Correct\")\n",
        "else :\n",
        "  print(\"Error message\")"
      ],
      "metadata": {
        "colab": {
          "base_uri": "https://localhost:8080/"
        },
        "id": "woouhrCwIWSq",
        "outputId": "55c85c96-c734-4c79-c572-f1805dcd1fa0"
      },
      "execution_count": null,
      "outputs": [
        {
          "output_type": "stream",
          "name": "stdout",
          "text": [
            "1 ~ 3 중에 숫자를 입력하세요.0\n",
            "Error message\n"
          ]
        }
      ]
    }
  ]
}