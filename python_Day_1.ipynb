{
  "nbformat": 4,
  "nbformat_minor": 0,
  "metadata": {
    "colab": {
      "provenance": [],
      "authorship_tag": "ABX9TyNi0OhmYWRS50+CSOdAgHgk",
      "include_colab_link": true
    },
    "kernelspec": {
      "name": "python3",
      "display_name": "Python 3"
    },
    "language_info": {
      "name": "python"
    }
  },
  "cells": [
    {
      "cell_type": "markdown",
      "metadata": {
        "id": "view-in-github",
        "colab_type": "text"
      },
      "source": [
        "<a href=\"https://colab.research.google.com/github/ProgramerSJ/Pythonclass/blob/main/python_Day_1.ipynb\" target=\"_parent\"><img src=\"https://colab.research.google.com/assets/colab-badge.svg\" alt=\"Open In Colab\"/></a>"
      ]
    },
    {
      "cell_type": "code",
      "execution_count": null,
      "metadata": {
        "colab": {
          "base_uri": "https://localhost:8080/"
        },
        "id": "bQDUwjh-d730",
        "outputId": "cb0ed92a-8e4d-4c2b-b46e-4918f073227e"
      },
      "outputs": [
        {
          "output_type": "stream",
          "name": "stdout",
          "text": [
            "Hello World!!!\n"
          ]
        }
      ],
      "source": [
        "print(\"Hello World!!!\") "
      ]
    },
    {
      "cell_type": "markdown",
      "source": [
        "- 파이썬이란...\n",
        "창시자 : 귀도 반 로썸(Guido Van Rossum)이 1990년에 개발한 인터프린터 언어이다.\n",
        "\n",
        "언어 Type\n",
        "1. 컴파일러(추가적인 method, class 등 적용 등이 필요함. 덩어리 째 실행 ex. C+, JAVA(하이브리드, but 일반적으로 컴파일러 분류) etc..) \n",
        "2. 인터프린터(한 줄씩 코드를 해석해서 실행 결과를 바로 확인할 수 있는 언어, ex R, Python)\n",
        "\n",
        "Point\n",
        "1. 인공지능, 데이터 분석에 대해 Python이 JAVA 대비 비교적 적합함(JAVA는 추가적인 과정이 필요하므로 적용이 어려움).\n",
        "2. 로고는 뱀 두 마리가 엉켜있는 형태인데, 이는 고대 신화에 나오는 동굴에 살던 큰 뱀을 뜻하기 때문임.\n",
        " * anaconda 언어 또한 뱀인데, 파이썬의 기본 사항이 적용되었기 때문\n",
        "3. Python은 교육용으로 많이 사용되는데, 업무용으로도 손색이 없음.\n",
        "(웹 개발 등은 JAVA로 활용되고 있으나, 처음 입문용으로는 Python이 수월)\n",
        "\n",
        "Python 언어의 특징\n",
        "1. 문법이 쉬움.\n",
        "2. 빠르게 배울 수 있음.\n",
        " * JavaScript가 범용성의 장점으로 세계적으로 인기가 있는 추세지만, 국내에서는 아직 Python이 주로 활용\n",
        "3. 무료지만 강력함.\n",
        "4. 즐거운 프로그래밍이 가능함.\n",
        "* 모든 언어의 기본은 C 이므로, 향후 배움을 추천\n",
        "\n",
        "Python으로 할 수 있는 것(장점)\n",
        "1. 인공지능\n",
        "2. 빅데이터\n",
        " * R보다 유연한 특징\n",
        "3. GUI(Graphic User Interface) Application\n",
        "4. C / C++ 과의 결합이 원활함.(Library 공유가 가능)\n",
        " * 최근 Rust 언어가 C를 대체할 수 있는 언어로 주목됨\n",
        "5. 웹 프로그래밍 (flask, Django(실무용))\n",
        " * Instagram이 초기에 Python으로 만들어짐.\n",
        "6. Database\n",
        "\n",
        "Python의 약점\n",
        "1. System(주로 Hardware)과 밀접한 프로그래밍\n",
        " * JAVA의 언어는 임베디드로 시작되어 Hardware에 맞는 프로그래밍이 수월함\n",
        "2. 모바일 프로그래밍\n",
        " * 안드로이드, 애플에서의 웹개발은 매우 어렵고, 적용이 제한적임.\n",
        "\n",
        "IDE 개발도구\n",
        "1. Colab\n",
        "2. Anaconda\n",
        "3. VS(Visual Studio) Code\n",
        " * MS에서 만든 무료 개발도구로 모든 언어(R, JAVA, C 등)가 적용 가능하여 강력히 추천됨.\n",
        "4. Pycharm\n",
        " * Python에서 가장 유명한 언어(사용에 편함)이나, 유료고 매우 비싸므로 강의에선 굳이 쓰지 않음.\n",
        " * 언어별 개발도구(R - R Studio, JAVA - 이클립스 등)\n"
      ],
      "metadata": {
        "id": "nl-Nrh4Gh6CQ"
      }
    },
    {
      "cell_type": "markdown",
      "source": [
        "# 변수\n",
        "\n",
        "숫자, 문자 등 데이터를 다룰 때 컴퓨터에서는 변수(Variable)를 사용하게 됨.\n",
        "\n",
        "- 데이터는 변수라는 통에 담아서 활용함(컴퓨터에서 데이터를 처리하는 방법, 규칙).\n",
        "- 통에 데이터 덮어씌우면(새로 담으면), 뒤의 데이터가 산출됨."
      ],
      "metadata": {
        "id": "m9MgwRdtrtku"
      }
    },
    {
      "cell_type": "code",
      "source": [
        "a = 1\n",
        "a = 2\n",
        "b = \"python\"\n",
        "b = \"JAVA\"\n",
        "print(a)\n",
        "print(b)"
      ],
      "metadata": {
        "colab": {
          "base_uri": "https://localhost:8080/"
        },
        "id": "c3ojfk7yh1OH",
        "outputId": "8eeb4a43-a33c-43a3-97d8-a540c98d0805"
      },
      "execution_count": null,
      "outputs": [
        {
          "output_type": "stream",
          "name": "stdout",
          "text": [
            "2\n",
            "JAVA\n"
          ]
        }
      ]
    },
    {
      "cell_type": "markdown",
      "source": [
        "\n",
        "# **자료형**\n",
        "\n",
        "자료형이란\n",
        "- 프로그래밍에서 자료 형태(문자/숫자 등)로 사용하는 것을 말함.\n",
        "- 프로그래밍의 핵심이자 기본이 바로 자료형임.\n",
        "- 자료형을 충분히 이해해야만 프로그래밍을 잘 할 수 있음.\n",
        "\n",
        "1. 숫자형\n",
        "- 숫자형 자료형은 숫자 형태(정수, 실수 등)로 이루어진 자료형이다.\n",
        " - 정수 : [1, 2, ...]\n",
        " - 실수 : [2.14, 3.84 ...]\n",
        "- 정수형 ( Integer )\n",
        "- 상수형\n",
        " - 상수는 변하지 않는 수"
      ],
      "metadata": {
        "id": "Y_JzZJ2wqH82"
      }
    },
    {
      "cell_type": "code",
      "source": [
        "a = 3\n",
        "b = 5\n",
        "# a+b = 8 / Print를 생략해도 잘 찍히는 것은, colab에서는 가능하나 다른 곳(ex. Java)에선 안 찍힐 수 있음. ex. a+b = 8 / Print(a+b) = 8 \n",
        "# print는 생략해도 출력이 되지만 정상은 print 구문을 사용하는 것이다. \n",
        "print (a+b) # 주석 comment(#)은 컴퓨터는 읽지 않는다. (모든 코드에는 주석을 붙여주는 것이 좋음. ex. JAVA는 //)\n",
        "print (a-b)\n",
        "print (a*b)\n",
        "print (a/b)"
      ],
      "metadata": {
        "colab": {
          "base_uri": "https://localhost:8080/"
        },
        "id": "EHRk8NEVvfbt",
        "outputId": "94bc3bed-02d5-4ff2-84e5-52c4014bb2a0"
      },
      "execution_count": null,
      "outputs": [
        {
          "output_type": "stream",
          "name": "stdout",
          "text": [
            "8\n",
            "-2\n",
            "15\n",
            "0.6\n"
          ]
        }
      ]
    },
    {
      "cell_type": "code",
      "source": [
        "# 나머지 연산자 % 는 몫이 아닌 나머지를 구한다.\n",
        "# 나머지 연산자를 통해 짝수, 홀수, 배수를 알아낼 수 있다. (주로 짝수, 홀수를 알아내는 데 자주 사용됨)\n",
        "a = 7\n",
        "b = 3\n",
        "print(a%b)\n",
        "print(8%2) # 3/2의 몫 1, 나머지 1 중 나머지가 산출됨. / 어떤 수를 2로 나눈 나머지가 1이면, 항상 홀수이고 나머지가 0이면 항상 짝수\n",
        "print(8%4) # 어떤 수를 어떤 수로 나눈 나머지가 0이면, 항상 그 수의 배수이다."
      ],
      "metadata": {
        "colab": {
          "base_uri": "https://localhost:8080/"
        },
        "id": "5fzFZnZRwvCQ",
        "outputId": "f344ee71-a373-45e0-d03e-5fb899641595"
      },
      "execution_count": null,
      "outputs": [
        {
          "output_type": "stream",
          "name": "stdout",
          "text": [
            "1\n",
            "0\n",
            "0\n"
          ]
        }
      ]
    },
    {
      "cell_type": "code",
      "source": [
        "# 몫을 알고 싶을 때는 //\n",
        "# 거의 사용되지 않음.\n",
        "print(9//2)"
      ],
      "metadata": {
        "colab": {
          "base_uri": "https://localhost:8080/"
        },
        "id": "EThLRZNtysdL",
        "outputId": "534e7f9a-2b70-4ddc-99d8-34ada210ed50"
      },
      "execution_count": null,
      "outputs": [
        {
          "output_type": "stream",
          "name": "stdout",
          "text": [
            "4\n"
          ]
        }
      ]
    },
    {
      "cell_type": "markdown",
      "source": [
        "# 문자열 자료형\n",
        "\n",
        "문자열은 문자, 단어, 문장 등으로 구성된 글자들의 집합임.\n",
        " - 한 글자도 문자, 여러 글자 또한 포함"
      ],
      "metadata": {
        "id": "5g5IcaiUy_xs"
      }
    },
    {
      "cell_type": "code",
      "source": [
        "a = \"b\"\n",
        "b = \"hello\"\n",
        "c = \"awesome class\"\n",
        "d = \"123\" # 큰따옴표 \"\"가 있으면, 숫자 123 과는 달리 문자 \"123\"으로 적용됨.\n",
        "\n",
        "print(a)\n",
        "print(b)\n",
        "print(c)\n",
        "print(d)\n",
        "\n",
        "# 자바 등과 같은 언어에서는 변수를 사용할 때 형까지도 지정을 해주어야만 한다. (숫자를 포함시키면 error 발생, 하지만 형이 확정이 안되면 소스가 불안해지므로 장기적, 대형 프로그램일수록 에러가 많이날 수 있음)\n",
        "# ex. char a = \"b\" ; (한 글자)\n",
        "# ex. String b = \"Hello\" ; (여러 글자)\n",
        "# ex. int c = 5 ; (숫자)"
      ],
      "metadata": {
        "colab": {
          "base_uri": "https://localhost:8080/"
        },
        "id": "qawurHMUzU_r",
        "outputId": "a7f4994b-e7c9-41b7-f041-c4d740e23573"
      },
      "execution_count": null,
      "outputs": [
        {
          "output_type": "stream",
          "name": "stdout",
          "text": [
            "b\n",
            "hello\n",
            "awesome class\n",
            "123\n"
          ]
        }
      ]
    },
    {
      "cell_type": "code",
      "source": [
        "# 파이썬에서 문자열은 \"\" 큰따옴표, '' 작은따옴표 기본적으로 동일하게 취급한다. (Java는 \"\"를 char, ''를 String 으로 사용)\n",
        "\n",
        "a = \"Hello\"\n",
        "b = 'Hello'\n",
        "print(a)\n",
        "print(b)\n",
        "\n",
        "# 하지만 아래의 경우 다르게 처리됨. 문장 내에 \"\" or ''를 포함하고 싶을 경우 동일하게 사용할 수는 없는데, 컴퓨터는 \"\"\"\" 중 가장 인접해있는 문자열을 취급한다.\n",
        "# 따라서 아래와 같이 \"\" 와 ''를 교차하여 사용해야 한다.\n",
        "a = 'Hello \"Austin\"'\n",
        "print(a)\n",
        "\n",
        "b = \"Hello 'Austin'\"\n",
        "print(b)\n",
        "\n",
        "# \"\"\"  \"\"\" doc string. 컴퓨터도 읽는 주석이며, 어떠한 영향을 미치지는 않는다. (사용하는 경우는 거의 없음)\n",
        "# '''  ''' \n",
        "\n",
        "# 그러나, 굳이 \"\" 안에 \"\"를 사용하고 싶은 경우 방법은 다음과 같다.\n",
        "# 백슬래시를 넣으면 기능이 무시되고 글자로만 취급된다.\n",
        "\n",
        "a = \"hello \\\"Austin\\\"\"\n",
        "b = 'hello \\'Austin\\''\n",
        "\n",
        "print(a)\n",
        "print(b)"
      ],
      "metadata": {
        "colab": {
          "base_uri": "https://localhost:8080/"
        },
        "id": "u6QEqag81JcE",
        "outputId": "e76010f9-27a0-41ba-dc4b-f94ff14295ad"
      },
      "execution_count": null,
      "outputs": [
        {
          "output_type": "stream",
          "name": "stdout",
          "text": [
            "Hello\n",
            "Hello\n",
            "Hello \"Austin\"\n",
            "Hello 'Austin'\n",
            "hello \"Austin\"\n",
            "hello 'Austin'\n"
          ]
        }
      ]
    },
    {
      "cell_type": "code",
      "source": [
        "# \\ 백슬래시를 사용하는 것을 이스케이프 코드를 사용한다라고 표현한다.(MAC 에서는 백슬래쉬 Windows 에서는 \\ 로 표현 가능)\n",
        "# \\ '\n",
        "# \\ \"\n",
        "# \\n 강제 줄바꿈(자주 사용됨)\n",
        "# \\t 일정 간격 띄우기\n",
        "\n",
        "a = \"hello \\nworld\"\n",
        "print(a)\n",
        "\n",
        "b = \"hello\\t\\t\\tworld\"\n",
        "print(b)"
      ],
      "metadata": {
        "colab": {
          "base_uri": "https://localhost:8080/"
        },
        "id": "u9BFYgzZ3-Qr",
        "outputId": "28b9bedf-d2ec-4c42-d233-b1833e4c053e"
      },
      "execution_count": null,
      "outputs": [
        {
          "output_type": "stream",
          "name": "stdout",
          "text": [
            "hello \n",
            "world\n",
            "hello\t\t\tworld\n"
          ]
        }
      ]
    },
    {
      "cell_type": "markdown",
      "source": [
        "Notion App 진행\n",
        "우측 상단의 복제 -> 사용자의 Notion으로 Class 복제됨.\n",
        "\n",
        "업로드 방법 (11/05 PM 10:00 Note 업로드 마감)\n",
        "서강대학교 강의 관련 사이트\n",
        "1. Notion Click\n",
        "2. Notion 링크 들어가서 Day 1 캡션 Click\n",
        "3. 최대화 이후 페이지 편집\n",
        "4. 업로드 양식 참고\n",
        "이름(홍성진)\n",
        "링크(https://colab.research.google.com/drive/1fne-l1-zhZSi1tUjNOr5p2pHEJpP7NJd?usp=sharing)"
      ],
      "metadata": {
        "id": "HEle9LPTNxbi"
      }
    },
    {
      "cell_type": "markdown",
      "source": [
        "Python 에서 아주 중요한 자료형 4 가지(많은 자료를 다루는 단어), Tip : 각각의 공통점 및 차이점 정리(면접 단골 질문)\n",
        "- List (수정이 가능) (가장 많이 활용됨, 8~90%의 사용량, 그 외 나머지 10% 정도)\n",
        "- Tuple (수정이 불가)\n",
        "- Dict(Dictionary) (두 개씩 쌍으로 다룸)\n",
        "- Set (동일한 자료를 다루지 않음)\n",
        "\n",
        "--------------------------------------------------------------------------------\n",
        "# LIST [   ]\n",
        "- mutable : 수정 가능함.\n",
        "- indexting / slicing 이 가능함.\n",
        "- Python에서 가장 많이 사용됨.\n",
        "\n",
        "# TUPEL (   )\n",
        "- immutable : 수정 불가능하다.\n",
        "- indexing / slicing 이 가능함.\n",
        "- 요소를 하나만 저장할 때도 쉼표를 붙임.\n",
        "\n",
        "# Dict {   }\n",
        "- mutable : 수정 가능함.\n",
        "- indexing / slicing 이 불가능함.\n",
        "- Key 값, Value 값 쌍으로 구성됨.\n",
        "\n",
        "# Set {   }\n",
        "- mutable : 수정 가능함.\n",
        "- indexing / slicing 이 불가능함.\n",
        "- 중복 값을 허용하지 않음.\n",
        "\n",
        " *같은 {  } 이지만 쌍으로 구성되는 지 단일로 구성되는 지를 통해 Dict과 Set을 구분\n",
        "--------------------------------------------------------------------------------\n",
        "\n",
        "# LIST [  ] 특징\n",
        "- mutable : 수정 가능함.\n",
        "- indexting / slicing 이 가능함.\n",
        "- Python에서 가장 많이 사용됨."
      ],
      "metadata": {
        "id": "ptvFIbbV5CCV"
      }
    },
    {
      "cell_type": "code",
      "source": [
        "# 리스트 작성\n",
        "\n",
        "emp1 = [] # empty\n",
        "odd2 = [1,3,5,7,9] # odd\n",
        "str3 = [\"하나\", \"둘\", \"삼\"] # string\n",
        "mix4 = [1,2,\"삼\"] # 다른 언어에서는 이러한 복합형으로 사용할 경우 error, python에서 주로 활용, 그러나 장기적, 큰 프로젝트의 경우 error 발생 위험 상승\n",
        "\n",
        "print(emp1)\n",
        "print(odd2)\n",
        "print(str3)\n",
        "print(mix4)\n",
        "\n",
        "# 하나의 변수로 n 개의 데이터를 활용할 수 있음.\n",
        "\n",
        "# 리스트에서 인덱싱 indexing (Python 에서의 indexing 은 0 에서부터 시작함.)\n",
        "# n개의 데이터 중 하나를 추출하기 위해 indexing이 필요함.\n",
        "\n",
        "alist = [10,20,30,40,50] # a라는 list\n",
        "\n",
        "print(alist[0]) # 원하는 데이터는 1 번째 데이터지만, 1 을 사용해서는 안됨, 컴퓨터는 시작이 0 이므로 0 부터 첫 번째 데이터임.(R, SQL은 1 에서 부터 시작하므로 모든 언어에서 그런 것은 아님)\n",
        "print(alist[0] + alist[1]) # 리스트 내 데이터를 각각 꺼내서 활용할 수 있음\n",
        "print((alist[0] + alist[1] + alist[2] +alist[3] +alist[4])/5) # 수가 많아질수록 모두 작성하기 불편하니, 반복문이 필요함 -> if, while, for 활용\n"
      ],
      "metadata": {
        "colab": {
          "base_uri": "https://localhost:8080/"
        },
        "id": "VbEqVg7wTXc-",
        "outputId": "5a3404dc-58c5-46d3-a070-cf3352bee5c9"
      },
      "execution_count": null,
      "outputs": [
        {
          "output_type": "stream",
          "name": "stdout",
          "text": [
            "[]\n",
            "[1, 3, 5, 7, 9]\n",
            "['하나', '둘', '삼']\n",
            "[1, 2, '삼']\n",
            "10\n",
            "30\n",
            "30.0\n"
          ]
        }
      ]
    },
    {
      "cell_type": "markdown",
      "source": [
        "Tip : Python 을 활용한 인공지능 의미 : 수 많은 계산(인공계산)을 의미, 1차원을 넘어\n",
        "2차원, 3차원 자료형 구축을 통한 계산을 수행하는 것"
      ],
      "metadata": {
        "id": "n1HNEZk6TntQ"
      }
    },
    {
      "cell_type": "code",
      "source": [
        "# 슬라이싱 silcing 은 n개의 데이터 중 여러 개를 추출하기 위해 필요함.\n",
        "\n",
        "blist = \"12345\" # 문자형 데이터, ex. 주민등록번호의 경우 앞 2글자를 추출하면 생년월일을 알 수 있는 등 생년, 성별 등의 정보를 알 수 있음.\n",
        "\n",
        "blist[0:2] # 0 부터 2 미만 ; 123 이 추출될 것으로 예상할 수 있으나, 0 부터 2 미만까지 이므로 세 번째 데이터는 들어가지 않음.\n",
        "blist[:3] # 시작을 생략하면 처음부터 3 미만까지 3 은 포함하지 않음.\n",
        "blist[0:] # 마지막을 생략하면 마지막까지 포함됨.(큰 숫자일수록 활용하기에 유용)"
      ],
      "metadata": {
        "colab": {
          "base_uri": "https://localhost:8080/",
          "height": 35
        },
        "id": "pd0-6PsLXdMQ",
        "outputId": "ecfd8e05-e3cf-446b-da0b-274d12e3d90a"
      },
      "execution_count": null,
      "outputs": [
        {
          "output_type": "execute_result",
          "data": {
            "text/plain": [
              "'12345'"
            ],
            "application/vnd.google.colaboratory.intrinsic+json": {
              "type": "string"
            }
          },
          "metadata": {},
          "execution_count": 53
        }
      ]
    },
    {
      "cell_type": "code",
      "source": [
        "# 리스트에서의 연산\n",
        "\n",
        "# 리스트 더하기 : 두 리스트의 합(데이터 합치기, 리스트들의 연결된 합으로 나타남.)\n",
        "\n",
        "alist = [1,2,3,4,5]\n",
        "blist = [6,7,8,9,10]\n",
        "\n",
        "print(alist + blist)\n",
        "\n",
        "# 리스트 곱하기 : 해당리스트(들)를 반복하여 연결된 합으로 나타남.\n",
        "\n",
        "print(alist * 3)\n",
        "\n",
        "# 리스트의 갯수 구하기\n",
        "\n",
        "print(len(blist)) # length"
      ],
      "metadata": {
        "colab": {
          "base_uri": "https://localhost:8080/"
        },
        "id": "NC9SJIbMbYC8",
        "outputId": "806f9813-2cc8-4ecc-a6ed-247c5fe5d2da"
      },
      "execution_count": null,
      "outputs": [
        {
          "output_type": "stream",
          "name": "stdout",
          "text": [
            "[1, 2, 3, 4, 5, 6, 7, 8, 9, 10]\n",
            "[1, 2, 3, 4, 5, 1, 2, 3, 4, 5, 1, 2, 3, 4, 5]\n",
            "5\n"
          ]
        }
      ]
    },
    {
      "cell_type": "code",
      "source": [
        "# 리스트의 수정 (mutable)\n",
        "\n",
        "alist = [1,2,3,4,5]\n",
        "alist[2] = 0\n",
        "print(alist) # tupel 의 경우 수정이 불가능한데, 데이터를 바꿔서는 안되는 (ex. 성적) 경우에 활용 가능함.\n",
        "\n",
        "# 리스트의 삭제\n",
        "\n",
        "del alist[2]\n",
        "print(alist)\n"
      ],
      "metadata": {
        "colab": {
          "base_uri": "https://localhost:8080/"
        },
        "id": "y7gddCp4cXgY",
        "outputId": "65d7c304-f0c5-4f9c-fb26-7a4b40e98b47"
      },
      "execution_count": null,
      "outputs": [
        {
          "output_type": "stream",
          "name": "stdout",
          "text": [
            "[1, 2, 0, 4, 5]\n",
            "[1, 2, 4, 5]\n"
          ]
        }
      ]
    },
    {
      "cell_type": "code",
      "source": [
        "# 리스트에서 많이 사용하는 함수들\n",
        "\n",
        "# append : 리스트에 요소를 추가하는 기능\n",
        "\n",
        "alist = [1,2,3,4,5]\n",
        "\n",
        "alist.append(6) # 기존의 데이터에 추가\n",
        "print(alist)\n",
        "print(\"리스트에서 기존의 데이터 추가된 결과는\", alist, \"입니다.\")\n",
        "\n",
        "# sort : 리스트에서 요소들을 정렬하는 기능\n",
        "\n",
        "blist = [2,4,3,5,1]\n",
        "blist.sort() # 정렬, print를 같이 둘 수 없음. (ex. print(blist.sort()) 는 사용 불가)\n",
        "print(blist) # 정렬한 리스트를 출력\n",
        "print(\"정렬한 리스트를 출력한 결과는\", blist, \"입니다.\")\n",
        "\n",
        "# reverse : 리스트에서 요소들을 그대로 뒤집는 기능\n",
        "\n",
        "clist = [1,2,3]\n",
        "clist.reverse()\n",
        "print(clist)\n",
        "print(\"원래 리스트를 그대로 역순으로 출력한 결과는\", clist, \"입니다.\")\n",
        "\n",
        "# index(indexing이 아님) : 리스트에서 특정 값의 위치를 반환하는 기능, 인덱스를 반환\n",
        "\n",
        "dlist = [1,2,3,4,5]\n",
        "print(dlist.index(2)) # 2에 대한 위치 즉 0,1,2,3,4 에서 2의 위치는 1\n",
        "print(\"숫자 2의 인덱스 값은\", dlist.index(2), \"입니다.\") # 산출 데이터(값)의 앞과 뒤에 \"\"나 ''를 활용한 설명 추가 가능\n",
        "\n",
        "# *JAVA에서는 설명 추가 시 +가 추가되어야 함.\n",
        "\n",
        "# insert : 리스트의 특정 위치에 요소를 추가하는 기능(함수)\n",
        "\n",
        "elist = [1,2,3,4,5]\n",
        "elist.insert(0,0) # (특정위치의 인덱스, 넣을 값)\n",
        "print(elist)\n",
        "\n",
        "# remove : 리스트에서 요소를 삭제하는 기능\n",
        "\n",
        "flist = [1,2,3,4,5,3]\n",
        "flist.remove(3) # 리스트에서 삭제할 값을 입력, 같은 값이 여러 개 있을 경우 처음 등장하는 동일 값을 삭제함.\n",
        "print(flist)\n",
        "\n",
        "# pop : 리스트에서 마지막 요소를 제거하는 기능으로 주로 쓰이지만, 특정 위치로도 삭제 가능\n",
        "\n",
        "glist = [1,2,3,4,5]\n",
        "glist.pop() # 마지막 값인 5 를 제거\n",
        "glist.pop(0) # 맨 처음 값인 1 을 제거, () 안에 0을 넣는 경우 맨 처음 값을 제거\n",
        "print(glist)\n",
        "\n",
        "# 리스트에서 요소의 개수를 세는 기능\n",
        "\n",
        "jlist = [1,2,3,1]\n",
        "jlist.count(1) # 특정 요소(1)의 개수(2)를 카운트\n",
        "\n",
        "# 리스트의 확장\n",
        "\n",
        "a = [1,2,3]\n",
        "\n",
        "a.extend([4,5]) # 기존의 리스트에 새로운 리스트를 더하여 하나의 확장된 리스트로 만듦.\n",
        "print(a)\n",
        "print(type(jlist))"
      ],
      "metadata": {
        "colab": {
          "base_uri": "https://localhost:8080/"
        },
        "id": "HMnIgzDOdIP3",
        "outputId": "8b89b362-ada7-4193-d71d-1b718672ea0b"
      },
      "execution_count": null,
      "outputs": [
        {
          "output_type": "stream",
          "name": "stdout",
          "text": [
            "[1, 2, 3, 4, 5, 6]\n",
            "리스트에서 기존의 데이터 추가된 결과는 [1, 2, 3, 4, 5, 6] 입니다.\n",
            "[1, 2, 3, 4, 5]\n",
            "정렬한 리스트를 출력한 결과는 [1, 2, 3, 4, 5] 입니다.\n",
            "[3, 2, 1]\n",
            "원래 리스트를 그대로 역순으로 출력한 결과는 [3, 2, 1] 입니다.\n",
            "1\n",
            "숫자 2의 인덱스 값은 1 입니다.\n",
            "[0, 1, 2, 3, 4, 5]\n",
            "[1, 2, 4, 5, 3]\n",
            "[2, 3, 4]\n",
            "[1, 2, 3, 4, 5]\n",
            "<class 'list'>\n"
          ]
        }
      ]
    },
    {
      "cell_type": "code",
      "source": [
        "# 오늘 영화 랭킹 list 만들기\n",
        "\n",
        "movielist = [\"자바\", \"리멤버\", \"블랙 아담\"]\n",
        "print(movielist)"
      ],
      "metadata": {
        "colab": {
          "base_uri": "https://localhost:8080/"
        },
        "id": "6EmouGE6lzxI",
        "outputId": "cfe1440a-f5f3-4e1c-a543-8dad9dd99128"
      },
      "execution_count": null,
      "outputs": [
        {
          "output_type": "stream",
          "name": "stdout",
          "text": [
            "['자바', '리멤버', '블랙 아담']\n"
          ]
        }
      ]
    },
    {
      "cell_type": "markdown",
      "source": [
        "--------------------------------------------------------------------------------\n",
        "#TUPEL ( ) 특징\n",
        "- immutable : 수정 불가능하다.\n",
        "- indexing / slicing 이 가능함.\n",
        "- 요소를 하나만 저장할 때도 쉼표를 붙임."
      ],
      "metadata": {
        "id": "1uq59dFnoP1f"
      }
    },
    {
      "cell_type": "code",
      "source": [
        "# 튜플 Tuple\n",
        "\n",
        "# 튜플은 리스트와 거의 동일하지만, immutable 즉, 한 번 생성하면 수정도 삭제도 불가능하다는 특징이 있다.\n",
        "\n",
        "# (   ) 소괄호로 만든다.\n",
        "\n",
        "tuple1 = () # 빈 튜플도 존재할 수 있지만, 의미는 없음 : 추가, 삭제가 불가능 하기 때문임.\n",
        "tuple2 = (1,) # 튜플은 원소 하나짜리로 만들 대는 괜히 쉼표를 넣어야 함. : 하나 짜리의 tuple은 의미가 없음.. 주된 이유는 많은 설명이 필요함.\n",
        "tuple3 = (1,2,3)\n",
        "tuple4 = 1,2,3 # 튜플은 괄호를 생략 가능함., 리스트는 대괄호가 꼭 필요함.\n",
        "tuple5 = (1,2,3,(4,5,6)) # 튜플안의 튜플을 포함할 수 있음., 리스트도 대괄호 안의 대괄호가 가능함."
      ],
      "metadata": {
        "id": "Wg7HPGs8mgNr"
      },
      "execution_count": null,
      "outputs": []
    },
    {
      "cell_type": "code",
      "source": [
        "tuple1 = (1,2,3,4)\n",
        "# del tuple1[0] 튜플에서는 삭제가 불가능하다.\n",
        "tuple1[0] = 0. # 튜풀에서는 변경도 불가능하다.\n",
        "# 해당 두 가지의 특성을 immutable 하다고 표현함."
      ],
      "metadata": {
        "colab": {
          "base_uri": "https://localhost:8080/",
          "height": 229
        },
        "id": "SGx0f50xoaKQ",
        "outputId": "a9a588fd-4087-4f0e-d6e5-cfcf638bbbee"
      },
      "execution_count": null,
      "outputs": [
        {
          "output_type": "error",
          "ename": "TypeError",
          "evalue": "ignored",
          "traceback": [
            "\u001b[0;31m---------------------------------------------------------------------------\u001b[0m",
            "\u001b[0;31mTypeError\u001b[0m                                 Traceback (most recent call last)",
            "\u001b[0;32m<ipython-input-92-9aa8c343dc11>\u001b[0m in \u001b[0;36m<module>\u001b[0;34m\u001b[0m\n\u001b[1;32m      1\u001b[0m \u001b[0mtuple1\u001b[0m \u001b[0;34m=\u001b[0m \u001b[0;34m(\u001b[0m\u001b[0;36m1\u001b[0m\u001b[0;34m,\u001b[0m\u001b[0;36m2\u001b[0m\u001b[0;34m,\u001b[0m\u001b[0;36m3\u001b[0m\u001b[0;34m,\u001b[0m\u001b[0;36m4\u001b[0m\u001b[0;34m)\u001b[0m\u001b[0;34m\u001b[0m\u001b[0;34m\u001b[0m\u001b[0m\n\u001b[1;32m      2\u001b[0m \u001b[0;31m# del tuple1[0] 튜플에서는 삭제가 불가능하다.\u001b[0m\u001b[0;34m\u001b[0m\u001b[0;34m\u001b[0m\u001b[0;34m\u001b[0m\u001b[0m\n\u001b[0;32m----> 3\u001b[0;31m \u001b[0mtuple1\u001b[0m\u001b[0;34m[\u001b[0m\u001b[0;36m0\u001b[0m\u001b[0;34m]\u001b[0m \u001b[0;34m=\u001b[0m \u001b[0;36m0.\u001b[0m \u001b[0;31m# 튜풀에서는 변경도 불가능하다.\u001b[0m\u001b[0;34m\u001b[0m\u001b[0;34m\u001b[0m\u001b[0m\n\u001b[0m\u001b[1;32m      4\u001b[0m \u001b[0;31m# 해당 두 가지의 특성을 immutable 하다고 표현함.\u001b[0m\u001b[0;34m\u001b[0m\u001b[0;34m\u001b[0m\u001b[0;34m\u001b[0m\u001b[0m\n",
            "\u001b[0;31mTypeError\u001b[0m: 'tuple' object does not support item assignment"
          ]
        }
      ]
    },
    {
      "cell_type": "code",
      "source": [
        "# 튜플은 인덱싱과 슬라이싱이 가능함.\n",
        "\n",
        "tuple1 = (1,2,3,4,5)\n",
        "\n",
        "tuple1[-1] # -1은 리스트와 튜플에서 마지막 인덱스 번호임. 이 튜플에서는 -1 = 4"
      ],
      "metadata": {
        "colab": {
          "base_uri": "https://localhost:8080/"
        },
        "id": "usmuG8iXo1fP",
        "outputId": "413737fe-33d9-4b08-febf-9f9e5f660adc"
      },
      "execution_count": null,
      "outputs": [
        {
          "output_type": "execute_result",
          "data": {
            "text/plain": [
              "5"
            ]
          },
          "metadata": {},
          "execution_count": 99
        }
      ]
    },
    {
      "cell_type": "code",
      "source": [
        "# 튜플에서는 슬라이싱도 가능함.\n",
        "\n",
        "tuple1 = (1,2,3,4,5)\n",
        "\n",
        "tuple1[0:3] # 0 번째 부터 3 번째 미만 까지의 요소를 산출, 두번째 숫자는 미만으로 해석됨."
      ],
      "metadata": {
        "colab": {
          "base_uri": "https://localhost:8080/"
        },
        "id": "8tLqApv9pUyq",
        "outputId": "50589b6e-57ab-4a21-e030-910ab2b00c9c"
      },
      "execution_count": null,
      "outputs": [
        {
          "output_type": "execute_result",
          "data": {
            "text/plain": [
              "(1, 2, 3)"
            ]
          },
          "metadata": {},
          "execution_count": 100
        }
      ]
    },
    {
      "cell_type": "code",
      "source": [
        "# 튜플의 요소 갯수\n",
        "\n",
        "tuple1 = (1,2,3,4,5)\n",
        "print(len(tuple1)) # len 은 개수를 표현\n",
        "\n",
        "print(type(tuple1))"
      ],
      "metadata": {
        "colab": {
          "base_uri": "https://localhost:8080/"
        },
        "id": "DOBWSUT_pscz",
        "outputId": "245a01cf-2e15-4354-eddd-1715d0008b25"
      },
      "execution_count": null,
      "outputs": [
        {
          "output_type": "stream",
          "name": "stdout",
          "text": [
            "5\n",
            "<class 'tuple'>\n"
          ]
        }
      ]
    },
    {
      "cell_type": "markdown",
      "source": [
        "--------------------------------------------------------------------------------\n",
        "#Dict { } 특징\n",
        "- mutable : 수정 가능함.\n",
        "- indexing / slicing 이 불가능함.\n",
        "- Key 값, Value 값 쌍으로 구성됨."
      ],
      "metadata": {
        "id": "1nz488ChuYCH"
      }
    },
    {
      "cell_type": "code",
      "source": [
        "# 딕셔너리 Dict\n",
        "\n",
        "# 이름 그대로 dictionary : 사전, 처럼 키값 : 밸류값의 쌍으로 데이터가 저장되는 자료형임.\n",
        "\n",
        "# 리스트처럼 mutable 한 속성을 갖고 있으나 인덱싱과 슬라이싱은 지원하지 않으며, 순서가 없음.\n",
        "\n",
        "# 키 값으로 밸류 값을 산출하므로 속도가 비교적 빠르다는 장점이 있음.\n",
        "\n",
        "adict = {5:'a', 3:'b', 2:'c'} # 인덱스처럼 보일 수 있으나, 키 값은 요소임.\n",
        "\n",
        "print(adict[5])\n",
        "\n",
        "print(adict)\n",
        "\n",
        "adict[9] = 'd'\n",
        "\n",
        "print(adict)\n",
        "\n",
        "del adict[3] # 키와 밸류값 쌍으로 삭제됨.\n",
        "\n",
        "print(adict)\n"
      ],
      "metadata": {
        "colab": {
          "base_uri": "https://localhost:8080/"
        },
        "id": "5OaOf-9VqJHb",
        "outputId": "375c690a-aa87-4b8f-bf46-f61d881dd457"
      },
      "execution_count": null,
      "outputs": [
        {
          "output_type": "stream",
          "name": "stdout",
          "text": [
            "a\n",
            "{5: 'a', 3: 'b', 2: 'c'}\n",
            "{5: 'a', 3: 'b', 2: 'c', 9: 'd'}\n",
            "{5: 'a', 2: 'c', 9: 'd'}\n"
          ]
        }
      ]
    },
    {
      "cell_type": "code",
      "source": [
        "adict[0] # 딕셔너리는 인덱싱과 슬라이싱이 불가능함."
      ],
      "metadata": {
        "colab": {
          "base_uri": "https://localhost:8080/",
          "height": 174
        },
        "id": "4qTc9TACrucr",
        "outputId": "1d1a8825-99b9-43d7-c7d8-abad0595d144"
      },
      "execution_count": null,
      "outputs": [
        {
          "output_type": "error",
          "ename": "KeyError",
          "evalue": "ignored",
          "traceback": [
            "\u001b[0;31m---------------------------------------------------------------------------\u001b[0m",
            "\u001b[0;31mKeyError\u001b[0m                                  Traceback (most recent call last)",
            "\u001b[0;32m<ipython-input-111-c02878fbe54d>\u001b[0m in \u001b[0;36m<module>\u001b[0;34m\u001b[0m\n\u001b[0;32m----> 1\u001b[0;31m \u001b[0madict\u001b[0m\u001b[0;34m[\u001b[0m\u001b[0;36m0\u001b[0m\u001b[0;34m]\u001b[0m \u001b[0;31m# 딕셔너리는 인덱싱과 슬라이싱이 불가능함.\u001b[0m\u001b[0;34m\u001b[0m\u001b[0;34m\u001b[0m\u001b[0m\n\u001b[0m",
            "\u001b[0;31mKeyError\u001b[0m: 0"
          ]
        }
      ]
    },
    {
      "cell_type": "markdown",
      "source": [
        "데이터 분석에서는 딕셔너리를 많이 활용하고 있음.\n",
        "- 키값과 밸류값 커플 형태의 자료에 대한 활용도가 높기 때문임."
      ],
      "metadata": {
        "id": "pfwkCl6QsKZn"
      }
    },
    {
      "cell_type": "code",
      "source": [
        "# keys : 딕셔너리에서 키값만 추출하는 기능\n",
        "\n",
        "adict = {5:'a', 3:'b', 2:'c'}\n",
        "\n",
        "print(adict.keys())\n",
        "\n",
        "# values : 딕셔너리에서 밸류값만 추출하는 기능\n",
        "\n",
        "print(adict.values())\n",
        "\n",
        "# items : 딕셔너리에서 쌍으로 추출하는 기능\n",
        "\n",
        "print(adict.items()) # 리스트 안의 튜플로 추출되므로 인덱싱이 가능함.\n",
        "\n",
        "# in :  딕셔너리에 키 값이 존재하는 지 확인하는는 기능\n",
        "\n",
        "1 in adict # 1 이라는 키 값이 adict에 존재하는가? => False \n",
        "5 in adict # 5 라는 키 값이 adict에 존재하는가? => True\n",
        "\n",
        "print(type(adict))"
      ],
      "metadata": {
        "colab": {
          "base_uri": "https://localhost:8080/"
        },
        "id": "DfWtFDX5sEiI",
        "outputId": "a4e10db5-ea6c-4eef-d191-31bc28e0dfa2"
      },
      "execution_count": null,
      "outputs": [
        {
          "output_type": "stream",
          "name": "stdout",
          "text": [
            "dict_keys([5, 3, 2])\n",
            "dict_values(['a', 'b', 'c'])\n",
            "dict_items([(5, 'a'), (3, 'b'), (2, 'c')])\n",
            "<class 'dict'>\n"
          ]
        }
      ]
    },
    {
      "cell_type": "markdown",
      "source": [
        "--------------------------------------------------------------------------------\n",
        "# Set { } 특징\n",
        "- mutable : 수정 가능함.\n",
        "\n",
        "- indexing / slicing 이 불가능함.\n",
        "\n",
        "- 중복 값을 허용하지 않음.\n",
        "\n",
        " *같은 { } 이지만 쌍으로 구성되는 지 단일로 구성되는 지를 통해 Dict과 Set을 구분"
      ],
      "metadata": {
        "id": "OXiWVgN6tkqv"
      }
    },
    {
      "cell_type": "code",
      "source": [
        "# Set : 집합\n",
        "\n",
        "# 중복을 허용하지 않음.\n",
        "# 삽입 삭제가 가능한 mutable 한 속성을 갖음.\n",
        "# 인덱싱과 슬라이싱이 불가능함. (Unordered, 가능하다면 ordered(순서가 있음.))\n",
        "\n",
        "s1 = {1,2,3,4,1,2}\n",
        "\n",
        "print(s1) # 중복된 요소가 있음에도 error가 발생하지 않고, 중복된 요소를 삭제함.\n",
        "\n",
        "print(type(s1))"
      ],
      "metadata": {
        "colab": {
          "base_uri": "https://localhost:8080/"
        },
        "id": "BRAZGL9Stc0P",
        "outputId": "aff1f98b-e768-4733-ae28-4c1e2187db08"
      },
      "execution_count": null,
      "outputs": [
        {
          "output_type": "stream",
          "name": "stdout",
          "text": [
            "{1, 2, 3, 4}\n",
            "<class 'set'>\n"
          ]
        }
      ]
    },
    {
      "cell_type": "code",
      "source": [
        "# Boolean 는 True or False , 반드시 대문자로 시작해야 함.(소문자로 시작할 시 Boolean이 아님)\n",
        "\n",
        "# Alan Turing : 인공지능의 시작, 컴퓨터 언어의 0,1을 만든 사람, 관련 : 튜링 테스트, 튜링 어워드, Movie : imitation game\n",
        "\n",
        "# APPLE 2 : 스티브 잡스, 개인용 컴퓨터 관련 : Movie : 스티브 잡스"
      ],
      "metadata": {
        "id": "FQ22POkVuvHS"
      },
      "execution_count": null,
      "outputs": []
    },
    {
      "cell_type": "markdown",
      "source": [
        "Homework (1주차)\n",
        "- A4 용지 3장 분량_영화감상문 작성(이미테이션 게임, 스티브 잡스)"
      ],
      "metadata": {
        "id": "yN-64cR3z0Wf"
      }
    },
    {
      "cell_type": "code",
      "source": [
        "# 숙제용 문법\n",
        "\n",
        "a = \"hi\"\n",
        "print(a)"
      ],
      "metadata": {
        "colab": {
          "base_uri": "https://localhost:8080/"
        },
        "id": "zbYIIPNh0AFW",
        "outputId": "7e3bbad3-a2fb-48fd-8f4f-03b399641fec"
      },
      "execution_count": null,
      "outputs": [
        {
          "output_type": "stream",
          "name": "stdout",
          "text": [
            "hi\n"
          ]
        }
      ]
    },
    {
      "cell_type": "code",
      "source": [
        "# 키보드로 부터 직접 입력 받는 방법\n",
        "\n",
        "a = input(\"출력할 내용을 입력하세요.\") # 이 결과를 출력하기 위해서는 JAVA에서는 15줄이 필요하나, Python 에서는 이 정도로 가능함.\n",
        "print(\"입력하신 내용은\", a, \"입니다.\")"
      ],
      "metadata": {
        "colab": {
          "base_uri": "https://localhost:8080/"
        },
        "id": "gf6TTCuN0Fdi",
        "outputId": "f8ecaf24-15a3-4986-e918-525299f6d6e1"
      },
      "execution_count": null,
      "outputs": [
        {
          "output_type": "stream",
          "name": "stdout",
          "text": [
            "출력할 내용을 입력하세요.반갑습니다.\n",
            "입력하신 내용은 반갑습니다. 입니다.\n"
          ]
        }
      ]
    },
    {
      "cell_type": "markdown",
      "source": [
        "- 답안지는 수강일 저녁 10시\n",
        "- 숙제는 제공 다음날 아침 10시\n",
        "- int : 형 변환 숫자를 넣으면 문자로 들어갈 수 있는 문장에서 int 함수를 통해 숫자로 재 변환하여 계산 가능하게 함."
      ],
      "metadata": {
        "id": "tPj72DAC3u7N"
      }
    }
  ]
}