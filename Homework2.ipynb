{
  "nbformat": 4,
  "nbformat_minor": 0,
  "metadata": {
    "colab": {
      "provenance": [],
      "authorship_tag": "ABX9TyPFDVtdmxm3EL2rGAMG2N3i",
      "include_colab_link": true
    },
    "kernelspec": {
      "name": "python3",
      "display_name": "Python 3"
    },
    "language_info": {
      "name": "python"
    }
  },
  "cells": [
    {
      "cell_type": "markdown",
      "metadata": {
        "id": "view-in-github",
        "colab_type": "text"
      },
      "source": [
        "<a href=\"https://colab.research.google.com/github/ProgramerSJ/Pythonclass/blob/main/Homework2.ipynb\" target=\"_parent\"><img src=\"https://colab.research.google.com/assets/colab-badge.svg\" alt=\"Open In Colab\"/></a>"
      ]
    },
    {
      "cell_type": "code",
      "source": [
        "#Solution 21\n",
        "\n",
        "letters = 'python'\n",
        "\n",
        "print(letters[0] + \"\",letters[2])"
      ],
      "metadata": {
        "colab": {
          "base_uri": "https://localhost:8080/"
        },
        "id": "UnYy6XqsObTs",
        "outputId": "b89a067e-3ce0-48ce-c35b-f9616ea807ee"
      },
      "execution_count": null,
      "outputs": [
        {
          "output_type": "stream",
          "name": "stdout",
          "text": [
            "p t\n"
          ]
        }
      ]
    },
    {
      "cell_type": "code",
      "execution_count": null,
      "metadata": {
        "colab": {
          "base_uri": "https://localhost:8080/"
        },
        "id": "UMlGN5-GOMt9",
        "outputId": "a9de7ec0-52bb-46d9-9eb2-b7a786c54474"
      },
      "outputs": [
        {
          "output_type": "stream",
          "name": "stdout",
          "text": [
            "2210\n"
          ]
        }
      ],
      "source": [
        "#Solution 22\n",
        "\n",
        "licenst_plate = \"24가 2210\"\n",
        "\n",
        "print(licenst_plate[4:8])"
      ]
    },
    {
      "cell_type": "code",
      "source": [
        "#Solution 23\n",
        "\n",
        "string = \"홀짝홀짝홀짝\"\n",
        "\n",
        "print(string[0]+string[2]+string[4])"
      ],
      "metadata": {
        "colab": {
          "base_uri": "https://localhost:8080/"
        },
        "id": "t-sRQvVFOYQN",
        "outputId": "70afedde-b433-4cfd-c63a-9ba7ca022b0b"
      },
      "execution_count": null,
      "outputs": [
        {
          "output_type": "stream",
          "name": "stdout",
          "text": [
            "홀홀홀\n"
          ]
        }
      ]
    },
    {
      "cell_type": "code",
      "source": [
        "#Solution 24\n",
        "\n",
        "string = \"PYTHON\"\n",
        "\n",
        "print(string[::-1]) # :: -1 하이픈 두개 -1 사용할 경우 모든 문자열이 거꾸로 출력력\n",
        "print(string[3:0:-1]) # 3번 인덱스부터 1번 인덱스까지 역순으로 출력"
      ],
      "metadata": {
        "colab": {
          "base_uri": "https://localhost:8080/"
        },
        "id": "upI2-GS5OeeF",
        "outputId": "ae38c57e-6b2b-41d8-cf8f-4c6753fbd106"
      },
      "execution_count": null,
      "outputs": [
        {
          "output_type": "stream",
          "name": "stdout",
          "text": [
            "NOHTYP\n",
            "HTY\n"
          ]
        }
      ]
    },
    {
      "cell_type": "code",
      "source": [
        "#Solution 25\n",
        "\n",
        "phone_number = \"010-1111-2222\"\n",
        "\n",
        "print(phone_number.replace(\"-\",\" \")) # replace 함수는 해당 문자열을 뒤의 문자열로 대체하는 함수"
      ],
      "metadata": {
        "colab": {
          "base_uri": "https://localhost:8080/"
        },
        "id": "JVfJAMg9RuJl",
        "outputId": "f93b4551-412d-442c-b603-aff0b36cf11a"
      },
      "execution_count": null,
      "outputs": [
        {
          "output_type": "stream",
          "name": "stdout",
          "text": [
            "010 1111 2222\n"
          ]
        }
      ]
    },
    {
      "cell_type": "code",
      "source": [
        "#Solution 26\n",
        "\n",
        "phone_number = \"010-1111-2222\"\n",
        "\n",
        "print(phone_number.replace(\"-\",\"\"))"
      ],
      "metadata": {
        "colab": {
          "base_uri": "https://localhost:8080/"
        },
        "id": "6BPFwMV4RuqG",
        "outputId": "e44b7c60-37ab-4b90-a385-ce746cbfc6d9"
      },
      "execution_count": null,
      "outputs": [
        {
          "output_type": "stream",
          "name": "stdout",
          "text": [
            "01011112222\n"
          ]
        }
      ]
    },
    {
      "cell_type": "code",
      "source": [
        "#Solution 27\n",
        "\n",
        "url = \"http://sharebook.kr\"\n",
        "\n",
        "print(url[17:20])"
      ],
      "metadata": {
        "colab": {
          "base_uri": "https://localhost:8080/"
        },
        "id": "-tmtrI05RxJl",
        "outputId": "85445dbc-2f13-41f7-e72d-9dc65e984900"
      },
      "execution_count": null,
      "outputs": [
        {
          "output_type": "stream",
          "name": "stdout",
          "text": [
            "kr\n"
          ]
        }
      ]
    },
    {
      "cell_type": "code",
      "source": [
        "#Solution 28\n",
        "\n",
        "lang = 'python'\n",
        "\n",
        "print(lang) # 문자열은 immutable 하므로, 수정할 수 없으므로 error 발생, 따라서 변환하기 위해서는\n",
        "print(lang.replace('p','P'))"
      ],
      "metadata": {
        "colab": {
          "base_uri": "https://localhost:8080/"
        },
        "id": "zbEb72ehRxkd",
        "outputId": "a804e556-ce68-49c6-946b-5918566b06d6"
      },
      "execution_count": null,
      "outputs": [
        {
          "output_type": "stream",
          "name": "stdout",
          "text": [
            "python\n",
            "Python\n"
          ]
        }
      ]
    },
    {
      "cell_type": "code",
      "source": [
        "#Solution 29\n",
        "\n",
        "string = 'abcdfe2a354a32a'\n",
        "\n",
        "print(string.replace('a','A'))"
      ],
      "metadata": {
        "colab": {
          "base_uri": "https://localhost:8080/"
        },
        "id": "U_yNW2HZRypv",
        "outputId": "891ca85f-bf23-4e64-e9ee-e6bd337304ec"
      },
      "execution_count": null,
      "outputs": [
        {
          "output_type": "stream",
          "name": "stdout",
          "text": [
            "Abcdfe2A354A32A\n"
          ]
        }
      ]
    },
    {
      "cell_type": "code",
      "source": [
        "#Solution 30\n",
        "\n",
        "string = 'abcd'\n",
        "string.replace('b','B')\n",
        "\n",
        "print(string) # print를 통한 출력이 아니므로, 이는 기존의 string이 출력됨. 이를 제대로 출력하면,\n",
        "print(string.replace('b','B'))"
      ],
      "metadata": {
        "colab": {
          "base_uri": "https://localhost:8080/"
        },
        "id": "plbrMc2fRzJN",
        "outputId": "312493d5-c168-4b3c-f108-3eba227e139f"
      },
      "execution_count": null,
      "outputs": [
        {
          "output_type": "stream",
          "name": "stdout",
          "text": [
            "abcd\n",
            "aBcd\n"
          ]
        }
      ]
    },
    {
      "cell_type": "code",
      "source": [
        "#Solution 31\n",
        "\n",
        "a = \"3\"\n",
        "b = \"4\"\n",
        "\n",
        "print(a+b) # 문자열이기 때문에 연결되어 출력됨."
      ],
      "metadata": {
        "colab": {
          "base_uri": "https://localhost:8080/"
        },
        "id": "bah3_smjR3jO",
        "outputId": "ff67b15b-f90a-4873-fc02-9a3dd160d830"
      },
      "execution_count": null,
      "outputs": [
        {
          "output_type": "stream",
          "name": "stdout",
          "text": [
            "34\n"
          ]
        }
      ]
    },
    {
      "cell_type": "code",
      "source": [
        "#Solution 32\n",
        "\n",
        "print(\"Hi\"*3) # 문자열의 3번 출력 = HiHiHi"
      ],
      "metadata": {
        "colab": {
          "base_uri": "https://localhost:8080/"
        },
        "id": "T2RQ6T2zR38m",
        "outputId": "fc24fd0d-6dbf-4ebd-b716-c520f5ff98be"
      },
      "execution_count": null,
      "outputs": [
        {
          "output_type": "stream",
          "name": "stdout",
          "text": [
            "HiHiHi\n"
          ]
        }
      ]
    },
    {
      "cell_type": "code",
      "source": [
        "#Solution 33\n",
        "\n",
        "print(\"-\"*80)"
      ],
      "metadata": {
        "colab": {
          "base_uri": "https://localhost:8080/"
        },
        "id": "uvrxVslpR4eF",
        "outputId": "20e1b1f9-37bc-4b03-894f-85fb8223c26e"
      },
      "execution_count": null,
      "outputs": [
        {
          "output_type": "stream",
          "name": "stdout",
          "text": [
            "--------------------------------------------------------------------------------\n"
          ]
        }
      ]
    },
    {
      "cell_type": "code",
      "source": [
        "#Solution 34\n",
        "\n",
        "t1 = 'python'\n",
        "t2 = 'java'\n",
        "\n",
        "print((t1 + \" \" + t2 + ' ')*4)"
      ],
      "metadata": {
        "colab": {
          "base_uri": "https://localhost:8080/"
        },
        "id": "6kqYreUJR48W",
        "outputId": "ab1278be-0d07-4338-a352-7f845c8f099c"
      },
      "execution_count": null,
      "outputs": [
        {
          "output_type": "stream",
          "name": "stdout",
          "text": [
            "python java python java python java python java \n"
          ]
        }
      ]
    },
    {
      "cell_type": "code",
      "source": [
        "#Solution 35\n",
        "\n",
        "name1 = \"김민수\"\n",
        "age1 = 10\n",
        "name2 = \"이철희\"\n",
        "age2 = 13\n",
        "\n",
        "print(\"이름: %s 나이: %d 이름: %s 나이: %d\" %(name1, age1, name2, age2))\n",
        "# %formatting 은 숫자를 넣고 싶은 자리에 %d 문자를 넣고 싶은 자리에 %s, 문자를 넣기 위해서는 \"\"or'' 사용 필요\n",
        "# %s : 문자열 / %c : 문자 1개 / %d : 정수 / %f : 부동 소수 / %o : 8진수 / %x : 16진수 /%% : Literal(answk '%' 자체)"
      ],
      "metadata": {
        "colab": {
          "base_uri": "https://localhost:8080/"
        },
        "id": "bY328nFDR5ZF",
        "outputId": "175956b5-0281-4d93-92e7-e85e064346fe"
      },
      "execution_count": null,
      "outputs": [
        {
          "output_type": "stream",
          "name": "stdout",
          "text": [
            "이름: 김민수 나이: 10 이름: 이철희 나이: 13\n"
          ]
        }
      ]
    },
    {
      "cell_type": "code",
      "source": [
        "#Solution 36\n",
        "\n",
        "name1 = \"김민수\"\n",
        "age1 = 10\n",
        "name2 = \"이철희\"\n",
        "age2 = 13\n",
        "\n",
        "\"이름: {} 나이: {} 이름: {} 나이: {}\" .format(name1,age1,name2,age2)"
      ],
      "metadata": {
        "colab": {
          "base_uri": "https://localhost:8080/",
          "height": 35
        },
        "id": "OmqS6L1AR6QF",
        "outputId": "8e98c558-dc3c-48b6-b706-5a9e7bfe864d"
      },
      "execution_count": null,
      "outputs": [
        {
          "output_type": "execute_result",
          "data": {
            "text/plain": [
              "'이름: 김민수 나이: 10 이름: 이철희 나이: 13'"
            ],
            "application/vnd.google.colaboratory.intrinsic+json": {
              "type": "string"
            }
          },
          "metadata": {},
          "execution_count": 77
        }
      ]
    },
    {
      "cell_type": "code",
      "source": [
        "#Solution 37\n",
        "\n",
        "name1 = \"김민수\"\n",
        "age1 = 10\n",
        "name2 = \"이철희\"\n",
        "age2 = 13\n",
        "\n",
        "f'이름: {name1} 나이: {age1} 이름: {name2} 나이: {age2}'"
      ],
      "metadata": {
        "colab": {
          "base_uri": "https://localhost:8080/",
          "height": 35
        },
        "id": "1bKDOJdFR6nd",
        "outputId": "123ab920-c8c8-40d5-e6b9-df31ec88c95e"
      },
      "execution_count": null,
      "outputs": [
        {
          "output_type": "execute_result",
          "data": {
            "text/plain": [
              "'이름: 김민수 나이: 10 이름: 이철희 나이: 13'"
            ],
            "application/vnd.google.colaboratory.intrinsic+json": {
              "type": "string"
            }
          },
          "metadata": {},
          "execution_count": 78
        }
      ]
    },
    {
      "cell_type": "code",
      "source": [
        "#Solution 38\n",
        "\n",
        "상장주식수 = \"5,969,782,550\"\n",
        "print(int(상장주식수.replace(\",\",\"\")))"
      ],
      "metadata": {
        "colab": {
          "base_uri": "https://localhost:8080/"
        },
        "id": "TlTdtIgTR63e",
        "outputId": "86917852-7951-45f0-ad4a-fa2dbb6a3072"
      },
      "execution_count": null,
      "outputs": [
        {
          "output_type": "stream",
          "name": "stdout",
          "text": [
            "5969782550\n"
          ]
        }
      ]
    },
    {
      "cell_type": "code",
      "source": [
        "#Solution 39\n",
        "\n",
        "분기 = \"2020/03(E) (IFRS연결)\"\n",
        "print(분기[:7])"
      ],
      "metadata": {
        "colab": {
          "base_uri": "https://localhost:8080/"
        },
        "id": "vUAW0HdOR7Ce",
        "outputId": "14086ade-0a99-4e0d-883e-5956e1ecb71f"
      },
      "execution_count": null,
      "outputs": [
        {
          "output_type": "stream",
          "name": "stdout",
          "text": [
            "2020/03\n"
          ]
        }
      ]
    },
    {
      "cell_type": "code",
      "source": [
        "#Solution 40\n",
        "\n",
        "data = \"   삼성전자    \"\n",
        "print(data.strip())"
      ],
      "metadata": {
        "colab": {
          "base_uri": "https://localhost:8080/"
        },
        "id": "KUVgKB67R7MN",
        "outputId": "b75c17e5-5bf3-4142-b5dc-bffba4926f79"
      },
      "execution_count": null,
      "outputs": [
        {
          "output_type": "stream",
          "name": "stdout",
          "text": [
            "삼성전자\n"
          ]
        }
      ]
    }
  ]
}