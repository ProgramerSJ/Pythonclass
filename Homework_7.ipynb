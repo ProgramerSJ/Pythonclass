{
  "nbformat": 4,
  "nbformat_minor": 0,
  "metadata": {
    "colab": {
      "provenance": [],
      "authorship_tag": "ABX9TyPFADRIMDrmtP8b18MWUVFl",
      "include_colab_link": true
    },
    "kernelspec": {
      "name": "python3",
      "display_name": "Python 3"
    },
    "language_info": {
      "name": "python"
    }
  },
  "cells": [
    {
      "cell_type": "markdown",
      "metadata": {
        "id": "view-in-github",
        "colab_type": "text"
      },
      "source": [
        "<a href=\"https://colab.research.google.com/github/ProgramerSJ/Pythonclass/blob/main/Homework_7.ipynb\" target=\"_parent\"><img src=\"https://colab.research.google.com/assets/colab-badge.svg\" alt=\"Open In Colab\"/></a>"
      ]
    },
    {
      "cell_type": "code",
      "execution_count": null,
      "metadata": {
        "colab": {
          "base_uri": "https://localhost:8080/"
        },
        "id": "4NJCjUTTdEuU",
        "outputId": "4fa38cfd-7c4e-4277-c760-54798cdda05c"
      },
      "outputs": [
        {
          "output_type": "stream",
          "name": "stdout",
          "text": [
            "입력 : 안녕하세요\n",
            "안녕하세요안녕하세요\n"
          ]
        }
      ],
      "source": [
        "# Solution 111\n",
        "\n",
        "user = input(\"입력 : \")\n",
        "print(user*2)"
      ]
    },
    {
      "cell_type": "code",
      "source": [
        "# Solution 112\n",
        "\n",
        "user = input(\"숫자를 입력하세요: \")\n",
        "print(int(user) + 10)"
      ],
      "metadata": {
        "colab": {
          "base_uri": "https://localhost:8080/"
        },
        "id": "wSAZvrZEfTec",
        "outputId": "8b3aa866-bdf7-4051-b52e-95d126672bf5"
      },
      "execution_count": null,
      "outputs": [
        {
          "output_type": "stream",
          "name": "stdout",
          "text": [
            "숫자를 입력하세요: 30\n",
            "40\n"
          ]
        }
      ]
    },
    {
      "cell_type": "code",
      "source": [
        "# Solution 113\n",
        "\n",
        "user = input(\"숫자를 입력하세요: \")\n",
        "if int(user)%2==0:\n",
        "  print(\"짝수\")\n",
        "else :\n",
        "  print(\"홀수\")"
      ],
      "metadata": {
        "colab": {
          "base_uri": "https://localhost:8080/"
        },
        "id": "jRZFr0rHfT97",
        "outputId": "058d4a81-bcdb-4df1-9bb9-5e441d4b22f6"
      },
      "execution_count": null,
      "outputs": [
        {
          "output_type": "stream",
          "name": "stdout",
          "text": [
            "숫자를 입력하세요: 29\n",
            "홀수\n"
          ]
        }
      ]
    },
    {
      "cell_type": "code",
      "source": [
        "# Solution 114\n",
        "\n",
        "user = input(\"숫자를 입력하세요: \")\n",
        "\n",
        "if int(user)+20>255:\n",
        "  print(255)\n",
        "else :\n",
        "  print(int(user)+20)"
      ],
      "metadata": {
        "colab": {
          "base_uri": "https://localhost:8080/"
        },
        "id": "nRngXAXgfUG3",
        "outputId": "40c9c1b1-171a-4b28-a91a-af6a5617c8eb"
      },
      "execution_count": null,
      "outputs": [
        {
          "output_type": "stream",
          "name": "stdout",
          "text": [
            "숫자를 입력하세요: 240\n",
            "255\n"
          ]
        }
      ]
    },
    {
      "cell_type": "code",
      "source": [
        "# Solution 115\n",
        "\n",
        "user = input(\"숫자를 입력하세요: \")\n",
        "\n",
        "num = int(user) - 20\n",
        "\n",
        "if num < 0 :\n",
        "  print(0)\n",
        "\n",
        "elif num > 255 :\n",
        "  print(255)\n",
        "\n",
        "else :\n",
        "  print(num)"
      ],
      "metadata": {
        "colab": {
          "base_uri": "https://localhost:8080/"
        },
        "id": "Zy8d1ZsYfUNg",
        "outputId": "e005080c-d25b-4e3b-9049-14f9641c8557"
      },
      "execution_count": null,
      "outputs": [
        {
          "output_type": "stream",
          "name": "stdout",
          "text": [
            "숫자를 입력하세요: 150\n",
            "130\n"
          ]
        }
      ]
    },
    {
      "cell_type": "code",
      "source": [
        "# Solution 116\n",
        "\n",
        "time = input(\"현재 시간을 입력하세요: \")\n",
        "\n",
        "if time[-2:] == \"00\":\n",
        "  print(\"정각입니다.\")\n",
        "\n",
        "else :\n",
        "  print(\"정각이 아닙니다.\")"
      ],
      "metadata": {
        "colab": {
          "base_uri": "https://localhost:8080/"
        },
        "id": "LGXM-2F0fUUS",
        "outputId": "b3ee5959-a0ce-46ef-860b-380e7cdcc154"
      },
      "execution_count": null,
      "outputs": [
        {
          "output_type": "stream",
          "name": "stdout",
          "text": [
            "현재 시간을 입력하세요: 12:00\n",
            "정각입니다.\n"
          ]
        }
      ]
    },
    {
      "cell_type": "code",
      "source": [
        "# Solution 117\n",
        "\n",
        "fruit = [\"사과\", \"포도\", \"홍시\"]\n",
        "a = input(\"좋아하는 과일은? \")\n",
        "\n",
        "if a in list(fruit):\n",
        "  print(\"정답입니다.\")\n",
        "\n",
        "else :\n",
        "  print(\"오답입니다.\")"
      ],
      "metadata": {
        "colab": {
          "base_uri": "https://localhost:8080/"
        },
        "id": "ppjUA5rJfUZb",
        "outputId": "7b0b5033-9e13-472c-94b8-ae23c8836892"
      },
      "execution_count": null,
      "outputs": [
        {
          "output_type": "stream",
          "name": "stdout",
          "text": [
            "좋아하는 과일은? 사과\n",
            "정답입니다.\n"
          ]
        }
      ]
    },
    {
      "cell_type": "code",
      "source": [
        "# Solution 118\n",
        "\n",
        "warn_investment_list = [\"Microsoft\", \"Google\", \"Naver\", \"Kakao\", \"SAMSUNG\", \"LG\"]\n",
        "\n",
        "a = input(\"종목명을 입력하세요: \")\n",
        "\n",
        "if a in warn_investment_list:\n",
        "  print(\"투자 경고 종목입니다.\")\n",
        "\n",
        "else :\n",
        "  print(\"투자 경고 종목이 아닙니다.\")\n"
      ],
      "metadata": {
        "colab": {
          "base_uri": "https://localhost:8080/"
        },
        "id": "UTbaFsTMfUfH",
        "outputId": "8c461c2f-defd-4949-ef51-5142544db8c7"
      },
      "execution_count": null,
      "outputs": [
        {
          "output_type": "stream",
          "name": "stdout",
          "text": [
            "종목명을 입력하세요: Google\n",
            "투자 경고 종목입니다.\n"
          ]
        }
      ]
    },
    {
      "cell_type": "code",
      "source": [
        "# Solution 119\n",
        "\n",
        "fruit = {\"봄\" : \"딸기\", \"여름\" : \"토마토\", \"가을\" : \"사과\"}\n",
        "\n",
        "a = input(\"좋아하는 계절은? : \")\n",
        "\n",
        "if a in fruit:\n",
        "  print(\"정답입니다.\")\n",
        "\n",
        "else :\n",
        "  print(\"오답입니다.\")"
      ],
      "metadata": {
        "colab": {
          "base_uri": "https://localhost:8080/"
        },
        "id": "e8_Y2F0efUkh",
        "outputId": "ed3df2db-ea60-46ac-bcbe-cc04a168b7bc"
      },
      "execution_count": null,
      "outputs": [
        {
          "output_type": "stream",
          "name": "stdout",
          "text": [
            "좋아하는 계절은? : 여름\n",
            "정답입니다.\n"
          ]
        }
      ]
    },
    {
      "cell_type": "code",
      "source": [
        "# Solution 120\n",
        "\n",
        "fruit = {\"봄\" : \"딸기\", \"여름\" : \"토마토\", \"가을\" : \"사과\"}\n",
        "\n",
        "a = input(\"좋아하는 과일은? : \")\n",
        "\n",
        "if a in fruit.values():\n",
        "  print(\"정답입니다.\")\n",
        "\n",
        "else :\n",
        "  print(\"오답입니다.\")"
      ],
      "metadata": {
        "colab": {
          "base_uri": "https://localhost:8080/"
        },
        "id": "Bqpub1DlfUp-",
        "outputId": "ac756e3c-ca4b-4a0c-dbac-bcc6f4f64685"
      },
      "execution_count": null,
      "outputs": [
        {
          "output_type": "stream",
          "name": "stdout",
          "text": [
            "좋아하는 과일은? : 딸기\n",
            "정답입니다.\n"
          ]
        }
      ]
    },
    {
      "cell_type": "code",
      "source": [
        "# Solution 121\n",
        "\n",
        "a = input(\"문자를 입력해주세요: \")\n",
        "\n",
        "if a.islower() :\n",
        "  print(a.upper())\n",
        "\n",
        "else :\n",
        "  print(a.lower())"
      ],
      "metadata": {
        "colab": {
          "base_uri": "https://localhost:8080/"
        },
        "id": "VIgcNWymfUvt",
        "outputId": "a8279ddf-4f18-41e4-d7e9-2ab8daf3f474"
      },
      "execution_count": null,
      "outputs": [
        {
          "output_type": "stream",
          "name": "stdout",
          "text": [
            "문자를 입력해주세요: f\n",
            "F\n"
          ]
        }
      ]
    },
    {
      "cell_type": "code",
      "source": [
        "# Solution 122\n",
        "\n",
        "score = input(\"score: \")\n",
        "score = int(score)\n",
        "if 81 <= score <= 100:\n",
        "    print(\"grade is A\")\n",
        "elif 61 <= score <= 80:\n",
        "    print(\"grade is B\")\n",
        "elif 41 <= score <= 60:\n",
        "    print(\"grade is C\")\n",
        "elif 21 <= score <= 40:\n",
        "    print(\"grade is D\")\n",
        "else:\n",
        "    print(\"grade is E\")\n"
      ],
      "metadata": {
        "colab": {
          "base_uri": "https://localhost:8080/"
        },
        "id": "88dXyVVEfU1j",
        "outputId": "2d60fb7b-58f0-49de-84a5-7e7d92ae331b"
      },
      "execution_count": null,
      "outputs": [
        {
          "output_type": "stream",
          "name": "stdout",
          "text": [
            "score: 50\n",
            "grade is C\n"
          ]
        }
      ]
    },
    {
      "cell_type": "code",
      "source": [
        "# Solution 123\n",
        "\n",
        "환율 = {\"달러\": 1167, \n",
        "        \"엔\": 1.096, \n",
        "        \"유로\": 1268, \n",
        "        \"위안\": 171}\n",
        "user = input(\"입력: \")\n",
        "num, currency = user.split()\n",
        "print(float(num) * 환율[currency], \"원\")\n"
      ],
      "metadata": {
        "colab": {
          "base_uri": "https://localhost:8080/"
        },
        "id": "qTADotCcfU7X",
        "outputId": "f464a862-ace5-465b-fd61-9913203adc2e"
      },
      "execution_count": null,
      "outputs": [
        {
          "output_type": "stream",
          "name": "stdout",
          "text": [
            "입력: 100 달러\n",
            "116700.0 원\n"
          ]
        }
      ]
    },
    {
      "cell_type": "code",
      "source": [
        "# Solution 124\n",
        "\n",
        "a = int(input(\"입력: \"))\n",
        "b = int(input(\"입력: \"))\n",
        "c = int(input(\"입력: \"))\n",
        "\n",
        "if a > b and a > c:\n",
        "  print(a)\n",
        "elif b > a and b > c:\n",
        "  print(b)\n",
        "else :\n",
        "  print(c)"
      ],
      "metadata": {
        "colab": {
          "base_uri": "https://localhost:8080/"
        },
        "id": "s0A_ILJnfU_s",
        "outputId": "5dfb9c68-2797-4695-89e2-2fcdf66bf970"
      },
      "execution_count": null,
      "outputs": [
        {
          "output_type": "stream",
          "name": "stdout",
          "text": [
            "입력: 5\n",
            "입력: 4\n",
            "입력: 3\n",
            "5\n"
          ]
        }
      ]
    },
    {
      "cell_type": "code",
      "source": [
        "# Solution 125\n",
        "\n",
        "number = input(\"휴대폰 전화번호를 입력하세요.: \")\n",
        "num = number.split(\"-\")[0]\n",
        "if num == \"011\":\n",
        "    com = \"SKT\"\n",
        "elif num == \"016\":\n",
        "    com = \"KT\"\n",
        "elif num == \"019\":\n",
        "    com = \"LGU\"\n",
        "else:\n",
        "    com = \"알수없음\"\n",
        "print(f\"당신은 {com} 사용자입니다.\")"
      ],
      "metadata": {
        "colab": {
          "base_uri": "https://localhost:8080/"
        },
        "id": "oDScWylCfVFh",
        "outputId": "a75263cf-005c-4206-8030-ff2b3c0505d8"
      },
      "execution_count": null,
      "outputs": [
        {
          "output_type": "stream",
          "name": "stdout",
          "text": [
            "휴대폰 전화번호를 입력하세요.: 010-7515-9927\n",
            "당신은 알수없음 사용자입니다.\n"
          ]
        }
      ]
    },
    {
      "cell_type": "code",
      "source": [
        "# Solution 126\n",
        "\n",
        "우편번호 = input(\"우편번호: \")\n",
        "우편번호 = 우편번호[:3]\n",
        "if 우편번호 in [\"010\", \"011\", \"012\"]:\n",
        "    print(\"강북구\")\n",
        "elif 우편번호 in [\"014\", \"015\", \"016\"]:\n",
        "    print(\"도봉구\")\n",
        "else:\n",
        "    print(\"노원구\")"
      ],
      "metadata": {
        "colab": {
          "base_uri": "https://localhost:8080/"
        },
        "id": "1jV0Jv3xfVLe",
        "outputId": "a3dc75e0-be33-411e-83d6-ff1a93e964bf"
      },
      "execution_count": null,
      "outputs": [
        {
          "output_type": "stream",
          "name": "stdout",
          "text": [
            "우편번호: 01111\n",
            "강북구\n"
          ]
        }
      ]
    },
    {
      "cell_type": "code",
      "source": [
        "# Solution 127\n",
        "\n",
        "주민번호 = input(\"주민등록번호: \")\n",
        "주민번호 = 주민번호.split(\"-\")[1]\n",
        "if 주민번호[0] == \"1\" or 주민번호[0] == \"3\":\n",
        "    print(\"남자\")\n",
        "else:\n",
        "    print(\"여자\")"
      ],
      "metadata": {
        "colab": {
          "base_uri": "https://localhost:8080/"
        },
        "id": "EnH1V5EsfVQT",
        "outputId": "26fe1ed4-2f48-403d-ce1a-4fe8ab23b428"
      },
      "execution_count": null,
      "outputs": [
        {
          "output_type": "stream",
          "name": "stdout",
          "text": [
            "주민등록번호: 931211-1163910\n",
            "남자\n"
          ]
        }
      ]
    },
    {
      "cell_type": "code",
      "source": [
        "# Solution 128\n",
        "\n",
        "주민번호 = input(\"주민등록번호: \")\n",
        "뒷자리 = 주민번호.split(\"-\")[1]\n",
        "if 0 <= int(뒷자리[1:3]) <= 8:\n",
        "    print(\"서울입니다.\")\n",
        "else:\n",
        "    print(\"서울이 아닙니다.\")"
      ],
      "metadata": {
        "colab": {
          "base_uri": "https://localhost:8080/"
        },
        "id": "47kTVEbAfVVa",
        "outputId": "9172bc7e-61ea-4aa7-cf5d-a2ffb9176516"
      },
      "execution_count": null,
      "outputs": [
        {
          "output_type": "stream",
          "name": "stdout",
          "text": [
            "주민등록번호: 931211-1163910\n",
            "서울이 아닙니다.\n"
          ]
        }
      ]
    },
    {
      "cell_type": "code",
      "source": [
        "# Solution 129\n",
        "\n",
        "num = input(\"주민등록번호: \")\n",
        "계산1 = int(num[0]) * 2 + int(num[1]) * 3 + int(num[2]) * 4 + int(num[3]) * 5 + int(num[4]) * 6 + \\\n",
        "        int(num[5]) * 7 + int(num[7]) * 8 + int(num[8]) * 9 + int(num[9]) * 2 + int(num[10])* 3 + \\\n",
        "        int(num[11])* 4 + int(num[12]) * 5\n",
        "계산2 = 11 - (계산1 % 11)\n",
        "계산3 = str(계산2)\n",
        "\n",
        "if num[-1] == 계산3[-1]:\n",
        "    print(\"유효한 주민등록번호입니다.\")\n",
        "else:\n",
        "    print(\"유효하지 않은 주민등록번호입니다.\")"
      ],
      "metadata": {
        "colab": {
          "base_uri": "https://localhost:8080/"
        },
        "id": "_qFow_IKfVa-",
        "outputId": "e550c21f-fddc-4cb5-b2c2-1ac6feaf73a6"
      },
      "execution_count": null,
      "outputs": [
        {
          "output_type": "stream",
          "name": "stdout",
          "text": [
            "주민등록번호: 931211-1163910\n",
            "유효한 주민등록번호입니다.\n"
          ]
        }
      ]
    },
    {
      "cell_type": "code",
      "source": [
        "# Solution 130\n",
        "\n",
        "import requests\n",
        "btc = requests.get(\"https://api.bithumb.com/public/ticker/\").json()['data']\n",
        "\n",
        "변동폭 = float(btc['max_price']) - float(btc['min_price'])\n",
        "시가 = float(btc['opening_price'])\n",
        "최고가 = float(btc['max_price'])\n",
        "\n",
        "if (시가+변동폭) > 최고가:\n",
        "    print(\"상승장\")\n",
        "else:\n",
        "    print(\"하락장\")\n"
      ],
      "metadata": {
        "colab": {
          "base_uri": "https://localhost:8080/"
        },
        "id": "aDxh_oGBfVfn",
        "outputId": "67dbcc9a-eb47-4ea3-998b-3cf84516de52"
      },
      "execution_count": null,
      "outputs": [
        {
          "output_type": "stream",
          "name": "stdout",
          "text": [
            "상승장\n"
          ]
        }
      ]
    }
  ]
}