{
 "cells": [
  {
   "cell_type": "code",
   "execution_count": 4,
   "id": "304552fa",
   "metadata": {},
   "outputs": [
    {
     "name": "stdout",
     "output_type": "stream",
     "text": [
      "{'메로나': [300, 20], '비비빅': [400, 3], '죠스바': [250, 100]}\n"
     ]
    },
    {
     "data": {
      "text/plain": [
       "dict"
      ]
     },
     "execution_count": 4,
     "metadata": {},
     "output_type": "execute_result"
    }
   ],
   "source": [
    "# Solution 91\n",
    "\n",
    "inventory = {\"메로나\":[300, 20], \"비비빅\":[400, 3], \"죠스바\":[250, 100]}\n",
    "\n",
    "print(inventory)\n",
    "type(inventory)"
   ]
  },
  {
   "cell_type": "code",
   "execution_count": 22,
   "id": "fa79c6e8",
   "metadata": {},
   "outputs": [
    {
     "name": "stdout",
     "output_type": "stream",
     "text": [
      "300 원\n"
     ]
    }
   ],
   "source": [
    "# Solution 92\n",
    "\n",
    "inventory = {\"메로나\":[300, 20], \"비비빅\":[400, 3], \"죠스바\":[250, 100]}\n",
    "\n",
    "print(inventory[\"메로나\"][0],\"원\")"
   ]
  },
  {
   "cell_type": "code",
   "execution_count": 25,
   "id": "07d2883b",
   "metadata": {},
   "outputs": [
    {
     "name": "stdout",
     "output_type": "stream",
     "text": [
      "20 개\n"
     ]
    }
   ],
   "source": [
    "# Solution 93\n",
    "\n",
    "inventory = {\"메로나\":[300, 20], \"비비빅\":[400, 3], \"죠스바\":[250, 100]}\n",
    "\n",
    "print(inventory[\"메로나\"][1],\"개\")"
   ]
  },
  {
   "cell_type": "code",
   "execution_count": 31,
   "id": "228348b4",
   "metadata": {},
   "outputs": [
    {
     "name": "stdout",
     "output_type": "stream",
     "text": [
      "{'메로나': [300, 20], '비비빅': [400, 3], '죠스바': [250, 100], '월드콘': [500, 7]}\n"
     ]
    }
   ],
   "source": [
    "# Solution 94\n",
    "\n",
    "inventory = {\"메로나\":[300, 20], \"비비빅\":[400, 3], \"죠스바\":[250, 100]}\n",
    "\n",
    "inventory[\"월드콘\"] = [500, 7]\n",
    "\n",
    "print(inventory)"
   ]
  },
  {
   "cell_type": "code",
   "execution_count": 35,
   "id": "919f5e18",
   "metadata": {},
   "outputs": [
    {
     "data": {
      "text/plain": [
       "dict_keys(['탱크보이', '폴라포', '빵빠레', '월드콘', '메로나'])"
      ]
     },
     "execution_count": 35,
     "metadata": {},
     "output_type": "execute_result"
    }
   ],
   "source": [
    "# Solution 95\n",
    "\n",
    "icecream = {'탱크보이': 1200, '폴라포': 1200, '빵빠레': 1800, '월드콘': 1500, '메로나': 1000}\n",
    "\n",
    "icecream.keys()"
   ]
  },
  {
   "cell_type": "code",
   "execution_count": 36,
   "id": "839429a0",
   "metadata": {},
   "outputs": [
    {
     "data": {
      "text/plain": [
       "dict_values([1200, 1200, 1800, 1500, 1000])"
      ]
     },
     "execution_count": 36,
     "metadata": {},
     "output_type": "execute_result"
    }
   ],
   "source": [
    "# Solution 96\n",
    "\n",
    "icecream = {'탱크보이': 1200, '폴라포': 1200, '빵빠레': 1800, '월드콘': 1500, '메로나': 1000}\n",
    "\n",
    "icecream.values()"
   ]
  },
  {
   "cell_type": "code",
   "execution_count": 40,
   "id": "ee1efc7c",
   "metadata": {},
   "outputs": [
    {
     "name": "stdout",
     "output_type": "stream",
     "text": [
      "6700\n"
     ]
    }
   ],
   "source": [
    "# Solution 97\n",
    "\n",
    "icecream = {'탱크보이': 1200, '폴라포': 1200, '빵빠레': 1800, '월드콘': 1500, '메로나': 1000}\n",
    "\n",
    "print(sum(icecream.values()))"
   ]
  },
  {
   "cell_type": "code",
   "execution_count": 42,
   "id": "63a76562",
   "metadata": {},
   "outputs": [
    {
     "name": "stdout",
     "output_type": "stream",
     "text": [
      "{'탱크보이': 1200, '폴라포': 1200, '빵빠레': 1800, '월드콘': 1500, '메로나': 1000, '팥빙수': 2700, '아맛나': 1000}\n"
     ]
    }
   ],
   "source": [
    "# Solution 98\n",
    "\n",
    "icecream = {'탱크보이': 1200, '폴라포': 1200, '빵빠레': 1800, '월드콘': 1500, '메로나': 1000}\n",
    "\n",
    "new_product = {'팥빙수':2700, '아맛나':1000}\n",
    "\n",
    "icecream.update(new_product)\n",
    "\n",
    "print(icecream)"
   ]
  },
  {
   "cell_type": "code",
   "execution_count": 45,
   "id": "a342b960",
   "metadata": {},
   "outputs": [
    {
     "name": "stdout",
     "output_type": "stream",
     "text": [
      "{'apple': 300, 'pear': 250, 'peach': 400}\n"
     ]
    }
   ],
   "source": [
    "# Solution 99\n",
    "\n",
    "keys = (\"apple\", \"pear\", \"peach\")\n",
    "vals = (300, 250, 400)\n",
    "\n",
    "result=dict(zip(keys, vals))\n",
    "\n",
    "print(result)"
   ]
  },
  {
   "cell_type": "code",
   "execution_count": 47,
   "id": "ccae1d55",
   "metadata": {},
   "outputs": [
    {
     "name": "stdout",
     "output_type": "stream",
     "text": [
      "{'09/05': 10500, '09/06': 10300, '09/07': 10100, '09/08': 10800, '09/09': 11000}\n"
     ]
    }
   ],
   "source": [
    "# Solution 100\n",
    "\n",
    "date = ['09/05', '09/06', '09/07', '09/08', '09/09']\n",
    "close_price = [10500, 10300, 10100, 10800, 11000]\n",
    "\n",
    "close_table = dict(zip(date, close_price))\n",
    "print(close_table)"
   ]
  },
  {
   "cell_type": "code",
   "execution_count": null,
   "id": "0a60a823",
   "metadata": {},
   "outputs": [],
   "source": [
    "# Solution 101\n",
    "\n",
    "불(bool) 자료형, 참(True)과 거짓(False)를 나타내는 자료형"
   ]
  },
  {
   "cell_type": "code",
   "execution_count": 48,
   "id": "088e954f",
   "metadata": {},
   "outputs": [
    {
     "name": "stdout",
     "output_type": "stream",
     "text": [
      "False\n"
     ]
    }
   ],
   "source": [
    "# Solution 102\n",
    "\n",
    "print(3 == 5)\n",
    "\n",
    "# 참이 아니므로, False"
   ]
  },
  {
   "cell_type": "code",
   "execution_count": 49,
   "id": "2f3ef1c9",
   "metadata": {},
   "outputs": [
    {
     "name": "stdout",
     "output_type": "stream",
     "text": [
      "True\n"
     ]
    }
   ],
   "source": [
    "# Solution 103\n",
    "\n",
    "print(3 < 5)\n",
    "\n",
    "# 참이 아니므로, False"
   ]
  },
  {
   "cell_type": "code",
   "execution_count": 50,
   "id": "672087fa",
   "metadata": {},
   "outputs": [
    {
     "name": "stdout",
     "output_type": "stream",
     "text": [
      "True\n"
     ]
    }
   ],
   "source": [
    "# Solution 104\n",
    "\n",
    "x = 4\n",
    "\n",
    "print(1 < x < 5)\n",
    "\n",
    "# 참 이므로, True"
   ]
  },
  {
   "cell_type": "code",
   "execution_count": 51,
   "id": "9b9114db",
   "metadata": {},
   "outputs": [
    {
     "name": "stdout",
     "output_type": "stream",
     "text": [
      "True\n"
     ]
    }
   ],
   "source": [
    "# Solution 105\n",
    "\n",
    "print((3 == 3)and (4 != 3))\n",
    "\n",
    "# 3은 3과 같다, 그리고 4는 3과 같지 않다는 참 이므로, True"
   ]
  },
  {
   "cell_type": "code",
   "execution_count": 63,
   "id": "3e5d20d0",
   "metadata": {},
   "outputs": [
    {
     "ename": "SyntaxError",
     "evalue": "expression cannot contain assignment, perhaps you meant \"==\"? (1547066045.py, line 3)",
     "output_type": "error",
     "traceback": [
      "\u001b[1;36m  File \u001b[1;32m\"C:\\Users\\Public\\Documents\\ESTsoft\\CreatorTemp\\ipykernel_43528\\1547066045.py\"\u001b[1;36m, line \u001b[1;32m3\u001b[0m\n\u001b[1;33m    print(3 => 4)\u001b[0m\n\u001b[1;37m          ^\u001b[0m\n\u001b[1;31mSyntaxError\u001b[0m\u001b[1;31m:\u001b[0m expression cannot contain assignment, perhaps you meant \"==\"?\n"
     ]
    }
   ],
   "source": [
    "# Solution 106\n",
    "\n",
    "print(3 => 4)\n",
    "\n",
    "# 먼저, 부등호가 위치해야 함.\n",
    "\n",
    "# 따라서,print(3 >= 4)는 가능함."
   ]
  },
  {
   "cell_type": "code",
   "execution_count": 54,
   "id": "06d0a6da",
   "metadata": {},
   "outputs": [],
   "source": [
    "# Solution 107\n",
    "\n",
    "if 4 < 3:\n",
    "    print(\"Hello World\")\n",
    "    \n",
    "# 4는 3보다 크기 때문에, 조건에 맞지 않는 else 문장이 있다면 출력되지만 이 경우 없으므로 출력이 안됨."
   ]
  },
  {
   "cell_type": "code",
   "execution_count": 55,
   "id": "4670a3e9",
   "metadata": {},
   "outputs": [
    {
     "name": "stdout",
     "output_type": "stream",
     "text": [
      "Hi, there.\n"
     ]
    }
   ],
   "source": [
    "# Solution 108\n",
    "\n",
    "if 4 < 3:\n",
    "    print(\"Hello World.\")\n",
    "else:\n",
    "    print(\"Hi, there.\")\n",
    "    \n",
    "# 4는 3보다 크기 때문에, 조건에 맞지 않는 else의 문장이 출력됨."
   ]
  },
  {
   "cell_type": "code",
   "execution_count": 56,
   "id": "2683c9b4",
   "metadata": {},
   "outputs": [
    {
     "name": "stdout",
     "output_type": "stream",
     "text": [
      "1\n",
      "2\n",
      "4\n"
     ]
    }
   ],
   "source": [
    "# Solution 109\n",
    "\n",
    "if True :\n",
    "    print (\"1\") # if문의 True 이므로 출력함.\n",
    "    print (\"2\") # if문의 True 이므로 출력함.\n",
    "else : \n",
    "    print (\"3\") # if문의 False 이므로 출력하지 않음.\n",
    "print(\"4\") # if문에 들어가지 않으므로 출력함.\n"
   ]
  },
  {
   "cell_type": "code",
   "execution_count": 65,
   "id": "f4a73712",
   "metadata": {},
   "outputs": [
    {
     "name": "stdout",
     "output_type": "stream",
     "text": [
      "3\n",
      "5\n"
     ]
    }
   ],
   "source": [
    "# Solution 110\n",
    "\n",
    "if True :\n",
    "    if False:\n",
    "        print(\"1\") # if문의 False 이므로 출력하지 않음.\n",
    "        print(\"2\") # if문의 False 이므로 출력하지 않음.\n",
    "    else:\n",
    "        print(\"3\") # if문의 True 이므로 출력함.\n",
    "else :\n",
    "    print(\"4\") # if문의 False 이므로 출력하지 않음.\n",
    "print(\"5\") # if문에 들어가지 않으므로 출력함.\n",
    "\n",
    "# "
   ]
  }
 ],
 "metadata": {
  "kernelspec": {
   "display_name": "Python 3 (ipykernel)",
   "language": "python",
   "name": "python3"
  },
  "language_info": {
   "codemirror_mode": {
    "name": "ipython",
    "version": 3
   },
   "file_extension": ".py",
   "mimetype": "text/x-python",
   "name": "python",
   "nbconvert_exporter": "python",
   "pygments_lexer": "ipython3",
   "version": "3.9.13"
  }
 },
 "nbformat": 4,
 "nbformat_minor": 5
}
